{
 "cells": [
  {
   "cell_type": "code",
   "execution_count": 19,
   "metadata": {},
   "outputs": [
    {
     "name": "stdout",
     "output_type": "stream",
     "text": [
      "Collecting prettytable\n",
      "  Downloading prettytable-3.9.0-py3-none-any.whl.metadata (26 kB)\n",
      "Requirement already satisfied: wcwidth in /Users/hitaximistry/Library/Python/3.11/lib/python/site-packages (from prettytable) (0.2.8)\n",
      "Downloading prettytable-3.9.0-py3-none-any.whl (27 kB)\n",
      "Installing collected packages: prettytable\n",
      "Successfully installed prettytable-3.9.0\n",
      "\n",
      "\u001b[1m[\u001b[0m\u001b[34;49mnotice\u001b[0m\u001b[1;39;49m]\u001b[0m\u001b[39;49m A new release of pip is available: \u001b[0m\u001b[31;49m23.3\u001b[0m\u001b[39;49m -> \u001b[0m\u001b[32;49m23.3.1\u001b[0m\n",
      "\u001b[1m[\u001b[0m\u001b[34;49mnotice\u001b[0m\u001b[1;39;49m]\u001b[0m\u001b[39;49m To update, run: \u001b[0m\u001b[32;49mpython3.11 -m pip install --upgrade pip\u001b[0m\n",
      "Note: you may need to restart the kernel to use updated packages.\n"
     ]
    }
   ],
   "source": [
    "%pip install prettytable"
   ]
  },
  {
   "cell_type": "code",
   "execution_count": 34,
   "metadata": {},
   "outputs": [],
   "source": [
    "# Importing the libraries\n",
    "from pymongo import MongoClient\n",
    "import json\n",
    "from datetime import datetime\n",
    "from prettytable import PrettyTable"
   ]
  },
  {
   "cell_type": "code",
   "execution_count": 35,
   "metadata": {},
   "outputs": [],
   "source": [
    "# Database name and collections\n",
    "DATABASE_NAME = \"e_commerce\"\n",
    "COLLECTION_LIST = [\"Users\", \"Categories\", \"Products\", \"Orders\", \"OrderDetails\", \"Transactions\", \"Reviews\", \"Inventory\", \"Shipping\"]"
   ]
  },
  {
   "cell_type": "markdown",
   "metadata": {},
   "source": [
    "#### Schema"
   ]
  },
  {
   "cell_type": "markdown",
   "metadata": {},
   "source": [
    "Users (user_id (pk), username, email, password, first_name, last_name, address, phone_number, user_registration_date (pk))\n",
    "vertical fragmentation for users_info\n",
    "horizontal fragmentation for registration_date based on ‘2015’\n",
    "\n",
    "Categories (category_id (pk), category_name)\n",
    "\n",
    "Products (product_id (pk), product_name, description, product_price, category_id (fk), product_quantity, created_at, updated_at)\n",
    "vertical fragmentation \n",
    "\n",
    "Orders (order_id (pk), user_id (fk), user_registration_date (fk), order_price, order_date)\n",
    "\n",
    "OrderDetails (order_detail_id (pk), order_id (fk), product_id (fk), quantity, subtotal)\n",
    "\n",
    "Transactions (transaction_id (pk), order_id (fk), transaction_date, payment_status [pending, declined, accepted, refunded])\n",
    "\n",
    "Reviews (review_id (pk), product_id (fk), user_id (fk), user_registration_date (fk), rating, review_text, created_at) \n",
    "\n",
    "Inventory (product_id (fk), inventory_id (pk), warehouse_location, stock_quantity, created_at)\n",
    "\n",
    "Shipping (shipping_id (pk), order_id (fk), status [order_packed, awaiting_pickup, in_transit, out_for_delivery, delivered], ship_date, estimated_arrival_date, delivered_date)\n"
   ]
  },
  {
   "cell_type": "markdown",
   "metadata": {},
   "source": [
    "# Creating the collections and inserting the mock_data\n"
   ]
  },
  {
   "cell_type": "code",
   "execution_count": 3,
   "metadata": {},
   "outputs": [],
   "source": [
    "if __name__ == '__main__':\n",
    "    # database name E_commerce\n",
    "    db = MongoClient().e_commerce"
   ]
  },
  {
   "cell_type": "code",
   "execution_count": 36,
   "metadata": {},
   "outputs": [],
   "source": [
    "db = MongoClient().e_commerce"
   ]
  },
  {
   "cell_type": "markdown",
   "metadata": {},
   "source": [
    "#### Users"
   ]
  },
  {
   "cell_type": "code",
   "execution_count": 10,
   "metadata": {},
   "outputs": [],
   "source": [
    "#users_collection.delete_many({})"
   ]
  },
  {
   "cell_type": "markdown",
   "metadata": {},
   "source": [
    "### Create"
   ]
  },
  {
   "cell_type": "code",
   "execution_count": 131,
   "metadata": {},
   "outputs": [
    {
     "data": {
      "text/plain": [
       "<pymongo.results.DeleteResult at 0x115cfb5b0>"
      ]
     },
     "execution_count": 131,
     "metadata": {},
     "output_type": "execute_result"
    }
   ],
   "source": [
    "#users_collection.delete_many({})"
   ]
  },
  {
   "cell_type": "code",
   "execution_count": 132,
   "metadata": {},
   "outputs": [
    {
     "name": "stdout",
     "output_type": "stream",
     "text": [
      "<pymongo.results.InsertManyResult object at 0x114a36ef0>\n",
      "Data inserted successfully!\n"
     ]
    }
   ],
   "source": [
    "# Insert data into Users collection\n",
    "#users_collection.delete_many({})\n",
    "users_collection = db[\"Users\"]\n",
    "\n",
    "# Load mock data from a JSON file\n",
    "with open('users_mock_data.json', 'r') as file:\n",
    "    mock_data = json.load(file)\n",
    "\n",
    "insert_result = users_collection.insert_many(mock_data)\n",
    "\n",
    "print(insert_result)\n",
    "print(\"Data inserted successfully!\")"
   ]
  },
  {
   "cell_type": "code",
   "execution_count": 133,
   "metadata": {},
   "outputs": [
    {
     "name": "stdout",
     "output_type": "stream",
     "text": [
      "+---------+----------------+-------------------------------------+------------------+------------+-------------+-------------------------+--------------+------------------------+\n",
      "| user_id |    username    |                email                |     password     | first_name |  last_name  |         address         | phone_number | user_registration_date |\n",
      "+---------+----------------+-------------------------------------+------------------+------------+-------------+-------------------------+--------------+------------------------+\n",
      "|    1    |   pweldrick0   |          pweldrick0@umn.edu         |    nX6$e4f6%W    | Petronille |   Weldrick  |   32 Summerview Drive   | 178-231-1600 |       8/16/2004        |\n",
      "|    2    |   hdietzler1   |        hdietzler1@tripod.com        |  cG6{qc|obCrQP   |   Harri    |   Dietzler  |   129 Menomonie Point   | 748-155-8454 |       4/12/2009        |\n",
      "|    3    | mhammerstone2  |      mhammerstone2@blogspot.com     | eI2??w$5y@jHTyb/ |  Marcella  | Hammerstone |     4 Heath Crossing    | 827-699-4886 |        8/7/2005        |\n",
      "|    4    |     iyemm3     |           iyemm3@webs.com           |    cO1<v.REES    |    Iver    |     Yemm    | 51665 Briar Crest Plaza | 526-922-1558 |       11/3/2017        |\n",
      "|    5    |    ssimco4     |         ssimco4@japanpost.jp        |    lP2_DUVZZ4    |   Sharai   |    Simco    |     1 Surrey Center     | 942-696-1060 |       11/10/2010       |\n",
      "|    6    |   rgrafton5    |        rgrafton5@trellian.com       |  xG2&o75#)G*5({  |  Reynard   |   Grafton   |    627 Maryland Point   | 384-439-4936 |       8/22/2003        |\n",
      "|    7    |    wharlow6    |       wharlow6@cloudflare.com       |     oQ7!.X5'     |   Wileen   |    Harlow   |    9433 Kennedy Trail   | 478-829-6505 |       10/18/2012       |\n",
      "|    8    |    jlouden7    |        jlouden7@marriott.com        |    hU3?pxwMs~    |  Jamison   |    Louden   |    29464 Chive Street   | 333-630-1669 |       5/24/2020        |\n",
      "|    9    |    abrute8     |          abrute8@jigsy.com          |    rE4$m&C*p     |  Alexina   |    Brute    |  050 Burning Wood Point | 779-325-8536 |       9/23/2016        |\n",
      "|    10   |  mclutheram9   |         mclutheram9@psu.edu         | fE8`'i$9E/X?S{9J |   Marty    |  Clutheram  |  86 Birchwood Crossing  | 864-205-7744 |        1/5/2004        |\n",
      "|    11   |   gzammetta    |         gzammetta@skype.com         |   zS6_+3.28Tv    |  Gilberte  |   Zammett   |   005 Butterfield Pass  | 685-849-3467 |       6/18/2020        |\n",
      "|    12   |    ejarleyb    |        ejarleyb@usatoday.com        |    gD3&M<QQop    | Ezmeralda  |    Jarley   |   643 Macpherson Court  | 263-400-8785 |        2/5/2003        |\n",
      "|    13   |    sjosefsc    |        sjosefsc@tuttocitta.it       |   gW8=eqW4r\"@s   |   Shanda   |    Josefs   |  62645 Kingsford Avenue | 446-487-5435 |       6/27/2011        |\n",
      "|    14   |   ncoulstond   |          ncoulstond@ucoz.ru         |  uM8`kyKSh`cF&   |  Nicolai   |   Coulston  |      082 Mayer Road     | 785-353-4521 |       6/23/2000        |\n",
      "|    15   |  akarczinskie  |        akarczinskie@ucsd.edu        |   hL7.T(DqzVA+   |   Archy    |  Karczinski |   8949 Lillian Terrace  | 696-134-3893 |       10/10/2010       |\n",
      "|    16   |  msimonazzif   |       msimonazzif@symantec.com      |   oA7=C&N2l)HW   | Maribelle  |  Simonazzi  |    9717 Memorial Way    | 303-166-4753 |       3/11/2022        |\n",
      "|    17   |   hjeakinsg    |          hjeakinsg@free.fr          |   zC2%bk/IxrNg   |  Helenka   |   Jeakins   |       15 Vera Hill      | 595-742-5877 |       3/28/2008        |\n",
      "|    18   |    tgatherh    |        tgatherh@cbslocal.com        |    pQ0$\"zLFn     |   Tanny    |    Gather   |     5514 Luster Road    | 762-321-8649 |       6/29/2018        |\n",
      "|    19   |   cgittensi    |         cgittensi@ustream.tv        | iP5*w9>r4j1Q\\b5  |   Carma    |   Gittens   |    77057 Heath Point    | 556-128-9657 |        6/8/2021        |\n",
      "|    20   |    sbenoij     |           sbenoij@mit.edu           | bK9'W\\3`nJ*}fI9  |   Shermy   |    Benoi    |   609 Pine View Court   | 796-100-1479 |        2/8/2021        |\n",
      "|    21   |   scouronnek   |         scouronnek@desdev.cn        |    yA6@1SpB)     |   Sayer    |   Couronne  |      4 Mcbride Lane     | 371-700-7450 |       11/24/2018       |\n",
      "|    22   |   sahreniusl   |     sahreniusl@timesonline.co.uk    | rA2%Zfs+\"56YIRM( |   Sheff    |   Ahrenius  |  7 Charing Cross Place  | 590-649-4793 |       7/11/2018        |\n",
      "|    23   |    kbeddonm    |        kbeddonm@symantec.com        |   yW0<8X\"UBTR    |   Katey    |    Beddon   |  25114 Longview Parkway | 183-479-3411 |       11/2/2017        |\n",
      "|    24   |   clipgensn    |          clipgensn@fc2.com          |    eS7!8iN|O     |   Cordy    |   Lipgens   |   605 Harper Crossing   | 200-914-3993 |        8/6/2005        |\n",
      "|    25   |   cbirtleso    |         cbirtleso@nifty.com         |     bA5+J{Ny     | Charlotta  |   Birtles   |    9929 Eliot Center    | 701-808-3572 |       8/23/2020        |\n",
      "|    26   |   mosharkeyp   |       mosharkeyp@china.com.cn       |   cG7\\>}ELRb,    |    Myer    |  O'Sharkey  |     8510 Ryan Point     | 516-572-8127 |       11/11/2000       |\n",
      "|    27   |   wgoodludq    |         wgoodludq@slate.com         | qD6@85o<8%}\\sl(o |  Winthrop  |   Goodlud   |    65 Bellgrove Hill    | 599-183-8031 |        9/9/2021        |\n",
      "|    28   |  bsimchenkor   |        bsimchenkor@desdev.cn        |     fN0!{4p&     |  Brendan   |  Simchenko  |     741 Hanson Point    | 826-918-9106 |       12/12/2007       |\n",
      "|    29   |    ddudneys    |          ddudneys@youtu.be          |   rR4(0l_0Z+cd   |  Doralynn  |    Dudney   |   9511 Springview Park  | 255-947-0844 |       2/18/2005        |\n",
      "|    30   |    rnortht     |      rnortht@chicagotribune.com     |  xE0~?9ns$fyCq'  |   Ronni    |    North    |     36 Dunning Point    | 318-958-8625 |       1/31/2020        |\n",
      "|    31   |     gburnu     |           gburnu@weibo.com          |    eZ4<SeP31~    |   Georas   |     Burn    |    4 Sutherland Alley   | 227-597-5252 |        3/6/2000        |\n",
      "|    32   |    gorwinv     |           gorwinv@fc2.com           |   yE1@|H*bKl/D   |   Garold   |    Orwin    |   111 Sutteridge Place  | 975-570-3132 |       12/14/2022       |\n",
      "|    33   |  klimeburnerw  |   klimeburnerw@chicagotribune.com   |    eT8`Rk54R     |  Klarika   |  Limeburner |   46 Prairieview Trail  | 394-168-6141 |       1/11/2020        |\n",
      "|    34   |   taldcornex   |         taldcornex@cisco.com        |     uP6`*&1y     |    Theo    |   Aldcorne  |  307 Ridge Oak Junction | 480-941-7018 |       4/18/2000        |\n",
      "|    35   |     tkeriy     |          tkeriy@arizona.edu         |   yI4`nc6Pg<*!   |   Tyrus    |     Keri    |    79293 Kropf Street   | 834-363-7443 |       2/19/2013        |\n",
      "|    36   |   emakinsonz   |       emakinsonz@princeton.edu      |  qT6(,.C9*7(0kH  |   Emlyn    |   Makinson  |    0438 Shelley Alley   | 447-439-2180 |       1/26/2005        |\n",
      "|    37   |    emort10     |            emort10@wp.com           |  zG6}Ua3g\\u5~W,  | Enriqueta  |     Mort    |     5738 2nd Avenue     | 837-837-1494 |       9/11/2000        |\n",
      "|    38   | tbrakespear11  |       tbrakespear11@hc360.com       |  qX4>`?RTQCS.t   |   Tracee   |  Brakespear |   12311 Transport Way   | 541-876-5844 |       2/28/2014        |\n",
      "|    39   |    mboake12    |      mboake12@odnoklassniki.ru      |    oO3\\2\"&`b     |  Marylin   |    Boake    |   69458 Eastwood Park   | 392-352-1690 |       9/12/2019        |\n",
      "|    40   |   hdungee13    |           hdungee13@va.gov          | hN1+IJXY/P*pxnE  | Henderson  |    Dungee   |     9 Elmside Plaza     | 880-926-1715 |       8/29/2022        |\n",
      "|    41   |  chawkshaw14   |         chawkshaw14@hibu.com        |   fP6'7#Dk`O7    |   Cullie   |   Hawkshaw  |   54764 Scoville Park   | 171-698-9234 |        1/8/2002        |\n",
      "|    42   |   mwoonton15   |          mwoonton15@nih.gov         |     eI4+J&HS     |   Marty    |   Woonton   |      088 Gale Drive     | 617-530-2989 |       1/11/2004        |\n",
      "|    43   |   abearne16    |         abearne16@tripod.com        |    rC4{KkZ_F     |   Abramo   |    Bearne   |    9294 Heath Street    | 537-856-1454 |       4/19/2005        |\n",
      "|    44   |  aleckenby17   |     aleckenby17@kickstarter.com     |  lR1<?fkzYV)ot,  |    Anya    |   Leckenby  |    85253 Harbort Lane   | 761-791-8909 |       5/10/2019        |\n",
      "|    45   |   wwhyffen18   |         wwhyffen18@cisco.com        |   aC8!Eq+Ob6%E   |    Wit     |   Whyffen   |    5 Pierstorff Hill    | 527-841-2723 |        9/4/2023        |\n",
      "|    46   |   ddorward19   |       ddorward19@columbia.edu       |   xC4&f,o%Ggvz   |  Delaney   |   Dorward   |     96 Daystar Point    | 312-802-5140 |       10/5/2005        |\n",
      "|    47   |  kghirardi1a   |         kghirardi1a@ask.com         |   nA6~NHU6a.h5   |   Kayne    |   Ghirardi  |    08 Fair Oaks Drive   | 107-628-4685 |       10/28/2002       |\n",
      "|    48   |   abezant1b    |        abezant1b@geocities.jp       |   lV8(RA4/K49{   |  Abrahan   |    Bezant   |    477 Lotheville Way   | 171-725-1189 |        2/8/2004        |\n",
      "|    49   |    bspira1c    |        bspira1c@multiply.com        |   vK3\\KTWVCp0    |  Bobbette  |    Spira    |    91223 Jenna Street   | 338-768-0600 |        7/9/2020        |\n",
      "|    50   |   ghillaby1d   |        ghillaby1d@meetup.com        |   nK0|WSW0'~0Y   |  Georgie   |   Hillaby   |    955 Ridgeview Lane   | 710-212-9299 |       1/25/2018        |\n",
      "|    51   |   awatman1e    |        awatman1e@multiply.com       | xK8~Q5r=e=aB,*x  |  Adriana   |    Watman   |     3993 Larry Park     | 917-313-7416 |       7/17/2011        |\n",
      "|    52   |   mcarlile1f   |         mcarlile1f@ocn.ne.jp        |    aW1,j3UPCq    |    Mag     |   Carlile   |   4 Golden Leaf Center  | 605-776-0508 |       6/15/2010        |\n",
      "|    53   |  wbonifazio1g  |          wbonifazio1g@51.la         |  kQ6(_@7DMk(,UD  |   Worth    |  Bonifazio  |    3148 Bluestem Hill   | 110-510-4853 |       7/18/2002        |\n",
      "|    54   | bmacgettigen1h |      bmacgettigen1h@senate.gov      |  uW5&AJBS1>o`)P  |  Brittni   | MacGettigen |  71619 Del Mar Junction | 633-327-4910 |       11/20/2020       |\n",
      "|    55   | hbillingsley1i |       hbillingsley1i@ucoz.com       |    jA8\\$#LIq     |   Hurlee   | Billingsley |    969 Michigan Park    | 392-584-3342 |       11/21/2022       |\n",
      "|    56   |  tfairbrace1j  |      tfairbrace1j@clickbank.net     |   qA4>j{2ML*8    |   Tadeas   |  Fairbrace  |  65177 Dennis Junction  | 414-210-3012 |       12/17/2004       |\n",
      "|    57   |   dbernard1k   |        dbernard1k@tinypic.com       |  mF5}GLIH_&Z{8   |   Dotti    |   Bernard   |  987 Golf Course Trail  | 742-123-3820 |        5/6/2014        |\n",
      "|    58   |  alaughlin1l   |     alaughlin1l@dagondesign.com     |  aR0_U>\\\\77+Lp   |    Ave     |   Laughlin  |     46 Browning Road    | 359-738-5769 |       12/31/2011       |\n",
      "|    59   |  ldevillier1m  |       ldevillier1m@zimbio.com       |   kM2`=CB9tf2    |  Leighton  |  de Villier |    85 Forest Run Pass   | 762-304-3722 |       4/22/2017        |\n",
      "|    60   |   lknutton1n   |       lknutton1n@usatoday.com       |  oW5(M~5{VT=bx!  |    Lem     |   Knutton   |    914 Trailsway Hill   | 888-216-6018 |       4/17/2014        |\n",
      "|    61   |  hmcarthur1o   |     hmcarthur1o@ycombinator.com     | zR7'6!=q13*2t@Vb |   Hetty    |   McArthur  |    32 Westridge Trail   | 861-631-3514 |       1/28/2019        |\n",
      "|    62   |   amacian1p    |          amacian1p@dot.gov          |  aF2}P|wmF}EB6*  |    Ada     |    MacIan   |     5 Melrose Alley     | 229-825-9117 |        6/6/2021        |\n",
      "|    63   |  stombleson1q  |     stombleson1q@cloudflare.com     |   bW8)''c\\nRh    |  Sarajane  |  Tombleson  |      65 Sloan Court     | 902-588-3204 |       5/14/2015        |\n",
      "|    64   |   ctibbles1r   |      ctibbles1r@guardian.co.uk      |   fD6!4H0>2|{X   | Constanta  |   Tibbles   |    23 Kinsman Circle    | 111-945-7456 |       10/3/2003        |\n",
      "|    65   |   zreston1s    |        zreston1s@youtube.com        |   eU9(EI4t!b<T   |   Zaneta   |    Reston   |    075 Vernon Center    | 452-685-2073 |       11/20/2015       |\n",
      "|    66   |  deldershaw1t  |       deldershaw1t@spotify.com      | oW5#7h~)z/D$F&/  |   Dmitri   |  Eldershaw  |  1034 Autumn Leaf Court | 876-266-0691 |       11/1/2013        |\n",
      "|    67   |  cdarlasson1u  |      cdarlasson1u@artisteer.com     |  sX9_~RCDePwqg   |   Colin    |  Darlasson  |      8583 Scott Way     | 994-231-8612 |       4/25/2013        |\n",
      "|    68   |   cgolson1v    |       cgolson1v@amazonaws.com       | oI8|gsdKS=B?yjL  |    Cobb    |    Golson   |    6 Old Shore Avenue   | 726-486-7958 |       3/28/2003        |\n",
      "|    69   |   clealle1w    |      clealle1w@sourceforge.net      | zQ2!R$`*x%yE{Rb  |   Chane    |    Lealle   |   32 Eagle Crest Trail  | 823-275-9206 |        4/3/2012        |\n",
      "|    70   |    wgives1x    |           wgives1x@wp.com           |     rV2\"(#O\"     |    Wyn     |    Gives    |    3 Sunnyside Circle   | 445-207-1496 |       5/24/2010        |\n",
      "|    71   |  jdesimoni1y   |     jdesimoni1y@chronoengine.com    |    kT8}L&_5S     |   Johnna   |  De Simoni  |    183 Springs Circle   | 298-571-8231 |       11/20/2006       |\n",
      "|    72   |   hnayshe1z    |        hnayshe1z@multiply.com       |    wR8_(F<t)     |   Hastie   |    Nayshe   |      6 Acker Alley      | 356-975-7741 |       12/28/2015       |\n",
      "|    73   |   ffreezer20   |         ffreezer20@ebay.com         | hS1#O}?VK\\J|t{x3 |   Fonzie   |   Freezer   |    409 Calypso Alley    | 916-193-5839 |       12/11/2021       |\n",
      "|    74   |  mwoollhead21  | mwoollhead21@scientificamerican.com |     uG4$BHhr     | Meredithe  |  Woollhead  |    50 Lerdahl Circle    | 614-551-0912 |       1/21/2012        |\n",
      "|    75   |   ibrusby22    |       ibrusby22@rakuten.co.jp       |     eG7.uJ7<     |   Ingram   |    Brusby   |   6442 Atwood Parkway   | 657-247-2247 |       11/25/2005       |\n",
      "|    76   |   bcorkill23   |       bcorkill23@redcross.org       | gB5_5k_ma!NXKQK  |   Birgit   |   Corkill   |      100 Leroy Way      | 740-914-1825 |       12/7/2019        |\n",
      "|    77   |   dmannagh24   |         dmannagh24@hibu.com         |  vC8<3#nIDdoR/   |  Deloris   |   Mannagh   |     35 Burrows Drive    | 903-392-6527 |       4/18/2003        |\n",
      "|    78   |  cfreeland25   |        cfreeland25@senate.gov       |     mR3@ru<&     |   Conny    |   Freeland  |    23152 Anthes Hill    | 604-635-1297 |       5/30/2002        |\n",
      "|    79   |   robeirne26   |       robeirne26@engadget.com       | qN4{Bq<`}!\"xsn'  |   Regina   |   O'Beirne  |    189 Packers Drive    | 543-595-8020 |       7/18/2009        |\n",
      "|    80   |   tshortt27    |          tshortt27@umn.edu          |   gT2%CcHTX4e7   |    Tedi    |    Shortt   |     7 Talmadge Park     | 135-318-3898 |       7/28/2017        |\n",
      "|    81   |  otreadger28   |       otreadger28@smugmug.com       |   pT9+Z%l,C>Je   |    Opal    |   Treadger  |     58 Quincy Street    | 406-255-5813 |       12/17/2022       |\n",
      "|    82   |    mduell29    |       mduell29@bravesites.com       |    aY8'H\\UVu     |  Margaux   |    Duell    |   716 Donald Crossing   | 402-889-8898 |       2/24/2001        |\n",
      "|    83   |    vallon2a    |         vallon2a@zimbio.com         |    gC9|8tmJ{M    |    Vivi    |    Allon    |     294 Melody Plaza    | 205-484-9924 |       10/14/2008       |\n",
      "|    84   |  mcrathern2b   |        mcrathern2b@devhub.com       | sT6=Zp!GjM'A(Xx  | Millicent  |   Crathern  |     022 Dunning Pass    | 909-572-3244 |       11/22/2002       |\n",
      "|    85   |    hoppie2c    |           hoppie2c@mail.ru          | qV1{$5pGk3u2l3l$ |   Hastie   |    Oppie    |      5758 Hauk Way      | 736-374-4096 |       6/10/2023        |\n",
      "|    86   |   fnendick2d   |     fnendick2d@chronoengine.com     |     jA4\\*!!a     |    Foss    |   Nendick   |    6796 Sunnyside Way   | 520-591-5900 |       3/31/2007        |\n",
      "|    87   |    lpapps2e    |         lpapps2e@devhub.com         |  wP1?1=<a#LL/=   |  Lurleen   |    Papps    |   03 Barnett Junction   | 458-995-8517 |        7/4/2001        |\n",
      "|    88   |    trohlf2f    |        trohlf2f@slashdot.org        |    rX4/_}Q_O     |   Travus   |    Rohlf    |  10906 Comanche Avenue  | 215-123-4640 |        1/6/2018        |\n",
      "|    89   |    mbroek2g    |         mbroek2g@nytimes.com        |    tC4$<,e*D)    |   Maryl    |    Broek    |    916 Reindahl Point   | 704-147-9528 |        9/5/2021        |\n",
      "|    90   |  woconnolly2h  |      woconnolly2h@bloglines.com     |  rH8%p9(0Z3Jte   |  Wilfrid   |  O'Connolly |      9 Merry Plaza      | 913-375-5904 |        5/5/2016        |\n",
      "|    91   |    aferby2i    |        aferby2i@bandcamp.com        |   mT1\\H*=H!A|&   |  Arnaldo   |    Ferby    |      10 6th Avenue      | 103-615-8416 |       11/1/2002        |\n",
      "|    92   |    djaffa2j    |      djaffa2j@elegantthemes.com     |     lD3~gNn_     |  Demetra   |    Jaffa    |   08521 Hansons Point   | 691-387-4650 |       3/22/2011        |\n",
      "|    93   |   aelsbury2k   |        aelsbury2k@cpanel.net        |     pP8,UAds     |   Abbot    |   Elsbury   |   24207 Nevada Street   | 359-256-6952 |        8/6/2021        |\n",
      "|    94   |    eivey2l     |          eivey2l@google.ru          |   yG2+E>5yEVD    |   Eliza    |     Ivey    |  77155 Stuart Junction  | 790-243-0760 |       12/7/2000        |\n",
      "|    95   |  cdrakeford2m  |         cdrakeford2m@home.pl        |  qH7%cLBP!R+r(H  |   Calida   |  Drakeford  |    81 Pleasure Place    | 884-367-0211 |       7/25/2017        |\n",
      "|    96   |  scahillane2n  | scahillane2n@nationalgeographic.com |   bI6\\E$Rf!(#    |   Sonny    |  Cahillane  |      4 Fordem Road      | 397-433-5952 |       1/18/2006        |\n",
      "|    97   |   sjerred2o    |         sjerred2o@zdnet.com         |    aL0#q.70F     |   Sholom   |    Jerred   |     9485 Grover Road    | 912-119-5265 |       8/23/2008        |\n",
      "|    98   |    iclee2p     |         iclee2p@behance.net         |     uN0$h1|u     |   Ilise    |     Clee    |       8 Elgar Hill      | 169-250-9016 |       12/16/2020       |\n",
      "|    99   |    sredan2q    |          sredan2q@wufoo.com         |   jP9.6NzsgOY4   |  Sheelagh  |    Redan    |  5023 Arrowood Terrace  | 231-741-3537 |       12/19/2023       |\n",
      "|   100   |    rkelly2r    |           rkelly2r@360.cn           |  eQ2=HD31PS=iN   |   Reggy    |    Kelly    |  2192 Lake View Circle  | 918-184-7546 |       8/15/2009        |\n",
      "+---------+----------------+-------------------------------------+------------------+------------+-------------+-------------------------+--------------+------------------------+\n"
     ]
    }
   ],
   "source": [
    "# Retrieve data from Users collection \n",
    "data_from_mongodb = users_collection.find()\n",
    "\n",
    "# Create a PrettyTable instance\n",
    "table = PrettyTable()\n",
    "table.field_names = [\"user_id\", \"username\", \"email\", \"password\", \"first_name\", \"last_name\", \"address\", \"phone_number\",\"user_registration_date\"]\n",
    "\n",
    "# Populate the table with data from MongoDB\n",
    "for data in data_from_mongodb:\n",
    "    table.add_row([data[\"user_id\"], data[\"username\"], data[\"email\"], data[\"password\"], data[\"first_name\"], data[\"last_name\"], data[\"address\"], data[\"phone_number\"], data[\"user_registration_date\"]])\n",
    "\n",
    "# Print the table\n",
    "print(table)"
   ]
  },
  {
   "cell_type": "markdown",
   "metadata": {},
   "source": [
    "### Read"
   ]
  },
  {
   "cell_type": "code",
   "execution_count": 134,
   "metadata": {},
   "outputs": [
    {
     "name": "stdout",
     "output_type": "stream",
     "text": [
      "{'_id': ObjectId('65526f327f69c7083d39faa0'), 'user_id': 98, 'username': 'iclee2p', 'email': 'iclee2p@behance.net', 'password': 'uN0$h1|u', 'first_name': 'Ilise', 'last_name': 'Clee', 'address': '8 Elgar Hill', 'phone_number': '169-250-9016', 'user_registration_date': '12/16/2020'}\n"
     ]
    }
   ],
   "source": [
    "# Query for username with iclee2p\n",
    "query = {\"username\": \"iclee2p\"}\n",
    "\n",
    "# Fetch data based on the query\n",
    "cursor = users_collection.find(query)\n",
    "\n",
    "# Print the results\n",
    "for user_data in cursor:\n",
    "    print(user_data)"
   ]
  },
  {
   "cell_type": "markdown",
   "metadata": {},
   "source": [
    "### Update"
   ]
  },
  {
   "cell_type": "code",
   "execution_count": 135,
   "metadata": {},
   "outputs": [
    {
     "name": "stdout",
     "output_type": "stream",
     "text": [
      "Matched 1 document(s) and modified 1 document(s)\n"
     ]
    }
   ],
   "source": [
    "# Update the address for a specific user\n",
    "query = {\"user_id\": 100 }  # Replace with the actual user ID or any other unique identifier\n",
    "new_address = {\"$set\": {\"address\": \"541 E MAIN ST\"}}\n",
    "\n",
    "# Perform the update\n",
    "result = users_collection.update_one(query, new_address)\n",
    "\n",
    "# Print the update result\n",
    "print(f\"Matched {result.matched_count} document(s) and modified {result.modified_count} document(s)\")"
   ]
  },
  {
   "cell_type": "code",
   "execution_count": 136,
   "metadata": {},
   "outputs": [
    {
     "name": "stdout",
     "output_type": "stream",
     "text": [
      "Updated User Info: {'_id': ObjectId('65526f327f69c7083d39faa2'), 'user_id': 100, 'username': 'rkelly2r', 'email': 'rkelly2r@360.cn', 'password': 'eQ2=HD31PS=iN', 'first_name': 'Reggy', 'last_name': 'Kelly', 'address': '541 E MAIN ST', 'phone_number': '918-184-7546', 'user_registration_date': '8/15/2009'}\n"
     ]
    }
   ],
   "source": [
    "# Retrieve and print the updated user's information\n",
    "updated_user = users_collection.find_one({\"user_id\": 100})\n",
    "print(\"Updated User Info:\", updated_user)"
   ]
  },
  {
   "cell_type": "markdown",
   "metadata": {},
   "source": [
    "### Delete"
   ]
  },
  {
   "cell_type": "code",
   "execution_count": 138,
   "metadata": {},
   "outputs": [
    {
     "name": "stdout",
     "output_type": "stream",
     "text": [
      "Deleted 1 document(s) with the address: 1 Surrey Center\n"
     ]
    }
   ],
   "source": [
    "# Specify the address to identify the user you want to delete\n",
    "address_to_delete = \"1 Surrey Center\"\n",
    "\n",
    "# Delete the user with the specified address\n",
    "result = users_collection.delete_one({\"address\": address_to_delete})\n",
    "\n",
    "# Print the deletion result\n",
    "print(f\"Deleted {result.deleted_count} document(s) with the address: {address_to_delete}\")\n"
   ]
  },
  {
   "cell_type": "markdown",
   "metadata": {},
   "source": [
    "#### Categories"
   ]
  },
  {
   "cell_type": "markdown",
   "metadata": {},
   "source": [
    "### Create"
   ]
  },
  {
   "cell_type": "code",
   "execution_count": 48,
   "metadata": {},
   "outputs": [
    {
     "data": {
      "text/plain": [
       "<pymongo.results.DeleteResult at 0x10577d780>"
      ]
     },
     "execution_count": 48,
     "metadata": {},
     "output_type": "execute_result"
    }
   ],
   "source": [
    "#categories_collection.delete_many({})"
   ]
  },
  {
   "cell_type": "code",
   "execution_count": 49,
   "metadata": {},
   "outputs": [
    {
     "name": "stdout",
     "output_type": "stream",
     "text": [
      "<pymongo.results.InsertManyResult object at 0x115dea200>\n",
      "Data inserted successfully!\n"
     ]
    }
   ],
   "source": [
    "# Insert data into Categories collection\n",
    "#categories_collection.delete_many({})\n",
    "categories_collection = db[\"Categories\"]\n",
    "\n",
    "# Load mock data from a JSON file\n",
    "with open('categories_mock_data.json', 'r') as file:\n",
    "    mock_data = json.load(file)\n",
    "\n",
    "insert_result = categories_collection.insert_many(mock_data)\n",
    "\n",
    "print(insert_result)\n",
    "print(\"Data inserted successfully!\")"
   ]
  },
  {
   "cell_type": "code",
   "execution_count": 50,
   "metadata": {},
   "outputs": [
    {
     "name": "stdout",
     "output_type": "stream",
     "text": [
      "+-------------+------------------+\n",
      "| category_id |  category_name   |\n",
      "+-------------+------------------+\n",
      "|      2      |     Clothing     |\n",
      "|      1      | Home and Kitchen |\n",
      "|      2      | Home and Kitchen |\n",
      "|      3      |     Clothing     |\n",
      "|      2      |   Electronics    |\n",
      "|      2      | Home and Kitchen |\n",
      "|      2      | Home and Kitchen |\n",
      "|      3      |   Electronics    |\n",
      "|      1      | Home and Kitchen |\n",
      "|      3      |   Electronics    |\n",
      "|      2      |     Clothing     |\n",
      "|      3      |   Electronics    |\n",
      "|      1      | Home and Kitchen |\n",
      "|      1      |     Clothing     |\n",
      "|      3      |     Clothing     |\n",
      "|      2      | Home and Kitchen |\n",
      "|      2      |   Electronics    |\n",
      "|      3      | Home and Kitchen |\n",
      "|      2      |   Electronics    |\n",
      "|      3      |   Electronics    |\n",
      "|      2      |     Clothing     |\n",
      "|      1      |     Clothing     |\n",
      "|      1      |   Electronics    |\n",
      "|      2      | Home and Kitchen |\n",
      "|      2      |   Electronics    |\n",
      "|      2      |     Clothing     |\n",
      "|      1      | Home and Kitchen |\n",
      "|      3      |     Clothing     |\n",
      "|      1      |   Electronics    |\n",
      "|      2      |   Electronics    |\n",
      "|      2      |     Clothing     |\n",
      "|      2      | Home and Kitchen |\n",
      "|      3      |   Electronics    |\n",
      "|      3      |     Clothing     |\n",
      "|      3      | Home and Kitchen |\n",
      "|      3      |   Electronics    |\n",
      "|      3      | Home and Kitchen |\n",
      "|      3      |   Electronics    |\n",
      "|      2      |   Electronics    |\n",
      "|      2      | Home and Kitchen |\n",
      "|      1      | Home and Kitchen |\n",
      "|      3      |   Electronics    |\n",
      "|      1      |   Electronics    |\n",
      "|      1      |   Electronics    |\n",
      "|      3      |     Clothing     |\n",
      "|      3      | Home and Kitchen |\n",
      "|      3      | Home and Kitchen |\n",
      "|      3      |     Clothing     |\n",
      "|      1      |     Clothing     |\n",
      "|      3      | Home and Kitchen |\n",
      "|      2      |   Electronics    |\n",
      "|      2      | Home and Kitchen |\n",
      "|      2      | Home and Kitchen |\n",
      "|      2      |     Clothing     |\n",
      "|      3      | Home and Kitchen |\n",
      "|      2      | Home and Kitchen |\n",
      "|      1      |     Clothing     |\n",
      "|      3      | Home and Kitchen |\n",
      "|      2      |   Electronics    |\n",
      "|      1      | Home and Kitchen |\n",
      "|      1      | Home and Kitchen |\n",
      "|      1      |     Clothing     |\n",
      "|      1      |   Electronics    |\n",
      "|      2      |   Electronics    |\n",
      "|      1      |     Clothing     |\n",
      "|      1      |     Clothing     |\n",
      "|      2      |   Electronics    |\n",
      "|      3      |     Clothing     |\n",
      "|      1      |     Clothing     |\n",
      "|      3      |     Clothing     |\n",
      "|      1      |     Clothing     |\n",
      "|      2      |     Clothing     |\n",
      "|      1      |     Clothing     |\n",
      "|      3      |     Clothing     |\n",
      "|      1      |   Electronics    |\n",
      "|      2      | Home and Kitchen |\n",
      "|      3      |     Clothing     |\n",
      "|      2      |     Clothing     |\n",
      "|      2      |   Electronics    |\n",
      "|      1      |     Clothing     |\n",
      "|      1      | Home and Kitchen |\n",
      "|      3      |   Electronics    |\n",
      "|      1      |     Clothing     |\n",
      "|      3      |     Clothing     |\n",
      "|      1      |   Electronics    |\n",
      "|      3      |   Electronics    |\n",
      "|      1      |   Electronics    |\n",
      "|      1      | Home and Kitchen |\n",
      "|      1      | Home and Kitchen |\n",
      "|      3      |   Electronics    |\n",
      "|      1      | Home and Kitchen |\n",
      "|      1      | Home and Kitchen |\n",
      "|      3      |   Electronics    |\n",
      "|      2      | Home and Kitchen |\n",
      "|      2      |     Clothing     |\n",
      "|      2      |   Electronics    |\n",
      "|      2      |     Clothing     |\n",
      "|      3      | Home and Kitchen |\n",
      "|      1      |   Electronics    |\n",
      "|      2      | Home and Kitchen |\n",
      "+-------------+------------------+\n"
     ]
    }
   ],
   "source": [
    "# Retrieve data from Categories collection \n",
    "data_from_mongodb = categories_collection.find()\n",
    "\n",
    "# Create a PrettyTable instance\n",
    "table = PrettyTable()\n",
    "table.field_names = [\"category_id\", \"category_name\"]\n",
    "\n",
    "# Populate the table with data from MongoDB\n",
    "for data in data_from_mongodb:\n",
    "    table.add_row([data[\"category_id\"], data[\"category_name\"]])\n",
    "    \n",
    "# Print the table\n",
    "print(table)"
   ]
  },
  {
   "cell_type": "markdown",
   "metadata": {},
   "source": [
    "### Read"
   ]
  },
  {
   "cell_type": "code",
   "execution_count": 76,
   "metadata": {},
   "outputs": [
    {
     "name": "stdout",
     "output_type": "stream",
     "text": [
      "{'_id': ObjectId('65525a7c7f69c7083d39f39b'), 'category_id': 2, 'category_name': 'Clothing'}\n",
      "{'_id': ObjectId('65525a7c7f69c7083d39f39e'), 'category_id': 3, 'category_name': 'Clothing'}\n",
      "{'_id': ObjectId('65525a7c7f69c7083d39f3a5'), 'category_id': 2, 'category_name': 'Clothing'}\n",
      "{'_id': ObjectId('65525a7c7f69c7083d39f3a8'), 'category_id': 1, 'category_name': 'Clothing'}\n",
      "{'_id': ObjectId('65525a7c7f69c7083d39f3a9'), 'category_id': 3, 'category_name': 'Clothing'}\n",
      "{'_id': ObjectId('65525a7c7f69c7083d39f3af'), 'category_id': 2, 'category_name': 'Clothing'}\n",
      "{'_id': ObjectId('65525a7c7f69c7083d39f3b0'), 'category_id': 1, 'category_name': 'Clothing'}\n",
      "{'_id': ObjectId('65525a7c7f69c7083d39f3b4'), 'category_id': 2, 'category_name': 'Clothing'}\n",
      "{'_id': ObjectId('65525a7c7f69c7083d39f3b6'), 'category_id': 3, 'category_name': 'Clothing'}\n",
      "{'_id': ObjectId('65525a7c7f69c7083d39f3b9'), 'category_id': 2, 'category_name': 'Clothing'}\n",
      "{'_id': ObjectId('65525a7c7f69c7083d39f3bc'), 'category_id': 3, 'category_name': 'Clothing'}\n",
      "{'_id': ObjectId('65525a7c7f69c7083d39f3c7'), 'category_id': 3, 'category_name': 'Clothing'}\n",
      "{'_id': ObjectId('65525a7c7f69c7083d39f3ca'), 'category_id': 3, 'category_name': 'Clothing'}\n",
      "{'_id': ObjectId('65525a7c7f69c7083d39f3cb'), 'category_id': 1, 'category_name': 'Clothing'}\n",
      "{'_id': ObjectId('65525a7c7f69c7083d39f3d0'), 'category_id': 2, 'category_name': 'Clothing'}\n",
      "{'_id': ObjectId('65525a7c7f69c7083d39f3d3'), 'category_id': 1, 'category_name': 'Clothing'}\n",
      "{'_id': ObjectId('65525a7c7f69c7083d39f3d8'), 'category_id': 1, 'category_name': 'Clothing'}\n",
      "{'_id': ObjectId('65525a7c7f69c7083d39f3db'), 'category_id': 1, 'category_name': 'Clothing'}\n",
      "{'_id': ObjectId('65525a7c7f69c7083d39f3dc'), 'category_id': 1, 'category_name': 'Clothing'}\n",
      "{'_id': ObjectId('65525a7c7f69c7083d39f3de'), 'category_id': 3, 'category_name': 'Clothing'}\n",
      "{'_id': ObjectId('65525a7c7f69c7083d39f3df'), 'category_id': 1, 'category_name': 'Clothing'}\n",
      "{'_id': ObjectId('65525a7c7f69c7083d39f3e0'), 'category_id': 3, 'category_name': 'Clothing'}\n",
      "{'_id': ObjectId('65525a7c7f69c7083d39f3e1'), 'category_id': 1, 'category_name': 'Clothing'}\n",
      "{'_id': ObjectId('65525a7c7f69c7083d39f3e2'), 'category_id': 2, 'category_name': 'Clothing'}\n",
      "{'_id': ObjectId('65525a7c7f69c7083d39f3e3'), 'category_id': 1, 'category_name': 'Clothing'}\n",
      "{'_id': ObjectId('65525a7c7f69c7083d39f3e4'), 'category_id': 3, 'category_name': 'Clothing'}\n",
      "{'_id': ObjectId('65525a7c7f69c7083d39f3e7'), 'category_id': 3, 'category_name': 'Clothing'}\n",
      "{'_id': ObjectId('65525a7c7f69c7083d39f3e8'), 'category_id': 2, 'category_name': 'Clothing'}\n",
      "{'_id': ObjectId('65525a7c7f69c7083d39f3ea'), 'category_id': 1, 'category_name': 'Clothing'}\n",
      "{'_id': ObjectId('65525a7c7f69c7083d39f3ed'), 'category_id': 1, 'category_name': 'Clothing'}\n",
      "{'_id': ObjectId('65525a7c7f69c7083d39f3ee'), 'category_id': 3, 'category_name': 'Clothing'}\n",
      "{'_id': ObjectId('65525a7c7f69c7083d39f3f9'), 'category_id': 2, 'category_name': 'Clothing'}\n",
      "{'_id': ObjectId('65525a7c7f69c7083d39f3fb'), 'category_id': 2, 'category_name': 'Clothing'}\n"
     ]
    }
   ],
   "source": [
    "# Query for categories being clothing\n",
    "query = {\"category_name\": 'Clothing' }\n",
    "\n",
    "# Fetch data based on the query\n",
    "cursor = categories_collection.find(query)\n",
    "\n",
    "# Print the results\n",
    "for user_data in cursor:\n",
    "    print(user_data)"
   ]
  },
  {
   "cell_type": "markdown",
   "metadata": {},
   "source": [
    "### Products"
   ]
  },
  {
   "cell_type": "markdown",
   "metadata": {},
   "source": [
    "### Create"
   ]
  },
  {
   "cell_type": "code",
   "execution_count": 66,
   "metadata": {},
   "outputs": [
    {
     "data": {
      "text/plain": [
       "<pymongo.results.DeleteResult at 0x1070d3130>"
      ]
     },
     "execution_count": 66,
     "metadata": {},
     "output_type": "execute_result"
    }
   ],
   "source": [
    "#products_collection.delete_many({})"
   ]
  },
  {
   "cell_type": "code",
   "execution_count": 67,
   "metadata": {},
   "outputs": [
    {
     "name": "stdout",
     "output_type": "stream",
     "text": [
      "<pymongo.results.InsertManyResult object at 0x115a7b490>\n",
      "Data inserted successfully!\n"
     ]
    }
   ],
   "source": [
    "# Insert data into Products collection\n",
    "#products_collection.delete_many({})\n",
    "products_collection = db[\"Products\"]\n",
    "\n",
    "# Load mock data from a JSON file\n",
    "with open('products_mock_data.json', 'r') as file:\n",
    "    mock_data = json.load(file)\n",
    "\n",
    "insert_result = products_collection.insert_many(mock_data)\n",
    "\n",
    "print(insert_result)\n",
    "print(\"Data inserted successfully!\")"
   ]
  },
  {
   "cell_type": "code",
   "execution_count": 141,
   "metadata": {},
   "outputs": [
    {
     "name": "stdout",
     "output_type": "stream",
     "text": [
      "+------------+------------------------------------+---------------------------------------------------------------------------------------------------------------------------------------------------------------------------------------------------------------------------------------------------------------------------------------------------------+---------------+-------------+------------------+---------------------+---------------------+\n",
      "| product_id |            product_name            |                                                                                                                                               description                                                                                                                                               | product_price | category_id | product_quantity |      created_at     |      updated_at     |\n",
      "+------------+------------------------------------+---------------------------------------------------------------------------------------------------------------------------------------------------------------------------------------------------------------------------------------------------------------------------------------------------------+---------------+-------------+------------------+---------------------+---------------------+\n",
      "|     1      | Chocolate - Liqueur Cups With Foil |                                                                                                                           In congue. Etiam justo. Etiam pretium iaculis justo.                                                                                                                          |      600      |      1      |       569        |  1/13/2016 02:28:13 |  3/15/2019 05:33:15 |\n",
      "|            |                                    |                                                                                                                                                                                                                                                                                                         |               |             |                  |                     |                     |\n",
      "|            |                                    |                                                                                                                 In hac habitasse platea dictumst. Etiam faucibus cursus urna. Ut tellus.                                                                                                                |               |             |                  |                     |                     |\n",
      "|     3      |       Pants Custom Dry Clean       |                                                             Vestibulum ac est lacinia nisi venenatis tristique. Fusce congue, diam id ornare imperdiet, sapien urna pretium nisl, ut volutpat sapien arcu sed augue. Aliquam erat volutpat.                                                             |     372.47    |      1      |       824        |  2/9/2014 12:51:57  |  7/2/2012 00:43:56  |\n",
      "|            |                                    |                                                                                                                                                                                                                                                                                                         |               |             |                  |                     |                     |\n",
      "|            |                                    |                                                                                                                           In congue. Etiam justo. Etiam pretium iaculis justo.                                                                                                                          |               |             |                  |                     |                     |\n",
      "|            |                                    |                                                                                                                                                                                                                                                                                                         |               |             |                  |                     |                     |\n",
      "|            |                                    |                                                                                                                 In hac habitasse platea dictumst. Etiam faucibus cursus urna. Ut tellus.                                                                                                                |               |             |                  |                     |                     |\n",
      "|     4      |     Sole - Dover, Whole, Fresh     |                                                                       Duis bibendum, felis sed interdum venenatis, turpis enim blandit mi, in porttitor pede justo eu massa. Donec dapibus. Duis at velit eu est congue elementum.                                                                      |     254.37    |      1      |        86        |  9/10/2013 16:44:53 |  3/9/2023 13:35:52  |\n",
      "|     5      |         Cheese - Valancey          |                                                                                                In sagittis dui vel nisl. Duis ac nibh. Fusce lacus purus, aliquet at, feugiat non, pretium quis, lectus.                                                                                                |     913.11    |      2      |       612        |  8/28/2020 12:08:07 |  9/11/2018 20:57:36 |\n",
      "|            |                                    |                                                                                                                                                                                                                                                                                                         |               |             |                  |                     |                     |\n",
      "|            |                                    |                                                                                                             Suspendisse potenti. In eleifend quam a odio. In hac habitasse platea dictumst.                                                                                                             |               |             |                  |                     |                     |\n",
      "|            |                                    |                                                                                                                                                                                                                                                                                                         |               |             |                  |                     |                     |\n",
      "|            |                                    |                                                                                                       Maecenas ut massa quis augue luctus tincidunt. Nulla mollis molestie lorem. Quisque ut erat.                                                                                                      |               |             |                  |                     |                     |\n",
      "|     6      |      Sauce - Caesar Dressing       |                                                                                       Fusce posuere felis sed lacus. Morbi sem mauris, laoreet ut, rhoncus aliquet, pulvinar sed, nisl. Nunc rhoncus dui vel sem.                                                                                       |     830.03    |      3      |       592        | 10/29/2014 00:10:57 |  6/8/2013 02:51:14  |\n",
      "|            |                                    |                                                                                                                                                                                                                                                                                                         |               |             |                  |                     |                     |\n",
      "|            |                                    |                                                                        Sed sagittis. Nam congue, risus semper porta volutpat, quam pede lobortis ligula, sit amet eleifend pede libero quis orci. Nullam molestie nibh in lectus.                                                                       |               |             |                  |                     |                     |\n",
      "|     7      |      Marjoram - Dried, Rubbed      |                                                                                                                    Duis bibendum. Morbi non quam nec dui luctus rutrum. Nulla tellus.                                                                                                                   |     947.74    |      1      |       424        |  5/31/2022 08:45:50 |  5/25/2014 19:40:39 |\n",
      "|     8      |     Pepper - Chillies, Crushed     |                                                                                                                           Sed ante. Vivamus tortor. Duis mattis egestas metus.                                                                                                                          |     656.25    |      2      |       951        |  3/31/2019 01:45:06 |  11/1/2012 17:59:19 |\n",
      "|            |                                    |                                                                                                                                                                                                                                                                                                         |               |             |                  |                     |                     |\n",
      "|            |                                    |                                                                                 Aenean fermentum. Donec ut mauris eget massa tempor convallis. Nulla neque libero, convallis eget, eleifend luctus, ultricies eu, nibh.                                                                                 |               |             |                  |                     |                     |\n",
      "|     9      |     Ice Cream Bar - Hagen Daz      |                                                                                                       In quis justo. Maecenas rhoncus aliquam lacus. Morbi quis tortor id nulla ultrices aliquet.                                                                                                       |     626.72    |      3      |        21        | 10/16/2010 09:48:24 |  2/11/2018 14:57:11 |\n",
      "|            |                                    |                                                                                                                                                                                                                                                                                                         |               |             |                  |                     |                     |\n",
      "|            |                                    |                                                                                  Maecenas leo odio, condimentum id, luctus nec, molestie sed, justo. Pellentesque viverra pede ac diam. Cras pellentesque volutpat dui.                                                                                 |               |             |                  |                     |                     |\n",
      "|     10     |         Zucchini - Yellow          |                                                                                       Fusce posuere felis sed lacus. Morbi sem mauris, laoreet ut, rhoncus aliquet, pulvinar sed, nisl. Nunc rhoncus dui vel sem.                                                                                       |     130.14    |      2      |       593        |  8/13/2019 23:52:05 |  6/18/2020 16:43:18 |\n",
      "|     11     |            Cafe Royale             |                                                                              Curabitur gravida nisi at nibh. In hac habitasse platea dictumst. Aliquam augue quam, sollicitudin vitae, consectetuer eget, rutrum at, lorem.                                                                             |     163.57    |      2      |       696        |  5/12/2017 03:17:29 | 11/16/2022 03:23:56 |\n",
      "|            |                                    |                                                                                                                                                                                                                                                                                                         |               |             |                  |                     |                     |\n",
      "|            |                                    |                                                                                             Integer tincidunt ante vel ipsum. Praesent blandit lacinia erat. Vestibulum sed magna at nunc commodo placerat.                                                                                             |               |             |                  |                     |                     |\n",
      "|            |                                    |                                                                                                                                                                                                                                                                                                         |               |             |                  |                     |                     |\n",
      "|            |                                    |                                                                                                     Praesent blandit. Nam nulla. Integer pede justo, lacinia eget, tincidunt eget, tempus vel, pede.                                                                                                    |               |             |                  |                     |                     |\n",
      "|     12     |    Jam - Blackberry, 20 Ml Jar     |                                                                         Cras mi pede, malesuada in, imperdiet et, commodo vulputate, justo. In blandit ultrices enim. Lorem ipsum dolor sit amet, consectetuer adipiscing elit.                                                                         |     531.3     |      3      |       594        |  2/3/2021 10:50:21  |  1/25/2021 11:52:57 |\n",
      "|            |                                    |                                                                                                                                                                                                                                                                                                         |               |             |                  |                     |                     |\n",
      "|            |                                    |                                                           Proin interdum mauris non ligula pellentesque ultrices. Phasellus id sapien in sapien iaculis congue. Vivamus metus arcu, adipiscing molestie, hendrerit at, vulputate vitae, nisl.                                                           |               |             |                  |                     |                     |\n",
      "|            |                                    |                                                                                                                                                                                                                                                                                                         |               |             |                  |                     |                     |\n",
      "|            |                                    |                                                                                                          Aenean lectus. Pellentesque eget nunc. Donec quis orci eget orci vehicula condimentum.                                                                                                         |               |             |                  |                     |                     |\n",
      "|     13     |      Beans - Butter Lrg Lima       |                                                                        Sed sagittis. Nam congue, risus semper porta volutpat, quam pede lobortis ligula, sit amet eleifend pede libero quis orci. Nullam molestie nibh in lectus.                                                                       |     393.83    |      3      |       216        |  4/4/2018 21:04:18  |  5/10/2014 13:20:42 |\n",
      "|     14     |         Cheese - St. Andre         |                                                                                                       In quis justo. Maecenas rhoncus aliquam lacus. Morbi quis tortor id nulla ultrices aliquet.                                                                                                       |     471.92    |      2      |       955        |  3/15/2022 12:28:58 |  5/29/2019 10:43:41 |\n",
      "|            |                                    |                                                                                                                                                                                                                                                                                                         |               |             |                  |                     |                     |\n",
      "|            |                                    |                                                                                  Maecenas leo odio, condimentum id, luctus nec, molestie sed, justo. Pellentesque viverra pede ac diam. Cras pellentesque volutpat dui.                                                                                 |               |             |                  |                     |                     |\n",
      "|            |                                    |                                                                                                                                                                                                                                                                                                         |               |             |                  |                     |                     |\n",
      "|            |                                    |                            Maecenas tristique, est et tempus semper, est quam pharetra magna, ac consequat metus sapien ut nunc. Vestibulum ante ipsum primis in faucibus orci luctus et ultrices posuere cubilia Curae; Mauris viverra diam vitae quam. Suspendisse potenti.                           |               |             |                  |                     |                     |\n",
      "|     15     |   Soda Water - Club Soda, 355 Ml   |                                                                                                                           Sed ante. Vivamus tortor. Duis mattis egestas metus.                                                                                                                          |     220.29    |      2      |       461        |  4/4/2023 15:59:54  |  9/17/2011 14:59:09 |\n",
      "|     16     |         Assorted Desserts          |                                                                                                Duis consequat dui nec nisi volutpat eleifend. Donec ut dolor. Morbi vel lectus in quam fringilla rhoncus.                                                                                               |     777.81    |      1      |       731        | 11/19/2019 12:52:18 |  6/21/2022 13:29:20 |\n",
      "|            |                                    |                                                                                                                                                                                                                                                                                                         |               |             |                  |                     |                     |\n",
      "|            |                                    |                                           Mauris enim leo, rhoncus sed, vestibulum sit amet, cursus id, turpis. Integer aliquet, massa id lobortis convallis, tortor risus dapibus augue, vel accumsan tellus nisi eu orci. Mauris lacinia sapien quis libero.                                          |               |             |                  |                     |                     |\n",
      "|     17     |            Phyllo Dough            |                                                                                 Morbi non lectus. Aliquam sit amet diam in magna bibendum imperdiet. Nullam orci pede, venenatis non, sodales sed, tincidunt eu, felis.                                                                                 |      1.96     |      2      |       331        |  2/22/2019 07:00:37 |  8/23/2017 06:43:44 |\n",
      "|            |                                    |                                                                                                                                                                                                                                                                                                         |               |             |                  |                     |                     |\n",
      "|            |                                    |                                                                                       Fusce posuere felis sed lacus. Morbi sem mauris, laoreet ut, rhoncus aliquet, pulvinar sed, nisl. Nunc rhoncus dui vel sem.                                                                                       |               |             |                  |                     |                     |\n",
      "|     18     |       Veal - Provimi Inside        |                                                                                                           Phasellus sit amet erat. Nulla tempus. Vivamus in felis eu sapien cursus vestibulum.                                                                                                          |     202.29    |      3      |       444        | 10/10/2020 16:03:19 |  7/16/2018 14:57:56 |\n",
      "|     19     |      Wine - Guy Sage Touraine      |                                                                                                           Phasellus sit amet erat. Nulla tempus. Vivamus in felis eu sapien cursus vestibulum.                                                                                                          |     57.84     |      3      |       558        |  4/3/2011 20:04:38  |  9/24/2013 07:07:20 |\n",
      "|     20     |       Wild Boar - Tenderloin       |                                                                         Cras mi pede, malesuada in, imperdiet et, commodo vulputate, justo. In blandit ultrices enim. Lorem ipsum dolor sit amet, consectetuer adipiscing elit.                                                                         |     783.12    |      1      |       760        |  3/10/2020 08:57:17 |  4/9/2019 13:42:46  |\n",
      "|            |                                    |                                                                                                                                                                                                                                                                                                         |               |             |                  |                     |                     |\n",
      "|            |                                    |                                                           Proin interdum mauris non ligula pellentesque ultrices. Phasellus id sapien in sapien iaculis congue. Vivamus metus arcu, adipiscing molestie, hendrerit at, vulputate vitae, nisl.                                                           |               |             |                  |                     |                     |\n",
      "|     21     |          Sausage - Liver           |                                                                                                         Lorem ipsum dolor sit amet, consectetuer adipiscing elit. Proin risus. Praesent lectus.                                                                                                         |     11.63     |      1      |       555        |  5/28/2011 02:01:19 |  3/15/2014 03:16:38 |\n",
      "|            |                                    |                                                                                                                                                                                                                                                                                                         |               |             |                  |                     |                     |\n",
      "|            |                                    |                                               Vestibulum quam sapien, varius ut, blandit non, interdum in, ante. Vestibulum ante ipsum primis in faucibus orci luctus et ultrices posuere cubilia Curae; Duis faucibus accumsan odio. Curabitur convallis.                                              |               |             |                  |                     |                     |\n",
      "|     22     |      Chestnuts - Whole,canned      |                            Maecenas tristique, est et tempus semper, est quam pharetra magna, ac consequat metus sapien ut nunc. Vestibulum ante ipsum primis in faucibus orci luctus et ultrices posuere cubilia Curae; Mauris viverra diam vitae quam. Suspendisse potenti.                           |     901.63    |      3      |       985        |  2/23/2011 12:40:56 |  4/29/2019 03:55:46 |\n",
      "|     23     |    Wine - Trimbach Pinot Blanc     |                                                                                                          Aenean lectus. Pellentesque eget nunc. Donec quis orci eget orci vehicula condimentum.                                                                                                         |     64.63     |      3      |       206        |  2/27/2012 17:45:51 |  8/22/2016 13:40:22 |\n",
      "|     24     |    Jam - Blackberry, 20 Ml Jar     |                                                                                    Cras non velit nec nisi vulputate nonummy. Maecenas tincidunt lacus at velit. Vivamus vel nulla eget eros elementum pellentesque.                                                                                    |     968.05    |      3      |       837        |  9/14/2011 08:59:58 |  9/6/2014 02:06:57  |\n",
      "|            |                                    |                                                                                                                                                                                                                                                                                                         |               |             |                  |                     |                     |\n",
      "|            |                                    |                                                                                               Quisque porta volutpat erat. Quisque erat eros, viverra eget, congue eget, semper rutrum, nulla. Nunc purus.                                                                                              |               |             |                  |                     |                     |\n",
      "|     25     |          Ham Black Forest          |                                                                                                In sagittis dui vel nisl. Duis ac nibh. Fusce lacus purus, aliquet at, feugiat non, pretium quis, lectus.                                                                                                |     856.05    |      2      |       671        |  8/31/2012 23:58:23 | 10/29/2013 09:55:15 |\n",
      "|            |                                    |                                                                                                                                                                                                                                                                                                         |               |             |                  |                     |                     |\n",
      "|            |                                    |                                                                                                             Suspendisse potenti. In eleifend quam a odio. In hac habitasse platea dictumst.                                                                                                             |               |             |                  |                     |                     |\n",
      "|            |                                    |                                                                                                                                                                                                                                                                                                         |               |             |                  |                     |                     |\n",
      "|            |                                    |                                                                                                       Maecenas ut massa quis augue luctus tincidunt. Nulla mollis molestie lorem. Quisque ut erat.                                                                                                      |               |             |                  |                     |                     |\n",
      "|     26     |      Bread Cranberry Foccacia      |                                                           Proin interdum mauris non ligula pellentesque ultrices. Phasellus id sapien in sapien iaculis congue. Vivamus metus arcu, adipiscing molestie, hendrerit at, vulputate vitae, nisl.                                                           |     686.05    |      2      |       143        |  5/28/2010 04:18:42 |  6/8/2014 10:49:32  |\n",
      "|     27     |    Beer - True North Strong Ale    |                                                             Vestibulum ac est lacinia nisi venenatis tristique. Fusce congue, diam id ornare imperdiet, sapien urna pretium nisl, ut volutpat sapien arcu sed augue. Aliquam erat volutpat.                                                             |     840.83    |      3      |       201        |  11/7/2019 06:33:33 | 11/30/2019 05:33:53 |\n",
      "|            |                                    |                                                                                                                                                                                                                                                                                                         |               |             |                  |                     |                     |\n",
      "|            |                                    |                                                                                                                           In congue. Etiam justo. Etiam pretium iaculis justo.                                                                                                                          |               |             |                  |                     |                     |\n",
      "|            |                                    |                                                                                                                                                                                                                                                                                                         |               |             |                  |                     |                     |\n",
      "|            |                                    |                                                                                                                 In hac habitasse platea dictumst. Etiam faucibus cursus urna. Ut tellus.                                                                                                                |               |             |                  |                     |                     |\n",
      "|     28     |     Strawberries - California      |                                                                                                         Duis aliquam convallis nunc. Proin at turpis a pede posuere nonummy. Integer non velit.                                                                                                         |     312.97    |      3      |       407        |  7/5/2018 08:13:03  |  1/30/2015 03:21:57 |\n",
      "|     29     |   Trueblue - Blueberry 12x473ml    |                                                                                                       Maecenas ut massa quis augue luctus tincidunt. Nulla mollis molestie lorem. Quisque ut erat.                                                                                                      |     412.48    |      3      |        8         |  1/30/2012 20:52:04 | 11/13/2013 08:22:28 |\n",
      "|     30     |              Dry Ice               |                                                                                                Duis consequat dui nec nisi volutpat eleifend. Donec ut dolor. Morbi vel lectus in quam fringilla rhoncus.                                                                                               |     577.09    |      3      |       101        |  8/9/2016 09:17:15  |  7/9/2013 03:52:24  |\n",
      "|            |                                    |                                                                                                                                                                                                                                                                                                         |               |             |                  |                     |                     |\n",
      "|            |                                    |                                           Mauris enim leo, rhoncus sed, vestibulum sit amet, cursus id, turpis. Integer aliquet, massa id lobortis convallis, tortor risus dapibus augue, vel accumsan tellus nisi eu orci. Mauris lacinia sapien quis libero.                                          |               |             |                  |                     |                     |\n",
      "|     31     |      Lobster - Tail, 3 - 4 Oz      |                                                                                                           Phasellus sit amet erat. Nulla tempus. Vivamus in felis eu sapien cursus vestibulum.                                                                                                          |     269.79    |      3      |       603        |  7/14/2016 02:07:16 |  9/1/2022 12:01:25  |\n",
      "|     32     |         Juice - V8, Tomato         |                                                                                            Aliquam quis turpis eget elit sodales scelerisque. Mauris sit amet eros. Suspendisse accumsan tortor quis turpis.                                                                                            |     228.77    |      1      |       811        |  3/11/2015 00:38:27 |  8/12/2015 08:04:44 |\n",
      "|            |                                    |                                                                                                                                                                                                                                                                                                         |               |             |                  |                     |                     |\n",
      "|            |                                    |                                                                                                                           Sed ante. Vivamus tortor. Duis mattis egestas metus.                                                                                                                          |               |             |                  |                     |                     |\n",
      "|     33     |    Wine - Barbera Alba Doc 2001    |                                                                                                       In quis justo. Maecenas rhoncus aliquam lacus. Morbi quis tortor id nulla ultrices aliquet.                                                                                                       |     726.87    |      1      |       920        | 12/26/2018 18:34:02 |  11/3/2014 15:01:16 |\n",
      "|     34     |     Cheese - Manchego, Spanish     |                                                                                  Maecenas leo odio, condimentum id, luctus nec, molestie sed, justo. Pellentesque viverra pede ac diam. Cras pellentesque volutpat dui.                                                                                 |     114.13    |      1      |       204        |  6/2/2012 02:12:12  |  9/16/2013 18:29:59 |\n",
      "|            |                                    |                                                                                                                                                                                                                                                                                                         |               |             |                  |                     |                     |\n",
      "|            |                                    |                            Maecenas tristique, est et tempus semper, est quam pharetra magna, ac consequat metus sapien ut nunc. Vestibulum ante ipsum primis in faucibus orci luctus et ultrices posuere cubilia Curae; Mauris viverra diam vitae quam. Suspendisse potenti.                           |               |             |                  |                     |                     |\n",
      "|            |                                    |                                                                                                                                                                                                                                                                                                         |               |             |                  |                     |                     |\n",
      "|            |                                    |                                                                                                          Nullam porttitor lacus at turpis. Donec posuere metus vitae ipsum. Aliquam non mauris.                                                                                                         |               |             |                  |                     |                     |\n",
      "|     35     |          Icecream - Dibs           |                                                                                               Quisque porta volutpat erat. Quisque erat eros, viverra eget, congue eget, semper rutrum, nulla. Nunc purus.                                                                                              |     13.99     |      1      |       612        |  3/3/2023 00:38:52  |  9/4/2011 09:26:27  |\n",
      "|            |                                    |                                                                                                                                                                                                                                                                                                         |               |             |                  |                     |                     |\n",
      "|            |                                    |                                                                                                                        Phasellus in felis. Donec semper sapien a libero. Nam dui.                                                                                                                       |               |             |                  |                     |                     |\n",
      "|            |                                    |                                                                                                                                                                                                                                                                                                         |               |             |                  |                     |                     |\n",
      "|            |                                    |                                                                                       Proin leo odio, porttitor id, consequat in, consequat ut, nulla. Sed accumsan felis. Ut at dolor quis odio consequat varius.                                                                                      |               |             |                  |                     |                     |\n",
      "|     36     |       Wine - Red, Gamay Noir       |                                                                                                               Nulla ut erat id mauris vulputate elementum. Nullam varius. Nulla facilisi.                                                                                                               |     316.64    |      1      |       173        |  4/10/2022 23:47:48 |  9/25/2012 18:03:59 |\n",
      "|     37     |      Jameson - Irish Whiskey       |                                                                    In hac habitasse platea dictumst. Morbi vestibulum, velit id pretium iaculis, diam erat fermentum justo, nec condimentum neque sapien placerat ante. Nulla justo.                                                                    |     318.57    |      3      |       156        |  3/3/2020 20:55:47  |  2/18/2021 23:57:38 |\n",
      "|            |                                    |                                                                                                                                                                                                                                                                                                         |               |             |                  |                     |                     |\n",
      "|            |                                    |                                                                                            Aliquam quis turpis eget elit sodales scelerisque. Mauris sit amet eros. Suspendisse accumsan tortor quis turpis.                                                                                            |               |             |                  |                     |                     |\n",
      "|     38     |           Lumpfish Black           |                                                                                            Aliquam quis turpis eget elit sodales scelerisque. Mauris sit amet eros. Suspendisse accumsan tortor quis turpis.                                                                                            |     135.87    |      3      |       245        | 11/10/2015 04:56:32 | 10/25/2015 01:04:52 |\n",
      "|            |                                    |                                                                                                                                                                                                                                                                                                         |               |             |                  |                     |                     |\n",
      "|            |                                    |                                                                                                                           Sed ante. Vivamus tortor. Duis mattis egestas metus.                                                                                                                          |               |             |                  |                     |                     |\n",
      "|            |                                    |                                                                                                                                                                                                                                                                                                         |               |             |                  |                     |                     |\n",
      "|            |                                    |                                                                                 Aenean fermentum. Donec ut mauris eget massa tempor convallis. Nulla neque libero, convallis eget, eleifend luctus, ultricies eu, nibh.                                                                                 |               |             |                  |                     |                     |\n",
      "|     39     |    Cheese - Parmigiano Reggiano    |                                                                                                         Lorem ipsum dolor sit amet, consectetuer adipiscing elit. Proin risus. Praesent lectus.                                                                                                         |     381.23    |      3      |       978        | 12/29/2011 04:31:05 |  12/4/2022 22:15:19 |\n",
      "|            |                                    |                                                                                                                                                                                                                                                                                                         |               |             |                  |                     |                     |\n",
      "|            |                                    |                                               Vestibulum quam sapien, varius ut, blandit non, interdum in, ante. Vestibulum ante ipsum primis in faucibus orci luctus et ultrices posuere cubilia Curae; Duis faucibus accumsan odio. Curabitur convallis.                                              |               |             |                  |                     |                     |\n",
      "|     40     |          Tomatoes - Roma           |                                                                              Curabitur gravida nisi at nibh. In hac habitasse platea dictumst. Aliquam augue quam, sollicitudin vitae, consectetuer eget, rutrum at, lorem.                                                                             |     935.61    |      3      |       121        |  6/21/2017 15:35:14 |  8/9/2010 08:52:25  |\n",
      "|            |                                    |                                                                                                                                                                                                                                                                                                         |               |             |                  |                     |                     |\n",
      "|            |                                    |                                                                                             Integer tincidunt ante vel ipsum. Praesent blandit lacinia erat. Vestibulum sed magna at nunc commodo placerat.                                                                                             |               |             |                  |                     |                     |\n",
      "|            |                                    |                                                                                                                                                                                                                                                                                                         |               |             |                  |                     |                     |\n",
      "|            |                                    |                                                                                                     Praesent blandit. Nam nulla. Integer pede justo, lacinia eget, tincidunt eget, tempus vel, pede.                                                                                                    |               |             |                  |                     |                     |\n",
      "|     41     |        Raspberries - Fresh         |                                                                        Sed sagittis. Nam congue, risus semper porta volutpat, quam pede lobortis ligula, sit amet eleifend pede libero quis orci. Nullam molestie nibh in lectus.                                                                       |     472.0     |      1      |       319        |  8/30/2017 11:38:35 |  8/16/2019 16:41:52 |\n",
      "|            |                                    |                                                                                                                                                                                                                                                                                                         |               |             |                  |                     |                     |\n",
      "|            |                                    |                                                                                                           Pellentesque at nulla. Suspendisse potenti. Cras in purus eu magna vulputate luctus.                                                                                                          |               |             |                  |                     |                     |\n",
      "|     42     |              Papadam               |                                                                                            Aliquam quis turpis eget elit sodales scelerisque. Mauris sit amet eros. Suspendisse accumsan tortor quis turpis.                                                                                            |     180.54    |      1      |       843        |  9/9/2010 05:44:38  |  6/13/2022 17:07:57 |\n",
      "|            |                                    |                                                                                                                                                                                                                                                                                                         |               |             |                  |                     |                     |\n",
      "|            |                                    |                                                                                                                           Sed ante. Vivamus tortor. Duis mattis egestas metus.                                                                                                                          |               |             |                  |                     |                     |\n",
      "|            |                                    |                                                                                                                                                                                                                                                                                                         |               |             |                  |                     |                     |\n",
      "|            |                                    |                                                                                 Aenean fermentum. Donec ut mauris eget massa tempor convallis. Nulla neque libero, convallis eget, eleifend luctus, ultricies eu, nibh.                                                                                 |               |             |                  |                     |                     |\n",
      "|     43     |       Sprouts - Peppercress        |                                                                                                       In quis justo. Maecenas rhoncus aliquam lacus. Morbi quis tortor id nulla ultrices aliquet.                                                                                                       |     28.96     |      2      |       410        |  5/24/2012 23:29:50 |  12/7/2021 13:39:13 |\n",
      "|            |                                    |                                                                                                                                                                                                                                                                                                         |               |             |                  |                     |                     |\n",
      "|            |                                    |                                                                                  Maecenas leo odio, condimentum id, luctus nec, molestie sed, justo. Pellentesque viverra pede ac diam. Cras pellentesque volutpat dui.                                                                                 |               |             |                  |                     |                     |\n",
      "|     44     |          Cream Of Tartar           |                                                                                                           Pellentesque at nulla. Suspendisse potenti. Cras in purus eu magna vulputate luctus.                                                                                                          |     959.92    |      3      |        3         | 10/13/2019 00:09:31 |  3/25/2018 10:19:53 |\n",
      "|            |                                    |                                                                                                                                                                                                                                                                                                         |               |             |                  |                     |                     |\n",
      "|            |                                    |                                             Cum sociis natoque penatibus et magnis dis parturient montes, nascetur ridiculus mus. Vivamus vestibulum sagittis sapien. Cum sociis natoque penatibus et magnis dis parturient montes, nascetur ridiculus mus.                                             |               |             |                  |                     |                     |\n",
      "|            |                                    |                                                                                                                                                                                                                                                                                                         |               |             |                  |                     |                     |\n",
      "|            |                                    |                                                                                                               Etiam vel augue. Vestibulum rutrum rutrum neque. Aenean auctor gravida sem.                                                                                                               |               |             |                  |                     |                     |\n",
      "|     45     |    Coffee - Frthy Coffee Crisp     |                                                                                                                           Sed ante. Vivamus tortor. Duis mattis egestas metus.                                                                                                                          |     647.57    |      2      |       888        |  5/21/2016 01:50:41 | 11/13/2013 20:26:55 |\n",
      "|     46     |          Bouillion - Fish          |                                                                                                          Aenean lectus. Pellentesque eget nunc. Donec quis orci eget orci vehicula condimentum.                                                                                                         |     645.95    |      3      |       812        |  6/14/2022 23:05:47 |  6/12/2019 21:45:18 |\n",
      "|            |                                    |                                                                                                                                                                                                                                                                                                         |               |             |                  |                     |                     |\n",
      "|            |                                    |                                                                             Curabitur in libero ut massa volutpat convallis. Morbi odio odio, elementum eu, interdum eu, tincidunt in, leo. Maecenas pulvinar lobortis est.                                                                             |               |             |                  |                     |                     |\n",
      "|     47     |    Coffee - Frthy Coffee Crisp     |                                                                                                          Nullam porttitor lacus at turpis. Donec posuere metus vitae ipsum. Aliquam non mauris.                                                                                                         |     976.16    |      3      |       653        |  2/12/2020 08:59:19 |  8/27/2017 06:40:22 |\n",
      "|            |                                    |                                                                                                                                                                                                                                                                                                         |               |             |                  |                     |                     |\n",
      "|            |                                    |                                                                                 Morbi non lectus. Aliquam sit amet diam in magna bibendum imperdiet. Nullam orci pede, venenatis non, sodales sed, tincidunt eu, felis.                                                                                 |               |             |                  |                     |                     |\n",
      "|            |                                    |                                                                                                                                                                                                                                                                                                         |               |             |                  |                     |                     |\n",
      "|            |                                    |                                                                                       Fusce posuere felis sed lacus. Morbi sem mauris, laoreet ut, rhoncus aliquet, pulvinar sed, nisl. Nunc rhoncus dui vel sem.                                                                                       |               |             |                  |                     |                     |\n",
      "|     48     |       Ice Cream - Strawberry       |                                                                                       Proin leo odio, porttitor id, consequat in, consequat ut, nulla. Sed accumsan felis. Ut at dolor quis odio consequat varius.                                                                                      |     928.38    |      3      |       460        |  6/8/2015 17:49:22  | 10/10/2013 12:27:27 |\n",
      "|            |                                    |                                                                                                                                                                                                                                                                                                         |               |             |                  |                     |                     |\n",
      "|            |                                    |                                                                                                                   Integer ac leo. Pellentesque ultrices mattis odio. Donec vitae nisi.                                                                                                                  |               |             |                  |                     |                     |\n",
      "|            |                                    |                                                                                                                                                                                                                                                                                                         |               |             |                  |                     |                     |\n",
      "|            |                                    |                                                           Nam ultrices, libero non mattis pulvinar, nulla pede ullamcorper augue, a suscipit nulla elit ac nulla. Sed vel enim sit amet nunc viverra dapibus. Nulla suscipit ligula in lacus.                                                           |               |             |                  |                     |                     |\n",
      "|     49     |     Bread - Rosemary Focaccia      |                                                                                 Aenean fermentum. Donec ut mauris eget massa tempor convallis. Nulla neque libero, convallis eget, eleifend luctus, ultricies eu, nibh.                                                                                 |     877.03    |      2      |       399        |  5/15/2014 13:04:21 |  8/23/2016 15:39:43 |\n",
      "|            |                                    |                                                                                                                                                                                                                                                                                                         |               |             |                  |                     |                     |\n",
      "|            |                                    |                               Quisque id justo sit amet sapien dignissim vestibulum. Vestibulum ante ipsum primis in faucibus orci luctus et ultrices posuere cubilia Curae; Nulla dapibus dolor vel est. Donec odio justo, sollicitudin ut, suscipit a, feugiat et, eros.                              |               |             |                  |                     |                     |\n",
      "|     50     |            Beef - Diced            |                                                                                  Maecenas leo odio, condimentum id, luctus nec, molestie sed, justo. Pellentesque viverra pede ac diam. Cras pellentesque volutpat dui.                                                                                 |     302.51    |      2      |        11        |  9/9/2020 01:46:51  | 11/25/2016 14:25:10 |\n",
      "|            |                                    |                                                                                                                                                                                                                                                                                                         |               |             |                  |                     |                     |\n",
      "|            |                                    |                            Maecenas tristique, est et tempus semper, est quam pharetra magna, ac consequat metus sapien ut nunc. Vestibulum ante ipsum primis in faucibus orci luctus et ultrices posuere cubilia Curae; Mauris viverra diam vitae quam. Suspendisse potenti.                           |               |             |                  |                     |                     |\n",
      "|            |                                    |                                                                                                                                                                                                                                                                                                         |               |             |                  |                     |                     |\n",
      "|            |                                    |                                                                                                          Nullam porttitor lacus at turpis. Donec posuere metus vitae ipsum. Aliquam non mauris.                                                                                                         |               |             |                  |                     |                     |\n",
      "|     51     |            Lemon Grass             |                                                                                                          Nullam porttitor lacus at turpis. Donec posuere metus vitae ipsum. Aliquam non mauris.                                                                                                         |     814.37    |      3      |       924        |  1/11/2021 21:42:34 | 11/17/2013 19:31:07 |\n",
      "|            |                                    |                                                                                                                                                                                                                                                                                                         |               |             |                  |                     |                     |\n",
      "|            |                                    |                                                                                 Morbi non lectus. Aliquam sit amet diam in magna bibendum imperdiet. Nullam orci pede, venenatis non, sodales sed, tincidunt eu, felis.                                                                                 |               |             |                  |                     |                     |\n",
      "|     52     |  Marsala - Sperone, Fine, D.o.c.   |                                                                                    Cras non velit nec nisi vulputate nonummy. Maecenas tincidunt lacus at velit. Vivamus vel nulla eget eros elementum pellentesque.                                                                                    |     780.61    |      1      |       776        |  4/26/2016 02:45:00 |  2/13/2014 03:04:41 |\n",
      "|            |                                    |                                                                                                                                                                                                                                                                                                         |               |             |                  |                     |                     |\n",
      "|            |                                    |                                                                                               Quisque porta volutpat erat. Quisque erat eros, viverra eget, congue eget, semper rutrum, nulla. Nunc purus.                                                                                              |               |             |                  |                     |                     |\n",
      "|            |                                    |                                                                                                                                                                                                                                                                                                         |               |             |                  |                     |                     |\n",
      "|            |                                    |                                                                                                                        Phasellus in felis. Donec semper sapien a libero. Nam dui.                                                                                                                       |               |             |                  |                     |                     |\n",
      "|     53     |          Bagels Poppyseed          |                                                           Nam ultrices, libero non mattis pulvinar, nulla pede ullamcorper augue, a suscipit nulla elit ac nulla. Sed vel enim sit amet nunc viverra dapibus. Nulla suscipit ligula in lacus.                                                           |     925.31    |      3      |        87        |  6/23/2015 04:16:48 |  9/26/2010 15:44:17 |\n",
      "|            |                                    |                                                                                                                                                                                                                                                                                                         |               |             |                  |                     |                     |\n",
      "|            |                                    |                                                                          Curabitur at ipsum ac tellus semper interdum. Mauris ullamcorper purus sit amet nulla. Quisque arcu libero, rutrum ac, lobortis vel, dapibus at, diam.                                                                         |               |             |                  |                     |                     |\n",
      "|     54     |         Juice - V8, Tomato         |                                                                                                       Maecenas ut massa quis augue luctus tincidunt. Nulla mollis molestie lorem. Quisque ut erat.                                                                                                      |     386.11    |      2      |       897        |  7/16/2022 21:58:42 |  8/19/2013 03:59:59 |\n",
      "|     55     |        Juice - Apple, 1.36l        |                                                                                                       In quis justo. Maecenas rhoncus aliquam lacus. Morbi quis tortor id nulla ultrices aliquet.                                                                                                       |     398.1     |      1      |       560        |  3/25/2019 09:58:25 |  10/1/2011 12:35:09 |\n",
      "|            |                                    |                                                                                                                                                                                                                                                                                                         |               |             |                  |                     |                     |\n",
      "|            |                                    |                                                                                  Maecenas leo odio, condimentum id, luctus nec, molestie sed, justo. Pellentesque viverra pede ac diam. Cras pellentesque volutpat dui.                                                                                 |               |             |                  |                     |                     |\n",
      "|            |                                    |                                                                                                                                                                                                                                                                                                         |               |             |                  |                     |                     |\n",
      "|            |                                    |                            Maecenas tristique, est et tempus semper, est quam pharetra magna, ac consequat metus sapien ut nunc. Vestibulum ante ipsum primis in faucibus orci luctus et ultrices posuere cubilia Curae; Mauris viverra diam vitae quam. Suspendisse potenti.                           |               |             |                  |                     |                     |\n",
      "|     56     |        Spice - Greek 1 Step        |                                                                                  Maecenas leo odio, condimentum id, luctus nec, molestie sed, justo. Pellentesque viverra pede ac diam. Cras pellentesque volutpat dui.                                                                                 |     797.04    |      3      |       519        |  2/19/2018 00:37:11 |  8/19/2014 23:45:57 |\n",
      "|     57     |  Appetizer - Lobster Phyllo Roll   |                                                                                   Morbi porttitor lorem id ligula. Suspendisse ornare consequat lectus. In est risus, auctor sed, tristique in, tempus sit amet, sem.                                                                                   |     906.04    |      3      |       749        |  7/7/2022 22:08:13  |  9/10/2022 14:44:20 |\n",
      "|            |                                    |                                                                                                                                                                                                                                                                                                         |               |             |                  |                     |                     |\n",
      "|            |                                    |                                                                                                                                 Fusce consequat. Nulla nisl. Nunc nisl.                                                                                                                                 |               |             |                  |                     |                     |\n",
      "|     58     |           Cabbage - Red            |                                                                                 Aenean fermentum. Donec ut mauris eget massa tempor convallis. Nulla neque libero, convallis eget, eleifend luctus, ultricies eu, nibh.                                                                                 |     888.58    |      3      |       197        |  12/6/2020 06:07:11 |  6/10/2016 15:38:55 |\n",
      "|            |                                    |                                                                                                                                                                                                                                                                                                         |               |             |                  |                     |                     |\n",
      "|            |                                    |                               Quisque id justo sit amet sapien dignissim vestibulum. Vestibulum ante ipsum primis in faucibus orci luctus et ultrices posuere cubilia Curae; Nulla dapibus dolor vel est. Donec odio justo, sollicitudin ut, suscipit a, feugiat et, eros.                              |               |             |                  |                     |                     |\n",
      "|     59     |  Wine - Port Late Bottled Vintage  | Donec diam neque, vestibulum eget, vulputate ut, ultrices vel, augue. Vestibulum ante ipsum primis in faucibus orci luctus et ultrices posuere cubilia Curae; Donec pharetra, magna vestibulum aliquet ultrices, erat tortor sollicitudin mi, sit amet lobortis sapien sapien non mi. Integer ac neque. |     458.57    |      1      |       150        |  6/27/2015 08:11:41 | 11/22/2017 21:04:48 |\n",
      "|            |                                    |                                                                                                                                                                                                                                                                                                         |               |             |                  |                     |                     |\n",
      "|            |                                    |                                                                                                                    Duis bibendum. Morbi non quam nec dui luctus rutrum. Nulla tellus.                                                                                                                   |               |             |                  |                     |                     |\n",
      "|     60     |    Oil - Shortening,liqud, Fry     |                                                                                                                           In congue. Etiam justo. Etiam pretium iaculis justo.                                                                                                                          |     948.75    |      1      |       737        | 11/22/2020 14:21:34 |  8/4/2016 00:39:18  |\n",
      "|            |                                    |                                                                                                                                                                                                                                                                                                         |               |             |                  |                     |                     |\n",
      "|            |                                    |                                                                                                                 In hac habitasse platea dictumst. Etiam faucibus cursus urna. Ut tellus.                                                                                                                |               |             |                  |                     |                     |\n",
      "|            |                                    |                                                                                                                                                                                                                                                                                                         |               |             |                  |                     |                     |\n",
      "|            |                                    |                                                                                                               Nulla ut erat id mauris vulputate elementum. Nullam varius. Nulla facilisi.                                                                                                               |               |             |                  |                     |                     |\n",
      "|     61     |     The Pop Shoppe - Root Beer     |                                                                                                                    Duis bibendum. Morbi non quam nec dui luctus rutrum. Nulla tellus.                                                                                                                   |     592.35    |      2      |       686        |  10/3/2020 04:13:52 |  4/26/2012 03:15:21 |\n",
      "|            |                                    |                                                                                                                                                                                                                                                                                                         |               |             |                  |                     |                     |\n",
      "|            |                                    |                                                                                                In sagittis dui vel nisl. Duis ac nibh. Fusce lacus purus, aliquet at, feugiat non, pretium quis, lectus.                                                                                                |               |             |                  |                     |                     |\n",
      "|            |                                    |                                                                                                                                                                                                                                                                                                         |               |             |                  |                     |                     |\n",
      "|            |                                    |                                                                                                             Suspendisse potenti. In eleifend quam a odio. In hac habitasse platea dictumst.                                                                                                             |               |             |                  |                     |                     |\n",
      "|     62     |  Containter - 3oz Microwave Rect.  |                                                                              Curabitur gravida nisi at nibh. In hac habitasse platea dictumst. Aliquam augue quam, sollicitudin vitae, consectetuer eget, rutrum at, lorem.                                                                             |     401.04    |      2      |       673        |  9/26/2022 11:50:36 |  4/19/2023 13:49:40 |\n",
      "|            |                                    |                                                                                                                                                                                                                                                                                                         |               |             |                  |                     |                     |\n",
      "|            |                                    |                                                                                             Integer tincidunt ante vel ipsum. Praesent blandit lacinia erat. Vestibulum sed magna at nunc commodo placerat.                                                                                             |               |             |                  |                     |                     |\n",
      "|     63     |       Crush - Orange, 355ml        |                                                                                               Quisque porta volutpat erat. Quisque erat eros, viverra eget, congue eget, semper rutrum, nulla. Nunc purus.                                                                                              |     837.42    |      2      |       476        |  3/15/2013 03:12:19 |  7/25/2010 07:34:29 |\n",
      "|            |                                    |                                                                                                                                                                                                                                                                                                         |               |             |                  |                     |                     |\n",
      "|            |                                    |                                                                                                                        Phasellus in felis. Donec semper sapien a libero. Nam dui.                                                                                                                       |               |             |                  |                     |                     |\n",
      "|     64     |       Ice Cream - Chocolate        |                                                           Nam ultrices, libero non mattis pulvinar, nulla pede ullamcorper augue, a suscipit nulla elit ac nulla. Sed vel enim sit amet nunc viverra dapibus. Nulla suscipit ligula in lacus.                                                           |     899.27    |      2      |       679        |  5/13/2019 20:02:48 |  6/11/2017 06:09:42 |\n",
      "|            |                                    |                                                                                                                                                                                                                                                                                                         |               |             |                  |                     |                     |\n",
      "|            |                                    |                                                                          Curabitur at ipsum ac tellus semper interdum. Mauris ullamcorper purus sit amet nulla. Quisque arcu libero, rutrum ac, lobortis vel, dapibus at, diam.                                                                         |               |             |                  |                     |                     |\n",
      "|     65     |    Water - Mineral, Carbonated     |                                                                                                               Nulla ut erat id mauris vulputate elementum. Nullam varius. Nulla facilisi.                                                                                                               |     517.39    |      3      |        85        | 10/20/2019 17:25:09 |  9/23/2021 09:46:28 |\n",
      "|     66     |          Wine - Rubyport           |                                                                                                        Nullam sit amet turpis elementum ligula vehicula consequat. Morbi a ipsum. Integer a nibh.                                                                                                       |     138.03    |      2      |       155        |  5/9/2021 19:15:37  |  7/28/2010 00:42:36 |\n",
      "|            |                                    |                                                                                                                                                                                                                                                                                                         |               |             |                  |                     |                     |\n",
      "|            |                                    |                                                                                                       In quis justo. Maecenas rhoncus aliquam lacus. Morbi quis tortor id nulla ultrices aliquet.                                                                                                       |               |             |                  |                     |                     |\n",
      "|     67     |    Jam - Blackberry, 20 Ml Jar     |                                                           Proin interdum mauris non ligula pellentesque ultrices. Phasellus id sapien in sapien iaculis congue. Vivamus metus arcu, adipiscing molestie, hendrerit at, vulputate vitae, nisl.                                                           |     959.86    |      1      |       739        |  1/16/2016 15:31:56 |  10/4/2018 17:34:56 |\n",
      "|            |                                    |                                                                                                                                                                                                                                                                                                         |               |             |                  |                     |                     |\n",
      "|            |                                    |                                                                                                          Aenean lectus. Pellentesque eget nunc. Donec quis orci eget orci vehicula condimentum.                                                                                                         |               |             |                  |                     |                     |\n",
      "|     68     |      Bread Base - Gold Formel      |                                                                                  Maecenas leo odio, condimentum id, luctus nec, molestie sed, justo. Pellentesque viverra pede ac diam. Cras pellentesque volutpat dui.                                                                                 |     341.97    |      1      |        4         |  8/12/2016 18:00:09 |  6/21/2017 16:17:11 |\n",
      "|     69     |      Mix - Cocktail Ice Cream      |                                                                                                            Praesent id massa id nisl venenatis lacinia. Aenean sit amet justo. Morbi ut odio.                                                                                                           |     671.59    |      1      |       613        | 11/18/2019 09:45:57 | 11/14/2016 19:32:23 |\n",
      "|     70     |         Pasta - Orzo, Dry          |                                                                                       Proin leo odio, porttitor id, consequat in, consequat ut, nulla. Sed accumsan felis. Ut at dolor quis odio consequat varius.                                                                                      |     149.05    |      3      |       194        |  11/4/2013 18:59:09 |  5/28/2019 01:09:30 |\n",
      "|     71     |         Beef - Short Loin          |                                               Vestibulum quam sapien, varius ut, blandit non, interdum in, ante. Vestibulum ante ipsum primis in faucibus orci luctus et ultrices posuere cubilia Curae; Duis faucibus accumsan odio. Curabitur convallis.                                              |     816.11    |      3      |       163        |  2/14/2021 03:59:44 |  7/11/2022 15:33:55 |\n",
      "|            |                                    |                                                                                                                                                                                                                                                                                                         |               |             |                  |                     |                     |\n",
      "|            |                                    |                                                                                                Duis consequat dui nec nisi volutpat eleifend. Donec ut dolor. Morbi vel lectus in quam fringilla rhoncus.                                                                                               |               |             |                  |                     |                     |\n",
      "|     72     |          Broccoli - Fresh          |                                             Cum sociis natoque penatibus et magnis dis parturient montes, nascetur ridiculus mus. Vivamus vestibulum sagittis sapien. Cum sociis natoque penatibus et magnis dis parturient montes, nascetur ridiculus mus.                                             |     173.11    |      2      |       648        |  12/9/2014 17:37:26 |  2/6/2023 05:45:55  |\n",
      "|            |                                    |                                                                                                                                                                                                                                                                                                         |               |             |                  |                     |                     |\n",
      "|            |                                    |                                                                                                               Etiam vel augue. Vestibulum rutrum rutrum neque. Aenean auctor gravida sem.                                                                                                               |               |             |                  |                     |                     |\n",
      "|            |                                    |                                                                                                                                                                                                                                                                                                         |               |             |                  |                     |                     |\n",
      "|            |                                    |                                                                                                            Praesent id massa id nisl venenatis lacinia. Aenean sit amet justo. Morbi ut odio.                                                                                                           |               |             |                  |                     |                     |\n",
      "|     73     |       Cheese - Cheddarsliced       |                                                                                                                    Duis bibendum. Morbi non quam nec dui luctus rutrum. Nulla tellus.                                                                                                                   |     734.22    |      2      |       924        |  8/22/2020 15:34:29 |  3/15/2013 19:39:29 |\n",
      "|     74     |           Yogurt - Plain           |                                                                                                         Duis aliquam convallis nunc. Proin at turpis a pede posuere nonummy. Integer non velit.                                                                                                         |     119.54    |      1      |       148        |  7/11/2012 03:39:49 |  6/19/2013 06:42:17 |\n",
      "|     75     |         Sausage - Chorizo          |                                                                                                          Aenean lectus. Pellentesque eget nunc. Donec quis orci eget orci vehicula condimentum.                                                                                                         |     139.44    |      1      |       662        |  9/26/2011 18:30:28 |  8/16/2016 23:41:12 |\n",
      "|     76     |      Pasta - Fettuccine, Dry       |                                                                                                         Duis aliquam convallis nunc. Proin at turpis a pede posuere nonummy. Integer non velit.                                                                                                         |     607.71    |      3      |        88        |  9/2/2010 12:25:58  |  1/27/2019 08:44:36 |\n",
      "|            |                                    |                                                                                                                                                                                                                                                                                                         |               |             |                  |                     |                     |\n",
      "|            |                                    | Donec diam neque, vestibulum eget, vulputate ut, ultrices vel, augue. Vestibulum ante ipsum primis in faucibus orci luctus et ultrices posuere cubilia Curae; Donec pharetra, magna vestibulum aliquet ultrices, erat tortor sollicitudin mi, sit amet lobortis sapien sapien non mi. Integer ac neque. |               |             |                  |                     |                     |\n",
      "|            |                                    |                                                                                                                                                                                                                                                                                                         |               |             |                  |                     |                     |\n",
      "|            |                                    |                                                                                                                    Duis bibendum. Morbi non quam nec dui luctus rutrum. Nulla tellus.                                                                                                                   |               |             |                  |                     |                     |\n",
      "|     77     |        Allspice - Jamaican         |                                                                       Duis bibendum, felis sed interdum venenatis, turpis enim blandit mi, in porttitor pede justo eu massa. Donec dapibus. Duis at velit eu est congue elementum.                                                                      |     782.07    |      2      |       889        |  3/5/2023 22:16:58  |  4/23/2021 06:41:04 |\n",
      "|     78     |        Shrimp - Tiger 21/25        |                                                                         Cras mi pede, malesuada in, imperdiet et, commodo vulputate, justo. In blandit ultrices enim. Lorem ipsum dolor sit amet, consectetuer adipiscing elit.                                                                         |     484.78    |      2      |       558        |  4/21/2014 20:02:34 | 12/30/2022 10:26:22 |\n",
      "|            |                                    |                                                                                                                                                                                                                                                                                                         |               |             |                  |                     |                     |\n",
      "|            |                                    |                                                           Proin interdum mauris non ligula pellentesque ultrices. Phasellus id sapien in sapien iaculis congue. Vivamus metus arcu, adipiscing molestie, hendrerit at, vulputate vitae, nisl.                                                           |               |             |                  |                     |                     |\n",
      "|     79     |          Chicken - Bones           |                                                                                                           Phasellus sit amet erat. Nulla tempus. Vivamus in felis eu sapien cursus vestibulum.                                                                                                          |     119.27    |      1      |        32        |  1/12/2014 17:37:41 |  5/29/2014 13:21:47 |\n",
      "|     80     |            Butter Sweet            |                                                                                                                        Phasellus in felis. Donec semper sapien a libero. Nam dui.                                                                                                                       |     105.61    |      2      |       879        |  8/7/2016 01:58:51  |  4/9/2021 01:40:35  |\n",
      "|            |                                    |                                                                                                                                                                                                                                                                                                         |               |             |                  |                     |                     |\n",
      "|            |                                    |                                                                                       Proin leo odio, porttitor id, consequat in, consequat ut, nulla. Sed accumsan felis. Ut at dolor quis odio consequat varius.                                                                                      |               |             |                  |                     |                     |\n",
      "|            |                                    |                                                                                                                                                                                                                                                                                                         |               |             |                  |                     |                     |\n",
      "|            |                                    |                                                                                                                   Integer ac leo. Pellentesque ultrices mattis odio. Donec vitae nisi.                                                                                                                  |               |             |                  |                     |                     |\n",
      "|     81     |             Watercress             |                                                                        Sed sagittis. Nam congue, risus semper porta volutpat, quam pede lobortis ligula, sit amet eleifend pede libero quis orci. Nullam molestie nibh in lectus.                                                                       |     241.67    |      1      |       220        |  4/29/2015 03:06:14 |  6/25/2012 13:43:04 |\n",
      "|            |                                    |                                                                                                                                                                                                                                                                                                         |               |             |                  |                     |                     |\n",
      "|            |                                    |                                                                                                           Pellentesque at nulla. Suspendisse potenti. Cras in purus eu magna vulputate luctus.                                                                                                          |               |             |                  |                     |                     |\n",
      "|            |                                    |                                                                                                                                                                                                                                                                                                         |               |             |                  |                     |                     |\n",
      "|            |                                    |                                             Cum sociis natoque penatibus et magnis dis parturient montes, nascetur ridiculus mus. Vivamus vestibulum sagittis sapien. Cum sociis natoque penatibus et magnis dis parturient montes, nascetur ridiculus mus.                                             |               |             |                  |                     |                     |\n",
      "|     82     |    Soup Knorr Chili With Beans     |                                                                                                                   Integer ac leo. Pellentesque ultrices mattis odio. Donec vitae nisi.                                                                                                                  |     185.46    |      2      |       736        |  3/1/2023 21:32:53  |  4/22/2017 03:44:06 |\n",
      "|            |                                    |                                                                                                                                                                                                                                                                                                         |               |             |                  |                     |                     |\n",
      "|            |                                    |                                                           Nam ultrices, libero non mattis pulvinar, nulla pede ullamcorper augue, a suscipit nulla elit ac nulla. Sed vel enim sit amet nunc viverra dapibus. Nulla suscipit ligula in lacus.                                                           |               |             |                  |                     |                     |\n",
      "|            |                                    |                                                                                                                                                                                                                                                                                                         |               |             |                  |                     |                     |\n",
      "|            |                                    |                                                                          Curabitur at ipsum ac tellus semper interdum. Mauris ullamcorper purus sit amet nulla. Quisque arcu libero, rutrum ac, lobortis vel, dapibus at, diam.                                                                         |               |             |                  |                     |                     |\n",
      "|     83     |         Lettuce - Treviso          |                            Maecenas tristique, est et tempus semper, est quam pharetra magna, ac consequat metus sapien ut nunc. Vestibulum ante ipsum primis in faucibus orci luctus et ultrices posuere cubilia Curae; Mauris viverra diam vitae quam. Suspendisse potenti.                           |     539.42    |      2      |       618        |  6/23/2017 16:49:15 |  5/3/2023 21:43:47  |\n",
      "|            |                                    |                                                                                                                                                                                                                                                                                                         |               |             |                  |                     |                     |\n",
      "|            |                                    |                                                                                                          Nullam porttitor lacus at turpis. Donec posuere metus vitae ipsum. Aliquam non mauris.                                                                                                         |               |             |                  |                     |                     |\n",
      "|     84     |         External Supplier          |                                                             Vestibulum ac est lacinia nisi venenatis tristique. Fusce congue, diam id ornare imperdiet, sapien urna pretium nisl, ut volutpat sapien arcu sed augue. Aliquam erat volutpat.                                                             |     70.95     |      3      |       499        |  5/28/2018 08:23:14 |  11/4/2016 15:25:36 |\n",
      "|            |                                    |                                                                                                                                                                                                                                                                                                         |               |             |                  |                     |                     |\n",
      "|            |                                    |                                                                                                                           In congue. Etiam justo. Etiam pretium iaculis justo.                                                                                                                          |               |             |                  |                     |                     |\n",
      "|            |                                    |                                                                                                                                                                                                                                                                                                         |               |             |                  |                     |                     |\n",
      "|            |                                    |                                                                                                                 In hac habitasse platea dictumst. Etiam faucibus cursus urna. Ut tellus.                                                                                                                |               |             |                  |                     |                     |\n",
      "|     85     |    Bonito Flakes - Toku Katsuo     |                                                                                 Morbi non lectus. Aliquam sit amet diam in magna bibendum imperdiet. Nullam orci pede, venenatis non, sodales sed, tincidunt eu, felis.                                                                                 |     311.28    |      2      |        8         | 11/17/2014 02:00:17 |  7/7/2010 06:18:17  |\n",
      "|            |                                    |                                                                                                                                                                                                                                                                                                         |               |             |                  |                     |                     |\n",
      "|            |                                    |                                                                                       Fusce posuere felis sed lacus. Morbi sem mauris, laoreet ut, rhoncus aliquet, pulvinar sed, nisl. Nunc rhoncus dui vel sem.                                                                                       |               |             |                  |                     |                     |\n",
      "|     86     |           Juice - Lemon            |                                                                                                         Duis aliquam convallis nunc. Proin at turpis a pede posuere nonummy. Integer non velit.                                                                                                         |     964.3     |      1      |       441        |  2/4/2022 16:59:49  |  5/8/2020 16:10:34  |\n",
      "|     87     |              Bay Leaf              |                                                                              Curabitur gravida nisi at nibh. In hac habitasse platea dictumst. Aliquam augue quam, sollicitudin vitae, consectetuer eget, rutrum at, lorem.                                                                             |     740.9     |      1      |       328        |  4/21/2016 07:36:32 |  2/9/2015 15:57:51  |\n",
      "|     88     |        Lid Tray - 12in Dome        |                                                                                                         Lorem ipsum dolor sit amet, consectetuer adipiscing elit. Proin risus. Praesent lectus.                                                                                                         |     438.36    |      3      |       254        |  7/5/2017 20:20:37  |  8/8/2021 23:59:05  |\n",
      "|            |                                    |                                                                                                                                                                                                                                                                                                         |               |             |                  |                     |                     |\n",
      "|            |                                    |                                               Vestibulum quam sapien, varius ut, blandit non, interdum in, ante. Vestibulum ante ipsum primis in faucibus orci luctus et ultrices posuere cubilia Curae; Duis faucibus accumsan odio. Curabitur convallis.                                              |               |             |                  |                     |                     |\n",
      "|     89     |             Dried Figs             |                                                                                  Maecenas leo odio, condimentum id, luctus nec, molestie sed, justo. Pellentesque viverra pede ac diam. Cras pellentesque volutpat dui.                                                                                 |      3.66     |      3      |       853        |  1/19/2018 08:24:18 |  9/26/2019 16:42:26 |\n",
      "|            |                                    |                                                                                                                                                                                                                                                                                                         |               |             |                  |                     |                     |\n",
      "|            |                                    |                            Maecenas tristique, est et tempus semper, est quam pharetra magna, ac consequat metus sapien ut nunc. Vestibulum ante ipsum primis in faucibus orci luctus et ultrices posuere cubilia Curae; Mauris viverra diam vitae quam. Suspendisse potenti.                           |               |             |                  |                     |                     |\n",
      "|            |                                    |                                                                                                                                                                                                                                                                                                         |               |             |                  |                     |                     |\n",
      "|            |                                    |                                                                                                          Nullam porttitor lacus at turpis. Donec posuere metus vitae ipsum. Aliquam non mauris.                                                                                                         |               |             |                  |                     |                     |\n",
      "|     90     |         Doilies - 5, Paper         |                                                                                 Morbi non lectus. Aliquam sit amet diam in magna bibendum imperdiet. Nullam orci pede, venenatis non, sodales sed, tincidunt eu, felis.                                                                                 |     776.21    |      2      |       663        |  3/30/2014 09:26:34 |  9/15/2012 23:47:59 |\n",
      "|     91     |     Melon - Watermelon Yellow      |                                                                                                               Nulla ut erat id mauris vulputate elementum. Nullam varius. Nulla facilisi.                                                                                                               |     658.67    |      3      |       698        |  12/6/2011 08:00:48 |  5/18/2014 07:48:53 |\n",
      "|            |                                    |                                                                                                                                                                                                                                                                                                         |               |             |                  |                     |                     |\n",
      "|            |                                    |                                                                                    Cras non velit nec nisi vulputate nonummy. Maecenas tincidunt lacus at velit. Vivamus vel nulla eget eros elementum pellentesque.                                                                                    |               |             |                  |                     |                     |\n",
      "|            |                                    |                                                                                                                                                                                                                                                                                                         |               |             |                  |                     |                     |\n",
      "|            |                                    |                                                                                               Quisque porta volutpat erat. Quisque erat eros, viverra eget, congue eget, semper rutrum, nulla. Nunc purus.                                                                                              |               |             |                  |                     |                     |\n",
      "|     92     |       Lid - 16 Oz And 32 Oz        |                                                                                                          Aenean lectus. Pellentesque eget nunc. Donec quis orci eget orci vehicula condimentum.                                                                                                         |     411.95    |      2      |       866        |  4/17/2015 04:35:01 |  9/18/2017 19:17:31 |\n",
      "|            |                                    |                                                                                                                                                                                                                                                                                                         |               |             |                  |                     |                     |\n",
      "|            |                                    |                                                                             Curabitur in libero ut massa volutpat convallis. Morbi odio odio, elementum eu, interdum eu, tincidunt in, leo. Maecenas pulvinar lobortis est.                                                                             |               |             |                  |                     |                     |\n",
      "|            |                                    |                                                                                                                                                                                                                                                                                                         |               |             |                  |                     |                     |\n",
      "|            |                                    |                                                                                                           Phasellus sit amet erat. Nulla tempus. Vivamus in felis eu sapien cursus vestibulum.                                                                                                          |               |             |                  |                     |                     |\n",
      "|     93     |       Coke - Classic, 355 Ml       |                                               Vestibulum quam sapien, varius ut, blandit non, interdum in, ante. Vestibulum ante ipsum primis in faucibus orci luctus et ultrices posuere cubilia Curae; Duis faucibus accumsan odio. Curabitur convallis.                                              |     423.27    |      1      |       590        |  4/23/2016 10:46:16 | 10/22/2018 10:20:55 |\n",
      "|            |                                    |                                                                                                                                                                                                                                                                                                         |               |             |                  |                     |                     |\n",
      "|            |                                    |                                                                                                Duis consequat dui nec nisi volutpat eleifend. Donec ut dolor. Morbi vel lectus in quam fringilla rhoncus.                                                                                               |               |             |                  |                     |                     |\n",
      "|            |                                    |                                                                                                                                                                                                                                                                                                         |               |             |                  |                     |                     |\n",
      "|            |                                    |                                           Mauris enim leo, rhoncus sed, vestibulum sit amet, cursus id, turpis. Integer aliquet, massa id lobortis convallis, tortor risus dapibus augue, vel accumsan tellus nisi eu orci. Mauris lacinia sapien quis libero.                                          |               |             |                  |                     |                     |\n",
      "|     94     |    Brocolinni - Gaylan, Chinese    |                                                                                                                        Phasellus in felis. Donec semper sapien a libero. Nam dui.                                                                                                                       |     390.13    |      2      |       690        |  6/9/2010 17:39:46  |  6/24/2022 19:46:47 |\n",
      "|     95     |   Pastry - Banana Muffin - Mini    |                                                                                               Quisque porta volutpat erat. Quisque erat eros, viverra eget, congue eget, semper rutrum, nulla. Nunc purus.                                                                                              |     588.43    |      2      |       684        |  3/8/2016 23:15:15  | 11/24/2022 03:13:32 |\n",
      "|            |                                    |                                                                                                                                                                                                                                                                                                         |               |             |                  |                     |                     |\n",
      "|            |                                    |                                                                                                                        Phasellus in felis. Donec semper sapien a libero. Nam dui.                                                                                                                       |               |             |                  |                     |                     |\n",
      "|     96     |       Magnotta Bel Paese Red       |                                                                                                Duis consequat dui nec nisi volutpat eleifend. Donec ut dolor. Morbi vel lectus in quam fringilla rhoncus.                                                                                               |     925.02    |      2      |       391        |  6/20/2013 09:26:43 |  11/2/2018 17:01:42 |\n",
      "|            |                                    |                                                                                                                                                                                                                                                                                                         |               |             |                  |                     |                     |\n",
      "|            |                                    |                                           Mauris enim leo, rhoncus sed, vestibulum sit amet, cursus id, turpis. Integer aliquet, massa id lobortis convallis, tortor risus dapibus augue, vel accumsan tellus nisi eu orci. Mauris lacinia sapien quis libero.                                          |               |             |                  |                     |                     |\n",
      "|     97     |        Soup - French Onion         |                                                                                                          Nullam porttitor lacus at turpis. Donec posuere metus vitae ipsum. Aliquam non mauris.                                                                                                         |     69.04     |      1      |       218        |  3/22/2015 06:44:44 |  1/21/2020 10:31:12 |\n",
      "|            |                                    |                                                                                                                                                                                                                                                                                                         |               |             |                  |                     |                     |\n",
      "|            |                                    |                                                                                 Morbi non lectus. Aliquam sit amet diam in magna bibendum imperdiet. Nullam orci pede, venenatis non, sodales sed, tincidunt eu, felis.                                                                                 |               |             |                  |                     |                     |\n",
      "|     98     |          Eggplant - Asian          |                                                                                                                           Sed ante. Vivamus tortor. Duis mattis egestas metus.                                                                                                                          |     755.14    |      3      |       629        | 10/15/2019 20:16:10 |  4/29/2015 21:06:55 |\n",
      "|            |                                    |                                                                                                                                                                                                                                                                                                         |               |             |                  |                     |                     |\n",
      "|            |                                    |                                                                                 Aenean fermentum. Donec ut mauris eget massa tempor convallis. Nulla neque libero, convallis eget, eleifend luctus, ultricies eu, nibh.                                                                                 |               |             |                  |                     |                     |\n",
      "|            |                                    |                                                                                                                                                                                                                                                                                                         |               |             |                  |                     |                     |\n",
      "|            |                                    |                               Quisque id justo sit amet sapien dignissim vestibulum. Vestibulum ante ipsum primis in faucibus orci luctus et ultrices posuere cubilia Curae; Nulla dapibus dolor vel est. Donec odio justo, sollicitudin ut, suscipit a, feugiat et, eros.                              |               |             |                  |                     |                     |\n",
      "|     99     |          Wonton Wrappers           |                                                                                                       Maecenas ut massa quis augue luctus tincidunt. Nulla mollis molestie lorem. Quisque ut erat.                                                                                                      |     181.01    |      2      |        9         |  3/17/2020 02:36:28 |  8/25/2018 20:06:10 |\n",
      "|            |                                    |                                                                                                                                                                                                                                                                                                         |               |             |                  |                     |                     |\n",
      "|            |                                    |                                                                              Curabitur gravida nisi at nibh. In hac habitasse platea dictumst. Aliquam augue quam, sollicitudin vitae, consectetuer eget, rutrum at, lorem.                                                                             |               |             |                  |                     |                     |\n",
      "|            |                                    |                                                                                                                                                                                                                                                                                                         |               |             |                  |                     |                     |\n",
      "|            |                                    |                                                                                             Integer tincidunt ante vel ipsum. Praesent blandit lacinia erat. Vestibulum sed magna at nunc commodo placerat.                                                                                             |               |             |                  |                     |                     |\n",
      "|    100     |        Basil - Dry, Rubbed         |                                                                                  Maecenas leo odio, condimentum id, luctus nec, molestie sed, justo. Pellentesque viverra pede ac diam. Cras pellentesque volutpat dui.                                                                                 |     280.73    |      1      |       602        |  1/27/2011 10:07:29 |  3/5/2016 15:48:21  |\n",
      "|            |                                    |                                                                                                                                                                                                                                                                                                         |               |             |                  |                     |                     |\n",
      "|            |                                    |                            Maecenas tristique, est et tempus semper, est quam pharetra magna, ac consequat metus sapien ut nunc. Vestibulum ante ipsum primis in faucibus orci luctus et ultrices posuere cubilia Curae; Mauris viverra diam vitae quam. Suspendisse potenti.                           |               |             |                  |                     |                     |\n",
      "|            |                                    |                                                                                                                                                                                                                                                                                                         |               |             |                  |                     |                     |\n",
      "|            |                                    |                                                                                                          Nullam porttitor lacus at turpis. Donec posuere metus vitae ipsum. Aliquam non mauris.                                                                                                         |               |             |                  |                     |                     |\n",
      "+------------+------------------------------------+---------------------------------------------------------------------------------------------------------------------------------------------------------------------------------------------------------------------------------------------------------------------------------------------------------+---------------+-------------+------------------+---------------------+---------------------+\n"
     ]
    }
   ],
   "source": [
    "# Retrieve data from Products collection \n",
    "data_from_mongodb = products_collection.find()\n",
    "\n",
    "# Create a PrettyTable instance\n",
    "table = PrettyTable()\n",
    "table.field_names = [\"product_id\", \"product_name\", \"description\", \"product_price\", \"category_id\", \"product_quantity\", \"created_at\", \"updated_at\" ]\n",
    "\n",
    "# Populate the table with data from MongoDB\n",
    "for data in data_from_mongodb:\n",
    "    table.add_row([data[\"product_id\"], data[\"product_name\"], data[\"description\"], data[\"product_price\"],data[\"category_id\"], data[\"product_quantity\"], data[\"created_at\"], data[\"updated_at\"] ])\n",
    "    \n",
    "# Print the table\n",
    "print(table)"
   ]
  },
  {
   "cell_type": "markdown",
   "metadata": {},
   "source": [
    "### Read"
   ]
  },
  {
   "cell_type": "code",
   "execution_count": 75,
   "metadata": {},
   "outputs": [
    {
     "name": "stdout",
     "output_type": "stream",
     "text": [
      "The number of items having price > $500.00: 49\n"
     ]
    }
   ],
   "source": [
    "# Query for counting the number of products having price > $500\n",
    "query = {\"product_price\": {\"$gt\": 500} }\n",
    "\n",
    "# Fetch data based on the query\n",
    "cursor = list(products_collection.find(query))\n",
    "\n",
    "# Print the results\n",
    "print(\"The number of items having price > $500.00: \" +str(len(cursor)))"
   ]
  },
  {
   "cell_type": "markdown",
   "metadata": {},
   "source": [
    "### Update"
   ]
  },
  {
   "cell_type": "code",
   "execution_count": 139,
   "metadata": {},
   "outputs": [
    {
     "name": "stdout",
     "output_type": "stream",
     "text": [
      "Matched 1 document(s) and modified 1 document(s)\n"
     ]
    }
   ],
   "source": [
    "# Specify the product ID or any other unique identifier to identify the product\n",
    "product_id_to_update = 1\n",
    "\n",
    "# Specify the new price for the product\n",
    "new_price = 600  # Replace with the new price\n",
    "\n",
    "# Update the price for the specified product\n",
    "result = products_collection.update_one({\"product_id\": product_id_to_update}, {\"$set\": {\"product_price\": new_price }})\n",
    "\n",
    "# Print the update result\n",
    "print(f\"Matched {result.matched_count} document(s) and modified {result.modified_count} document(s)\")\n"
   ]
  },
  {
   "cell_type": "markdown",
   "metadata": {},
   "source": [
    "### Delete"
   ]
  },
  {
   "cell_type": "code",
   "execution_count": 140,
   "metadata": {},
   "outputs": [
    {
     "name": "stdout",
     "output_type": "stream",
     "text": [
      "Deleted 1 document(s) with the product_name: Pancetta\n"
     ]
    }
   ],
   "source": [
    "# you want to delete\n",
    "product_to_delete = \"Pancetta\"\n",
    "\n",
    "# Delete the user with the specified address\n",
    "result = products_collection.delete_one({\"product_name\": product_to_delete})\n",
    "\n",
    "# Print the deletion result\n",
    "print(f\"Deleted {result.deleted_count} document(s) with the product_name: {product_to_delete}\")\n"
   ]
  },
  {
   "cell_type": "markdown",
   "metadata": {},
   "source": [
    "### Orders"
   ]
  },
  {
   "cell_type": "markdown",
   "metadata": {},
   "source": [
    "### Create"
   ]
  },
  {
   "cell_type": "code",
   "execution_count": 117,
   "metadata": {},
   "outputs": [
    {
     "data": {
      "text/plain": [
       "<pymongo.results.DeleteResult at 0x115a849a0>"
      ]
     },
     "execution_count": 117,
     "metadata": {},
     "output_type": "execute_result"
    }
   ],
   "source": [
    "#orders_collection.delete_many({})"
   ]
  },
  {
   "cell_type": "code",
   "execution_count": 118,
   "metadata": {},
   "outputs": [
    {
     "name": "stdout",
     "output_type": "stream",
     "text": [
      "<pymongo.results.InsertManyResult object at 0x115d235e0>\n",
      "Data inserted successfully!\n"
     ]
    }
   ],
   "source": [
    "# Insert data into Orders collection\n",
    "#orders_collection.delete_many({})\n",
    "orders_collection = db[\"Orders\"]\n",
    "\n",
    "# Load mock data from a JSON file\n",
    "with open('order_mock_data.json', 'r') as file:\n",
    "    mock_data = json.load(file)\n",
    "\n",
    "insert_result = orders_collection.insert_many(mock_data)\n",
    "\n",
    "print(insert_result)\n",
    "print(\"Data inserted successfully!\")"
   ]
  },
  {
   "cell_type": "code",
   "execution_count": 119,
   "metadata": {},
   "outputs": [
    {
     "name": "stdout",
     "output_type": "stream",
     "text": [
      "+----------+---------+------------------------+-------------+---------------------+\n",
      "| order_id | user_id | user_registration_date | order_price |      order_date     |\n",
      "+----------+---------+------------------------+-------------+---------------------+\n",
      "|    1     |    1    |  12/12/2012 09:31:46   |    118.89   |  2/6/2012 12:05:34  |\n",
      "|    2     |    2    |   4/26/2022 03:00:10   |    432.39   |  8/3/2014 03:28:55  |\n",
      "|    3     |    3    |   4/12/2012 01:44:11   |    968.01   |  3/18/2018 03:05:57 |\n",
      "|    4     |    4    |   4/7/2016 07:22:53    |    543.98   |  7/18/2016 17:37:13 |\n",
      "|    5     |    5    |   11/7/2021 15:40:33   |    453.39   |  6/23/2008 10:55:59 |\n",
      "|    6     |    6    |   6/12/2014 15:29:44   |    158.57   | 10/25/2022 21:15:07 |\n",
      "|    7     |    7    |   2/23/2018 01:48:20   |    482.2    |  4/25/2022 15:07:18 |\n",
      "|    8     |    8    |   3/25/2019 05:09:47   |    505.57   | 12/17/2010 20:02:29 |\n",
      "|    9     |    9    |   4/10/2018 13:07:10   |    724.89   |  1/12/2008 10:57:34 |\n",
      "|    10    |    10   |   7/3/2022 15:06:04    |    884.75   |  12/9/2022 06:35:50 |\n",
      "|    11    |    11   |  12/30/2017 22:46:22   |    386.92   |  12/1/2016 03:09:04 |\n",
      "|    12    |    12   |   12/8/2022 10:23:44   |    634.37   | 11/30/2009 07:10:59 |\n",
      "|    13    |    13   |   7/25/2013 17:12:01   |    995.05   |  2/22/2018 21:54:17 |\n",
      "|    14    |    14   |   1/16/2016 09:24:16   |    277.54   |  8/20/2014 01:17:47 |\n",
      "|    15    |    15   |   1/8/2012 01:02:41    |    741.93   |  7/27/2017 06:48:56 |\n",
      "|    16    |    16   |  10/17/2007 21:01:20   |    697.09   |  7/14/2022 14:08:46 |\n",
      "|    17    |    17   |   7/21/2017 07:41:22   |    465.2    |  1/6/2017 22:28:16  |\n",
      "|    18    |    18   |   11/9/2020 10:09:37   |    521.64   | 10/14/2015 16:54:36 |\n",
      "|    19    |    19   |  10/30/2022 16:29:04   |    353.97   |  7/9/2008 08:08:51  |\n",
      "|    20    |    20   |   4/9/2018 22:56:59    |    391.9    |  4/13/2011 13:55:02 |\n",
      "|    21    |    21   |   6/17/2010 12:55:27   |    30.39    |  6/8/2011 14:44:57  |\n",
      "|    22    |    22   |   8/28/2019 16:53:09   |    856.8    |  4/15/2015 05:52:40 |\n",
      "|    23    |    23   |   7/18/2006 19:10:21   |    292.8    |  2/11/2019 01:06:56 |\n",
      "|    24    |    24   |   1/8/2011 06:39:23    |    999.18   |  7/15/2019 16:29:02 |\n",
      "|    25    |    25   |   6/2/2007 13:54:38    |    115.08   |  3/4/2020 12:28:07  |\n",
      "|    26    |    26   |  11/13/2013 00:14:31   |     75.7    | 12/28/2019 22:24:44 |\n",
      "|    27    |    27   |   2/9/2021 03:13:38    |    984.31   |  7/14/2014 11:20:03 |\n",
      "|    28    |    28   |   2/12/2016 03:29:13   |    867.61   |  3/26/2022 17:06:02 |\n",
      "|    29    |    29   |   3/5/2011 11:04:28    |    337.99   |  1/31/2008 08:08:26 |\n",
      "|    30    |    30   |   2/10/2022 07:56:24   |    947.22   |  4/24/2008 06:11:39 |\n",
      "|    31    |    31   |   4/13/2005 13:49:20   |    160.65   |  3/4/2018 18:43:47  |\n",
      "|    32    |    32   |   6/20/2009 03:33:51   |    223.53   |  9/13/2011 18:28:17 |\n",
      "|    33    |    33   |   12/7/2006 10:10:08   |    503.08   |  1/19/2018 04:08:40 |\n",
      "|    34    |    34   |   1/3/2013 06:17:52    |    742.06   |  12/1/2022 10:52:45 |\n",
      "|    35    |    35   |   4/18/2021 16:46:27   |    66.34    |  2/26/2009 16:00:56 |\n",
      "|    36    |    36   |   3/7/2019 09:49:57    |    764.98   |  4/3/2010 17:27:44  |\n",
      "|    37    |    37   |   11/7/2014 09:29:59   |    634.45   | 10/14/2020 08:13:27 |\n",
      "|    38    |    38   |   2/6/2010 03:28:08    |     1.56    |  6/2/2008 13:07:57  |\n",
      "|    39    |    39   |  11/12/2005 11:17:03   |    243.85   |  7/25/2020 07:10:34 |\n",
      "|    40    |    40   |  10/11/2010 03:39:52   |    743.79   |  9/7/2022 18:47:05  |\n",
      "|    41    |    41   |   4/7/2012 06:54:03    |    307.24   | 11/19/2010 09:36:21 |\n",
      "|    42    |    42   |   4/25/2019 04:12:24   |    330.19   | 11/16/2008 01:20:54 |\n",
      "|    43    |    43   |   8/26/2019 20:32:35   |    597.22   |  3/14/2017 01:30:40 |\n",
      "|    44    |    44   |   5/30/2022 23:58:41   |    62.64    |  4/1/2010 15:04:40  |\n",
      "|    45    |    45   |   7/23/2007 19:40:08   |    108.09   |  2/14/2021 21:58:05 |\n",
      "|    46    |    46   |  11/23/2014 13:29:20   |    103.66   |  1/15/2012 05:26:19 |\n",
      "|    47    |    47   |   6/30/2016 06:06:46   |    387.98   | 12/21/2017 19:48:20 |\n",
      "|    48    |    48   |  12/12/2022 12:06:04   |    370.96   | 12/25/2016 21:41:30 |\n",
      "|    49    |    49   |   3/14/2006 08:33:47   |    456.56   |  3/28/2022 00:08:32 |\n",
      "|    50    |    50   |  11/26/2010 06:09:08   |    306.34   |  5/31/2018 12:21:41 |\n",
      "|    51    |    51   |   1/20/2011 15:57:19   |    504.18   | 12/15/2016 04:18:37 |\n",
      "|    52    |    52   |   5/1/2021 01:56:51    |    918.32   |  4/24/2017 18:33:55 |\n",
      "|    53    |    53   |   5/29/2021 02:20:30   |    534.44   |  2/18/2020 02:18:07 |\n",
      "|    54    |    54   |   9/8/2016 09:37:22    |    697.37   |  4/26/2016 23:58:43 |\n",
      "|    55    |    55   |   6/5/2020 14:35:45    |    654.6    |  8/8/2012 11:44:08  |\n",
      "|    56    |    56   |   3/8/2018 23:08:52    |    662.03   |  3/22/2019 20:01:29 |\n",
      "|    57    |    57   |  10/15/2011 07:11:44   |    831.98   | 12/15/2015 20:34:33 |\n",
      "|    58    |    58   |   1/30/2009 01:17:10   |    565.12   |  1/19/2017 13:16:29 |\n",
      "|    59    |    59   |   9/18/2005 08:06:16   |    715.56   |  9/20/2015 14:49:51 |\n",
      "|    60    |    60   |   5/19/2008 06:00:14   |    474.38   |  7/10/2010 02:27:03 |\n",
      "|    61    |    61   |   6/10/2015 12:01:53   |    777.26   |  10/1/2021 02:17:00 |\n",
      "|    62    |    62   |   11/2/2007 14:24:29   |    37.29    |  4/16/2009 12:47:56 |\n",
      "|    63    |    63   |   5/15/2015 20:15:44   |    949.79   |  8/24/2010 07:18:00 |\n",
      "|    64    |    64   |   1/1/2005 02:29:21    |    720.62   |  8/4/2017 06:13:50  |\n",
      "|    65    |    65   |   2/12/2013 21:08:28   |    368.76   |  7/4/2015 01:13:31  |\n",
      "|    66    |    66   |   6/22/2015 16:35:49   |    873.5    |  7/1/2013 13:47:20  |\n",
      "|    67    |    67   |   1/20/2008 01:36:15   |    843.71   |  2/8/2013 10:36:49  |\n",
      "|    68    |    68   |  12/15/2005 12:40:32   |    606.61   |  1/25/2019 16:12:03 |\n",
      "|    69    |    69   |   8/5/2020 10:38:44    |    323.13   |  6/20/2020 11:19:24 |\n",
      "|    70    |    70   |   11/1/2005 19:14:16   |    549.75   |  8/22/2015 08:58:35 |\n",
      "|    71    |    71   |  12/31/2020 21:09:27   |    115.4    | 11/19/2017 04:09:15 |\n",
      "|    72    |    72   |   8/4/2020 07:46:06    |    323.72   |  4/18/2019 18:37:50 |\n",
      "|    73    |    73   |   2/1/2007 04:29:03    |    584.63   | 10/27/2018 12:11:20 |\n",
      "|    74    |    74   |   5/5/2011 01:58:52    |    766.06   |  1/31/2021 16:35:56 |\n",
      "|    75    |    75   |   2/22/2014 16:34:51   |    874.74   |  11/8/2010 00:24:57 |\n",
      "|    76    |    76   |   2/9/2019 07:52:36    |    461.12   | 10/21/2022 00:05:35 |\n",
      "|    77    |    77   |   7/9/2011 03:15:14    |    346.81   |  8/31/2009 05:27:59 |\n",
      "|    78    |    78   |   11/8/2015 18:07:19   |    641.85   |  4/26/2022 20:11:40 |\n",
      "|    79    |    79   |   3/14/2009 01:47:11   |    232.91   |  4/28/2014 12:15:34 |\n",
      "|    80    |    80   |   7/17/2015 19:19:21   |    939.88   |  8/26/2012 15:17:22 |\n",
      "|    81    |    81   |   1/31/2017 19:09:27   |    787.62   |  8/5/2018 09:25:43  |\n",
      "|    82    |    82   |  12/17/2008 12:47:16   |    24.82    |  2/14/2021 15:42:14 |\n",
      "|    83    |    83   |  11/20/2009 09:49:48   |    187.97   |  3/31/2022 19:54:55 |\n",
      "|    84    |    84   |   5/3/2011 02:47:46    |    263.16   |  5/3/2017 08:14:21  |\n",
      "|    85    |    85   |   10/2/2013 17:57:32   |    734.23   |  9/10/2019 07:39:16 |\n",
      "|    86    |    86   |  11/23/2005 13:54:13   |    245.99   |  3/29/2017 01:14:26 |\n",
      "|    87    |    87   |   6/22/2012 19:50:05   |    717.73   |  8/31/2021 04:58:18 |\n",
      "|    88    |    88   |   3/26/2014 06:09:21   |    75.82    |  8/11/2015 03:10:05 |\n",
      "|    89    |    89   |   5/3/2015 09:50:18    |    410.92   |  6/29/2013 17:42:09 |\n",
      "|    90    |    90   |  11/21/2014 04:02:06   |    879.82   |  3/24/2010 12:43:17 |\n",
      "|    91    |    91   |   6/12/2008 16:40:59   |    557.92   |  3/27/2021 23:29:01 |\n",
      "|    92    |    92   |   3/31/2021 10:34:48   |    741.14   | 10/22/2022 18:58:45 |\n",
      "|    93    |    93   |   3/26/2019 21:50:13   |    654.43   |  1/17/2014 08:40:34 |\n",
      "|    94    |    94   |   3/15/2012 12:06:12   |    65.78    |  2/24/2022 17:55:57 |\n",
      "|    95    |    95   |   3/28/2006 06:12:04   |    185.59   |  3/29/2017 15:05:33 |\n",
      "|    96    |    96   |   6/13/2021 22:44:41   |    836.96   |  6/12/2009 20:44:41 |\n",
      "|    97    |    97   |  12/18/2009 12:48:12   |    139.95   | 12/15/2009 02:16:19 |\n",
      "|    98    |    98   |   3/31/2009 15:31:50   |    148.29   | 11/30/2020 09:59:38 |\n",
      "|    99    |    99   |   6/29/2006 18:50:28   |    317.37   |  3/5/2012 04:44:08  |\n",
      "|   100    |   100   |   4/24/2022 01:08:48   |    180.88   | 11/12/2009 01:26:20 |\n",
      "+----------+---------+------------------------+-------------+---------------------+\n"
     ]
    }
   ],
   "source": [
    "# Retrieve data from Orders collection \n",
    "data_from_mongodb = orders_collection.find()\n",
    "\n",
    "# Create a PrettyTable instance\n",
    "table = PrettyTable()\n",
    "table.field_names = [\"order_id\", \"user_id\", \"user_registration_date\", \"order_price\", \"order_date\" ]\n",
    "\n",
    "# Populate the table with data from MongoDB\n",
    "for data in data_from_mongodb:\n",
    "    table.add_row([data[\"order_id\"], data[\"user_id\"], data[\"user_registration_date\"], data[\"order_price\"],data[\"order_date\"]])\n",
    "# Print the table\n",
    "print(table)"
   ]
  },
  {
   "cell_type": "markdown",
   "metadata": {},
   "source": [
    "### Read"
   ]
  },
  {
   "cell_type": "code",
   "execution_count": 124,
   "metadata": {},
   "outputs": [
    {
     "name": "stdout",
     "output_type": "stream",
     "text": [
      "{'_id': ObjectId('655262f67f69c7083d39f9dd'), 'order_id': 3, 'user_id': 3, 'user_registration_date': '4/12/2012 01:44:11', 'order_price': 968.01, 'order_date': '3/18/2018 03:05:57'}\n",
      "{'_id': ObjectId('655262f67f69c7083d39f9e7'), 'order_id': 13, 'user_id': 13, 'user_registration_date': '7/25/2013 17:12:01', 'order_price': 995.05, 'order_date': '2/22/2018 21:54:17'}\n",
      "{'_id': ObjectId('655262f67f69c7083d39f9f2'), 'order_id': 24, 'user_id': 24, 'user_registration_date': '1/8/2011 06:39:23', 'order_price': 999.18, 'order_date': '7/15/2019 16:29:02'}\n",
      "{'_id': ObjectId('655262f67f69c7083d39f9f5'), 'order_id': 27, 'user_id': 27, 'user_registration_date': '2/9/2021 03:13:38', 'order_price': 984.31, 'order_date': '7/14/2014 11:20:03'}\n",
      "{'_id': ObjectId('655262f67f69c7083d39f9f8'), 'order_id': 30, 'user_id': 30, 'user_registration_date': '2/10/2022 07:56:24', 'order_price': 947.22, 'order_date': '4/24/2008 06:11:39'}\n",
      "{'_id': ObjectId('655262f67f69c7083d39fa0e'), 'order_id': 52, 'user_id': 52, 'user_registration_date': '5/1/2021 01:56:51', 'order_price': 918.32, 'order_date': '4/24/2017 18:33:55'}\n",
      "{'_id': ObjectId('655262f67f69c7083d39fa19'), 'order_id': 63, 'user_id': 63, 'user_registration_date': '5/15/2015 20:15:44', 'order_price': 949.79, 'order_date': '8/24/2010 07:18:00'}\n",
      "{'_id': ObjectId('655262f67f69c7083d39fa2a'), 'order_id': 80, 'user_id': 80, 'user_registration_date': '7/17/2015 19:19:21', 'order_price': 939.88, 'order_date': '8/26/2012 15:17:22'}\n"
     ]
    }
   ],
   "source": [
    "# Query for orders having price > $900.00\n",
    "query = {\"order_price\": {\"$gt\": 900 } }\n",
    "\n",
    "# Fetch data based on the query\n",
    "cursor = orders_collection.find(query)\n",
    "\n",
    "# Print the results\n",
    "for user_data in cursor:\n",
    "    print(user_data)"
   ]
  },
  {
   "cell_type": "markdown",
   "metadata": {},
   "source": [
    "### Update"
   ]
  },
  {
   "cell_type": "code",
   "execution_count": 144,
   "metadata": {},
   "outputs": [
    {
     "name": "stdout",
     "output_type": "stream",
     "text": [
      "Matched 1 document(s) and modified 1 document(s)\n"
     ]
    }
   ],
   "source": [
    "# Specify the order ID or any other unique identifier to identify the product\n",
    "order_id_to_update = 63\n",
    "\n",
    "# Specify the new price for the product\n",
    "new_price = 705  # Replace with the new price\n",
    "\n",
    "# Update the price for the specified product\n",
    "result = orders_collection.update_one({\"order_id\": order_id_to_update}, {\"$set\": {\"order_price\": new_price }})\n",
    "\n",
    "# Print the update result\n",
    "print(f\"Matched {result.matched_count} document(s) and modified {result.modified_count} document(s)\")"
   ]
  },
  {
   "cell_type": "markdown",
   "metadata": {},
   "source": [
    "### Delete"
   ]
  },
  {
   "cell_type": "code",
   "execution_count": 142,
   "metadata": {},
   "outputs": [
    {
     "name": "stdout",
     "output_type": "stream",
     "text": [
      "Deleted 1 document(s) with the order_id: 55\n"
     ]
    }
   ],
   "source": [
    "# you want to delete\n",
    "order_to_delete = 55\n",
    "\n",
    "# Delete the user with the specified address\n",
    "result = orders_collection.delete_one({\"order_id\": order_to_delete})\n",
    "\n",
    "# Print the deletion result\n",
    "print(f\"Deleted {result.deleted_count} document(s) with the order_id: {order_to_delete}\")\n"
   ]
  },
  {
   "cell_type": "markdown",
   "metadata": {},
   "source": [
    "### OrderDetails"
   ]
  },
  {
   "cell_type": "markdown",
   "metadata": {},
   "source": [
    "### Create"
   ]
  },
  {
   "cell_type": "code",
   "execution_count": 79,
   "metadata": {},
   "outputs": [
    {
     "data": {
      "text/plain": [
       "<pymongo.results.DeleteResult at 0x114bfb1c0>"
      ]
     },
     "execution_count": 79,
     "metadata": {},
     "output_type": "execute_result"
    }
   ],
   "source": [
    "#orders_details_collection.delete_many({})"
   ]
  },
  {
   "cell_type": "code",
   "execution_count": 80,
   "metadata": {},
   "outputs": [
    {
     "name": "stdout",
     "output_type": "stream",
     "text": [
      "<pymongo.results.InsertManyResult object at 0x1070d34c0>\n",
      "Data inserted successfully!\n"
     ]
    }
   ],
   "source": [
    "# Insert data into Order_details collection\n",
    "#orders_details_collection.delete_many({})\n",
    "orders_details_collection = db[\"Order_details\"]\n",
    "\n",
    "# Load mock data from a JSON file\n",
    "with open('order_details_mock_data.json', 'r') as file:\n",
    "    mock_data = json.load(file)\n",
    "\n",
    "insert_result = orders_details_collection.insert_many(mock_data)\n",
    "\n",
    "print(insert_result)\n",
    "print(\"Data inserted successfully!\")"
   ]
  },
  {
   "cell_type": "code",
   "execution_count": 81,
   "metadata": {},
   "outputs": [
    {
     "name": "stdout",
     "output_type": "stream",
     "text": [
      "+-----------------+----------+------------+----------+----------+\n",
      "| order_detail_id | order_id | product_id | quantity | subtotal |\n",
      "+-----------------+----------+------------+----------+----------+\n",
      "|        1        |    1     |     1      |    9     |  655.18  |\n",
      "|        2        |    2     |     2      |    9     |  878.28  |\n",
      "|        3        |    3     |     3      |    7     |  514.9   |\n",
      "|        4        |    4     |     4      |    2     |  396.9   |\n",
      "|        5        |    5     |     5      |    7     |  249.32  |\n",
      "|        6        |    6     |     6      |    4     |  73.83   |\n",
      "|        7        |    7     |     7      |    1     |  191.87  |\n",
      "|        8        |    8     |     8      |    8     |  341.51  |\n",
      "|        9        |    9     |     9      |    2     |  321.48  |\n",
      "|        10       |    10    |     10     |    6     |  264.2   |\n",
      "|        11       |    11    |     11     |    10    |  282.05  |\n",
      "|        12       |    12    |     12     |    5     |  222.83  |\n",
      "|        13       |    13    |     13     |    4     |  363.2   |\n",
      "|        14       |    14    |     14     |    3     |  462.62  |\n",
      "|        15       |    15    |     15     |    4     |  54.44   |\n",
      "|        16       |    16    |     16     |    5     |  383.5   |\n",
      "|        17       |    17    |     17     |    8     |  907.15  |\n",
      "|        18       |    18    |     18     |    5     |  669.28  |\n",
      "|        19       |    19    |     19     |    0     |  372.33  |\n",
      "|        20       |    20    |     20     |    2     |  210.44  |\n",
      "|        21       |    21    |     21     |    10    |  156.41  |\n",
      "|        22       |    22    |     22     |    6     |  154.01  |\n",
      "|        23       |    23    |     23     |    2     |  554.33  |\n",
      "|        24       |    24    |     24     |    4     |  933.71  |\n",
      "|        25       |    25    |     25     |    6     |  642.88  |\n",
      "|        26       |    26    |     26     |    4     |  778.92  |\n",
      "|        27       |    27    |     27     |    5     |  14.01   |\n",
      "|        28       |    28    |     28     |    2     |  21.05   |\n",
      "|        29       |    29    |     29     |    7     |  298.66  |\n",
      "|        30       |    30    |     30     |    9     |  270.29  |\n",
      "|        31       |    31    |     31     |    1     |  78.26   |\n",
      "|        32       |    32    |     32     |    7     |  623.23  |\n",
      "|        33       |    33    |     33     |    6     |  380.27  |\n",
      "|        34       |    34    |     34     |    5     |  391.2   |\n",
      "|        35       |    35    |     35     |    8     |  111.01  |\n",
      "|        36       |    36    |     36     |    3     |  601.76  |\n",
      "|        37       |    37    |     37     |    6     |  112.63  |\n",
      "|        38       |    38    |     38     |    10    |  586.52  |\n",
      "|        39       |    39    |     39     |    6     |  854.23  |\n",
      "|        40       |    40    |     40     |    8     |  897.51  |\n",
      "|        41       |    41    |     41     |    6     |  859.42  |\n",
      "|        42       |    42    |     42     |    10    |  308.83  |\n",
      "|        43       |    43    |     43     |    5     |  958.1   |\n",
      "|        44       |    44    |     44     |    2     |  377.06  |\n",
      "|        45       |    45    |     45     |    8     |  768.51  |\n",
      "|        46       |    46    |     46     |    2     |  215.71  |\n",
      "|        47       |    47    |     47     |    10    |  762.35  |\n",
      "|        48       |    48    |     48     |    10    |  216.02  |\n",
      "|        49       |    49    |     49     |    0     |  407.56  |\n",
      "|        50       |    50    |     50     |    5     |  86.13   |\n",
      "|        51       |    51    |     51     |    8     |  279.08  |\n",
      "|        52       |    52    |     52     |    8     |  614.22  |\n",
      "|        53       |    53    |     53     |    10    |  799.39  |\n",
      "|        54       |    54    |     54     |    8     |  987.15  |\n",
      "|        55       |    55    |     55     |    1     |  443.38  |\n",
      "|        56       |    56    |     56     |    7     |  262.53  |\n",
      "|        57       |    57    |     57     |    0     |  581.48  |\n",
      "|        58       |    58    |     58     |    8     |  75.07   |\n",
      "|        59       |    59    |     59     |    5     |  904.37  |\n",
      "|        60       |    60    |     60     |    0     |  828.09  |\n",
      "|        61       |    61    |     61     |    10    |  150.37  |\n",
      "|        62       |    62    |     62     |    2     |  850.66  |\n",
      "|        63       |    63    |     63     |    10    |  49.15   |\n",
      "|        64       |    64    |     64     |    7     |  959.73  |\n",
      "|        65       |    65    |     65     |    6     |  181.99  |\n",
      "|        66       |    66    |     66     |    0     |  746.97  |\n",
      "|        67       |    67    |     67     |    4     |  705.25  |\n",
      "|        68       |    68    |     68     |    5     |  489.88  |\n",
      "|        69       |    69    |     69     |    5     |  111.23  |\n",
      "|        70       |    70    |     70     |    6     |  285.61  |\n",
      "|        71       |    71    |     71     |    4     |  610.32  |\n",
      "|        72       |    72    |     72     |    3     |  317.34  |\n",
      "|        73       |    73    |     73     |    1     |  672.48  |\n",
      "|        74       |    74    |     74     |    9     |  628.03  |\n",
      "|        75       |    75    |     75     |    9     |  789.39  |\n",
      "|        76       |    76    |     76     |    7     |  669.11  |\n",
      "|        77       |    77    |     77     |    8     |   2.12   |\n",
      "|        78       |    78    |     78     |    8     |  657.45  |\n",
      "|        79       |    79    |     79     |    3     |  385.47  |\n",
      "|        80       |    80    |     80     |    3     |  399.82  |\n",
      "|        81       |    81    |     81     |    3     |  555.48  |\n",
      "|        82       |    82    |     82     |    1     |  331.14  |\n",
      "|        83       |    83    |     83     |    9     |   3.08   |\n",
      "|        84       |    84    |     84     |    7     |  74.02   |\n",
      "|        85       |    85    |     85     |    10    |  566.17  |\n",
      "|        86       |    86    |     86     |    5     |  893.68  |\n",
      "|        87       |    87    |     87     |    1     |  975.28  |\n",
      "|        88       |    88    |     88     |    5     |  97.82   |\n",
      "|        89       |    89    |     89     |    1     |  849.93  |\n",
      "|        90       |    90    |     90     |    1     |  325.83  |\n",
      "|        91       |    91    |     91     |    10    |  410.63  |\n",
      "|        92       |    92    |     92     |    7     |  628.53  |\n",
      "|        93       |    93    |     93     |    4     |  13.55   |\n",
      "|        94       |    94    |     94     |    3     |  803.02  |\n",
      "|        95       |    95    |     95     |    3     |  399.22  |\n",
      "|        96       |    96    |     96     |    1     |  528.6   |\n",
      "|        97       |    97    |     97     |    9     |  518.54  |\n",
      "|        98       |    98    |     98     |    0     |  345.81  |\n",
      "|        99       |    99    |     99     |    4     |  753.24  |\n",
      "|       100       |   100    |    100     |    3     |  637.81  |\n",
      "+-----------------+----------+------------+----------+----------+\n"
     ]
    }
   ],
   "source": [
    "# Retrieve data from Order details collection \n",
    "data_from_mongodb = orders_details_collection.find()\n",
    "\n",
    "# Create a PrettyTable instance\n",
    "table = PrettyTable()\n",
    "table.field_names = [\"order_detail_id\", \"order_id\", \"product_id\", \"quantity\", \"subtotal\" ]\n",
    "\n",
    "# Populate the table with data from MongoDB\n",
    "for data in data_from_mongodb:\n",
    "    table.add_row([data[\"order_detail_id\"], data[\"order_id\"], data[\"product_id\"], data[\"quantity\"],data[\"subtotal\"]])\n",
    "# Print the table\n",
    "print(table)"
   ]
  },
  {
   "cell_type": "markdown",
   "metadata": {},
   "source": [
    "### Read"
   ]
  },
  {
   "cell_type": "code",
   "execution_count": 84,
   "metadata": {},
   "outputs": [
    {
     "name": "stdout",
     "output_type": "stream",
     "text": [
      "{'_id': ObjectId('65525e567f69c7083d39f599'), 'order_detail_id': 11, 'order_id': 11, 'product_id': 11, 'quantity': 10, 'subtotal': 282.05}\n",
      "{'_id': ObjectId('65525e567f69c7083d39f5a3'), 'order_detail_id': 21, 'order_id': 21, 'product_id': 21, 'quantity': 10, 'subtotal': 156.41}\n",
      "{'_id': ObjectId('65525e567f69c7083d39f5b4'), 'order_detail_id': 38, 'order_id': 38, 'product_id': 38, 'quantity': 10, 'subtotal': 586.52}\n",
      "{'_id': ObjectId('65525e567f69c7083d39f5b8'), 'order_detail_id': 42, 'order_id': 42, 'product_id': 42, 'quantity': 10, 'subtotal': 308.83}\n",
      "{'_id': ObjectId('65525e567f69c7083d39f5bd'), 'order_detail_id': 47, 'order_id': 47, 'product_id': 47, 'quantity': 10, 'subtotal': 762.35}\n",
      "{'_id': ObjectId('65525e567f69c7083d39f5be'), 'order_detail_id': 48, 'order_id': 48, 'product_id': 48, 'quantity': 10, 'subtotal': 216.02}\n",
      "{'_id': ObjectId('65525e567f69c7083d39f5c3'), 'order_detail_id': 53, 'order_id': 53, 'product_id': 53, 'quantity': 10, 'subtotal': 799.39}\n",
      "{'_id': ObjectId('65525e567f69c7083d39f5cb'), 'order_detail_id': 61, 'order_id': 61, 'product_id': 61, 'quantity': 10, 'subtotal': 150.37}\n",
      "{'_id': ObjectId('65525e567f69c7083d39f5cd'), 'order_detail_id': 63, 'order_id': 63, 'product_id': 63, 'quantity': 10, 'subtotal': 49.15}\n",
      "{'_id': ObjectId('65525e567f69c7083d39f5e3'), 'order_detail_id': 85, 'order_id': 85, 'product_id': 85, 'quantity': 10, 'subtotal': 566.17}\n",
      "{'_id': ObjectId('65525e567f69c7083d39f5e9'), 'order_detail_id': 91, 'order_id': 91, 'product_id': 91, 'quantity': 10, 'subtotal': 410.63}\n"
     ]
    }
   ],
   "source": [
    "# Query for orders having quantity 10\n",
    "query = {\"quantity\": 10 }\n",
    "\n",
    "# Fetch data based on the query\n",
    "cursor = orders_details_collection.find(query)\n",
    "\n",
    "# Print the results\n",
    "for user_data in cursor:\n",
    "    print(user_data)"
   ]
  },
  {
   "cell_type": "markdown",
   "metadata": {},
   "source": [
    "### Update"
   ]
  },
  {
   "cell_type": "code",
   "execution_count": 148,
   "metadata": {},
   "outputs": [
    {
     "name": "stdout",
     "output_type": "stream",
     "text": [
      "Matched 1 document(s) and modified 1 document(s)\n"
     ]
    }
   ],
   "source": [
    "# Specify the order detail ID \n",
    "order_detail_id_to_update = 82\n",
    "\n",
    "# Specify the new subtotal for the order\n",
    "new_price = 152  # Replace with the new price\n",
    "\n",
    "# Update the price for the specified product\n",
    "result = orders_collection.update_one({\"order_id\": order_detail_id_to_update}, {\"$set\": {\"order_price\": new_price }})\n",
    "\n",
    "# Print the update result\n",
    "print(f\"Matched {result.matched_count} document(s) and modified {result.modified_count} document(s)\")"
   ]
  },
  {
   "cell_type": "markdown",
   "metadata": {},
   "source": [
    "### Delete"
   ]
  },
  {
   "cell_type": "code",
   "execution_count": 147,
   "metadata": {},
   "outputs": [
    {
     "name": "stdout",
     "output_type": "stream",
     "text": [
      "Deleted 1 document(s) with the order_id: 54\n"
     ]
    }
   ],
   "source": [
    "# you want to delete\n",
    "order_detail_id_to_delete = 54\n",
    "\n",
    "# Delete the user with the specified address\n",
    "result = orders_details_collection.delete_one({\"order_detail_id\": order_detail_id_to_delete})\n",
    "\n",
    "# Print the deletion result\n",
    "print(f\"Deleted {result.deleted_count} document(s) with the order_id: {order_detail_id_to_delete}\")"
   ]
  },
  {
   "cell_type": "markdown",
   "metadata": {},
   "source": [
    "### Transactions"
   ]
  },
  {
   "cell_type": "markdown",
   "metadata": {},
   "source": [
    "### Create"
   ]
  },
  {
   "cell_type": "code",
   "execution_count": 86,
   "metadata": {},
   "outputs": [
    {
     "data": {
      "text/plain": [
       "<pymongo.results.DeleteResult at 0x107010fa0>"
      ]
     },
     "execution_count": 86,
     "metadata": {},
     "output_type": "execute_result"
    }
   ],
   "source": [
    "#transaction_collection.delete_many({})"
   ]
  },
  {
   "cell_type": "code",
   "execution_count": 87,
   "metadata": {},
   "outputs": [
    {
     "name": "stdout",
     "output_type": "stream",
     "text": [
      "<pymongo.results.InsertManyResult object at 0x115cfbf10>\n",
      "Data inserted successfully!\n"
     ]
    }
   ],
   "source": [
    "# Transactions (transaction_id (pk), order_id (fk), transaction_date, payment_status [pending, declined, accepted, refunded])\n",
    "# Insert data into Transactions collection\n",
    "#transaction_collection.delete_many({})\n",
    "transaction_collection = db[\"Transaction\"]\n",
    "\n",
    "# Load mock data from a JSON file\n",
    "with open('transaction_mock_data.json', 'r') as file:\n",
    "    mock_data = json.load(file)\n",
    "\n",
    "insert_result = transaction_collection.insert_many(mock_data)\n",
    "\n",
    "print(insert_result)\n",
    "print(\"Data inserted successfully!\")"
   ]
  },
  {
   "cell_type": "code",
   "execution_count": 152,
   "metadata": {},
   "outputs": [
    {
     "name": "stdout",
     "output_type": "stream",
     "text": [
      "+----------------+----------+------------------+----------------+\n",
      "| transaction_id | order_id | transaction_date | payment_status |\n",
      "+----------------+----------+------------------+----------------+\n",
      "|       5        |    9     |    5/25/2020     |    accepted    |\n",
      "|       3        |    8     |    2/17/2019     |    pending     |\n",
      "|       8        |    3     |     9/6/2014     |    refunded    |\n",
      "|       6        |    4     |    7/12/2018     |    accepted    |\n",
      "|       5        |    1     |    11/10/2020    |    refunded    |\n",
      "|       7        |    10    |     6/3/2020     |    accepted    |\n",
      "|       7        |    8     |    12/13/2020    |    accepted    |\n",
      "|       5        |    1     |    4/28/2021     |    pending     |\n",
      "|       3        |    9     |    12/13/2017    |    refunded    |\n",
      "|       8        |    4     |    4/23/2014     |    pending     |\n",
      "|       0        |    3     |    11/18/2017    |    refunded    |\n",
      "|       5        |    9     |    11/14/2014    |    pending     |\n",
      "|       7        |    3     |    10/23/2019    |    accepted    |\n",
      "|       6        |    6     |     7/6/2017     |    refunded    |\n",
      "|       3        |    0     |     8/4/2013     |    accepted    |\n",
      "|       0        |    0     |    10/10/2017    |    accepted    |\n",
      "|       1        |    4     |    3/28/2010     |    pending     |\n",
      "|       9        |    10    |    12/4/2016     |    pending     |\n",
      "|       2        |    10    |     5/9/2019     |    refunded    |\n",
      "|       0        |    2     |    2/11/2013     |    pending     |\n",
      "|       3        |    9     |    11/9/2012     |    accepted    |\n",
      "|       10       |    9     |     5/7/2017     |    pending     |\n",
      "|       3        |    10    |    11/12/2021    |    accepted    |\n",
      "|       4        |    2     |    1/17/2011     |    accepted    |\n",
      "|       0        |    8     |    8/19/2018     |    pending     |\n",
      "|       6        |    9     |    10/8/2014     |    accepted    |\n",
      "|       0        |    9     |    6/27/2018     |    refunded    |\n",
      "|       7        |    7     |    5/21/2012     |    refunded    |\n",
      "|       0        |    2     |     9/7/2016     |    refunded    |\n",
      "|       2        |    3     |    4/29/2018     |    accepted    |\n",
      "|       9        |    1     |     5/9/2017     |    pending     |\n",
      "|       10       |    6     |    4/20/2020     |    pending     |\n",
      "|       6        |    10    |    10/10/2012    |    accepted    |\n",
      "|       8        |    9     |    8/11/2020     |    pending     |\n",
      "|       8        |    9     |    2/23/2017     |    refunded    |\n",
      "|       2        |    4     |     5/3/2012     |    refunded    |\n",
      "|       6        |    1     |     7/5/2011     |    refunded    |\n",
      "|       10       |    7     |    11/22/2019    |    pending     |\n",
      "|       8        |    7     |    8/12/2012     |    accepted    |\n",
      "|       0        |    8     |     3/7/2021     |    pending     |\n",
      "|       3        |    2     |    6/30/2020     |    pending     |\n",
      "|       7        |    7     |    11/3/2016     |    refunded    |\n",
      "|       6        |    7     |     4/8/2018     |    accepted    |\n",
      "|       5        |    6     |    3/26/2012     |    accepted    |\n",
      "|       5        |    8     |    6/27/2016     |    accepted    |\n",
      "|       2        |    2     |     7/2/2021     |    accepted    |\n",
      "|       5        |    0     |     2/7/2015     |    refunded    |\n",
      "|       1        |    8     |    6/19/2016     |    pending     |\n",
      "|       1        |    2     |    10/14/2015    |    accepted    |\n",
      "|       4        |    6     |     1/4/2020     |    refunded    |\n",
      "|       0        |    9     |    3/23/2018     |    accepted    |\n",
      "|       7        |    7     |    12/5/2014     |    accepted    |\n",
      "|       3        |    6     |    1/21/2018     |    accepted    |\n",
      "|       2        |    2     |    1/31/2019     |    accepted    |\n",
      "|       2        |    5     |    12/4/2016     |    refunded    |\n",
      "|       1        |    8     |     5/4/2014     |    accepted    |\n",
      "|       9        |    8     |    4/27/2011     |    accepted    |\n",
      "|       5        |    5     |    1/31/2021     |    refunded    |\n",
      "|       2        |    6     |    3/11/2017     |    refunded    |\n",
      "|       9        |    4     |    12/2/2020     |    accepted    |\n",
      "|       0        |    3     |    12/28/2014    |    refunded    |\n",
      "|       0        |    10    |    11/10/2015    |    accepted    |\n",
      "|       1        |    8     |    5/14/2014     |    pending     |\n",
      "+----------------+----------+------------------+----------------+\n"
     ]
    }
   ],
   "source": [
    "# Retrieve data from Transactions collection \n",
    "data_from_mongodb = transaction_collection.find()\n",
    "\n",
    "# Create a PrettyTable instance\n",
    "table = PrettyTable()\n",
    "table.field_names = [\"transaction_id\", \"order_id\", \"transaction_date\", \"payment_status\" ]\n",
    "\n",
    "# Populate the table with data from MongoDB\n",
    "for data in data_from_mongodb:\n",
    "    table.add_row([data[\"transaction_id\"], data[\"order_id\"], data[\"transaction_date\"],data[\"payment_status\"]])\n",
    "# Print the table\n",
    "print(table)"
   ]
  },
  {
   "cell_type": "markdown",
   "metadata": {},
   "source": [
    "### Read"
   ]
  },
  {
   "cell_type": "code",
   "execution_count": 104,
   "metadata": {},
   "outputs": [
    {
     "name": "stdout",
     "output_type": "stream",
     "text": [
      "{'_id': ObjectId('65525ef67f69c7083d39f65b'), 'transaction_id': 8, 'order_id': 3, 'transaction_date': '9/6/2014', 'payment_status': 'refunded'}\n",
      "{'_id': ObjectId('65525ef67f69c7083d39f65f'), 'transaction_id': 5, 'order_id': 1, 'transaction_date': '11/10/2020', 'payment_status': 'refunded'}\n",
      "{'_id': ObjectId('65525ef67f69c7083d39f663'), 'transaction_id': 3, 'order_id': 9, 'transaction_date': '12/13/2017', 'payment_status': 'refunded'}\n",
      "{'_id': ObjectId('65525ef67f69c7083d39f669'), 'transaction_id': 0, 'order_id': 3, 'transaction_date': '11/18/2017', 'payment_status': 'refunded'}\n",
      "{'_id': ObjectId('65525ef67f69c7083d39f66e'), 'transaction_id': 6, 'order_id': 6, 'transaction_date': '7/6/2017', 'payment_status': 'refunded'}\n",
      "{'_id': ObjectId('65525ef67f69c7083d39f67a'), 'transaction_id': 2, 'order_id': 10, 'transaction_date': '5/9/2019', 'payment_status': 'refunded'}\n",
      "{'_id': ObjectId('65525ef67f69c7083d39f686'), 'transaction_id': 0, 'order_id': 9, 'transaction_date': '6/27/2018', 'payment_status': 'refunded'}\n",
      "{'_id': ObjectId('65525ef67f69c7083d39f687'), 'transaction_id': 7, 'order_id': 7, 'transaction_date': '5/21/2012', 'payment_status': 'refunded'}\n",
      "{'_id': ObjectId('65525ef67f69c7083d39f688'), 'transaction_id': 0, 'order_id': 2, 'transaction_date': '9/7/2016', 'payment_status': 'refunded'}\n",
      "{'_id': ObjectId('65525ef67f69c7083d39f691'), 'transaction_id': 8, 'order_id': 9, 'transaction_date': '2/23/2017', 'payment_status': 'refunded'}\n",
      "{'_id': ObjectId('65525ef67f69c7083d39f692'), 'transaction_id': 2, 'order_id': 4, 'transaction_date': '5/3/2012', 'payment_status': 'refunded'}\n",
      "{'_id': ObjectId('65525ef67f69c7083d39f695'), 'transaction_id': 6, 'order_id': 1, 'transaction_date': '7/5/2011', 'payment_status': 'refunded'}\n",
      "{'_id': ObjectId('65525ef67f69c7083d39f69b'), 'transaction_id': 7, 'order_id': 7, 'transaction_date': '11/3/2016', 'payment_status': 'refunded'}\n",
      "{'_id': ObjectId('65525ef67f69c7083d39f6a2'), 'transaction_id': 5, 'order_id': 0, 'transaction_date': '2/7/2015', 'payment_status': 'refunded'}\n",
      "{'_id': ObjectId('65525ef67f69c7083d39f6a6'), 'transaction_id': 4, 'order_id': 6, 'transaction_date': '1/4/2020', 'payment_status': 'refunded'}\n",
      "{'_id': ObjectId('65525ef67f69c7083d39f6ac'), 'transaction_id': 2, 'order_id': 5, 'transaction_date': '12/4/2016', 'payment_status': 'refunded'}\n",
      "{'_id': ObjectId('65525ef67f69c7083d39f6b1'), 'transaction_id': 5, 'order_id': 5, 'transaction_date': '1/31/2021', 'payment_status': 'refunded'}\n",
      "{'_id': ObjectId('65525ef67f69c7083d39f6b2'), 'transaction_id': 2, 'order_id': 6, 'transaction_date': '3/11/2017', 'payment_status': 'refunded'}\n",
      "{'_id': ObjectId('65525ef67f69c7083d39f6b5'), 'transaction_id': 0, 'order_id': 3, 'transaction_date': '12/28/2014', 'payment_status': 'refunded'}\n"
     ]
    }
   ],
   "source": [
    "# Query for the payment_status to be refunded\n",
    "query = {\"payment_status\": 'refunded' }\n",
    "\n",
    "# Fetch data based on the query\n",
    "cursor = transaction_collection.find(query)\n",
    "# Print the results\n",
    "for user_data in cursor:\n",
    "    print(user_data)"
   ]
  },
  {
   "cell_type": "markdown",
   "metadata": {},
   "source": [
    "### Update"
   ]
  },
  {
   "cell_type": "code",
   "execution_count": 153,
   "metadata": {},
   "outputs": [
    {
     "name": "stdout",
     "output_type": "stream",
     "text": [
      "Matched 1 document(s) and modified 1 document(s)\n"
     ]
    }
   ],
   "source": [
    "# Specify the order ID \n",
    "id_to_update = 82\n",
    "\n",
    "# Specifying the other value\n",
    "new_status = 'refunded'\n",
    "\n",
    "# Update the price for the specified product\n",
    "result = orders_collection.update_one({\"order_id\": id_to_update}, {\"$set\": {\"payment_status\": new_status }})\n",
    "\n",
    "# Print the update result\n",
    "print(f\"Matched {result.matched_count} document(s) and modified {result.modified_count} document(s)\")"
   ]
  },
  {
   "cell_type": "markdown",
   "metadata": {},
   "source": [
    "### Delete"
   ]
  },
  {
   "cell_type": "code",
   "execution_count": 151,
   "metadata": {},
   "outputs": [
    {
     "name": "stdout",
     "output_type": "stream",
     "text": [
      "Deleted 37 document(s) with the payment status: declined\n"
     ]
    }
   ],
   "source": [
    "# you want to delete\n",
    "status_to_delete = \"declined\"\n",
    "\n",
    "# Delete the user with the specified payment status\n",
    "result = transaction_collection.delete_many({\"payment_status\": status_to_delete})\n",
    "\n",
    "# Print the deletion result\n",
    "print(f\"Deleted {result.deleted_count} document(s) with the payment status: {status_to_delete}\")"
   ]
  },
  {
   "cell_type": "markdown",
   "metadata": {},
   "source": [
    "### Reviews"
   ]
  },
  {
   "cell_type": "markdown",
   "metadata": {},
   "source": [
    "### Create"
   ]
  },
  {
   "cell_type": "code",
   "execution_count": 91,
   "metadata": {},
   "outputs": [
    {
     "data": {
      "text/plain": [
       "<pymongo.results.DeleteResult at 0x1070d32e0>"
      ]
     },
     "execution_count": 91,
     "metadata": {},
     "output_type": "execute_result"
    }
   ],
   "source": [
    "#review_collection.delete_many({})"
   ]
  },
  {
   "cell_type": "code",
   "execution_count": 92,
   "metadata": {},
   "outputs": [
    {
     "name": "stdout",
     "output_type": "stream",
     "text": [
      "<pymongo.results.InsertManyResult object at 0x115d7d0f0>\n",
      "Data inserted successfully!\n"
     ]
    }
   ],
   "source": [
    "# Insert data into Reviews collection\n",
    "#review_collection.delete_many({})\n",
    "review_collection = db[\"Review\"]\n",
    "\n",
    "# Load mock data from a JSON file\n",
    "with open('review_mock_data.json', 'r') as file:\n",
    "    mock_data = json.load(file)\n",
    "\n",
    "insert_result = review_collection.insert_many(mock_data)\n",
    "\n",
    "print(insert_result)\n",
    "print(\"Data inserted successfully!\")"
   ]
  },
  {
   "cell_type": "code",
   "execution_count": 158,
   "metadata": {},
   "outputs": [
    {
     "name": "stdout",
     "output_type": "stream",
     "text": [
      "+-----------+------------+---------+------------------------+--------+---------------------------------------------------------------------------------------------------------------------------------------------------------------------------------------------------------------------------------------------------------------------------------------------------------+------------+\n",
      "| review_id | product_id | user_id | user_registration_date | rating |                                                                                                                                               review_text                                                                                                                                               | created_at |\n",
      "+-----------+------------+---------+------------------------+--------+---------------------------------------------------------------------------------------------------------------------------------------------------------------------------------------------------------------------------------------------------------------------------------------------------------+------------+\n",
      "|    406    |     10     |   577   |       6/26/2007        |   4    |                                                             Vestibulum ac est lacinia nisi venenatis tristique. Fusce congue, diam id ornare imperdiet, sapien urna pretium nisl, ut volutpat sapien arcu sed augue. Aliquam erat volutpat.                                                             | 2/18/2017  |\n",
      "|           |            |         |                        |        |                                                                                                                                                                                                                                                                                                         |            |\n",
      "|           |            |         |                        |        |                                                                                                                           In congue. Etiam justo. Etiam pretium iaculis justo.                                                                                                                          |            |\n",
      "|    253    |     29     |   808   |       2/27/2009        |   4    |                                                                                                          Nullam porttitor lacus at turpis. Donec posuere metus vitae ipsum. Aliquam non mauris.                                                                                                         | 5/25/2012  |\n",
      "|    550    |     40     |   488   |       11/28/2011       |   0    |                                                                                                                   Integer ac leo. Pellentesque ultrices mattis odio. Donec vitae nisi.                                                                                                                  | 6/25/2019  |\n",
      "|    314    |     37     |   449   |       1/28/2008        |   2    |                                                                                                                           Sed ante. Vivamus tortor. Duis mattis egestas metus.                                                                                                                          | 6/20/2013  |\n",
      "|     55    |     79     |    97   |       3/14/2006        |   4    |                                                                                                               Nulla ut erat id mauris vulputate elementum. Nullam varius. Nulla facilisi.                                                                                                               | 9/29/2015  |\n",
      "|           |            |         |                        |        |                                                                                                                                                                                                                                                                                                         |            |\n",
      "|           |            |         |                        |        |                                                                                    Cras non velit nec nisi vulputate nonummy. Maecenas tincidunt lacus at velit. Vivamus vel nulla eget eros elementum pellentesque.                                                                                    |            |\n",
      "|           |            |         |                        |        |                                                                                                                                                                                                                                                                                                         |            |\n",
      "|           |            |         |                        |        |                                                                                               Quisque porta volutpat erat. Quisque erat eros, viverra eget, congue eget, semper rutrum, nulla. Nunc purus.                                                                                              |            |\n",
      "|     44    |     64     |   119   |        3/7/2011        |   4    |                                                                                 Aenean fermentum. Donec ut mauris eget massa tempor convallis. Nulla neque libero, convallis eget, eleifend luctus, ultricies eu, nibh.                                                                                 | 11/24/2012 |\n",
      "|           |            |         |                        |        |                                                                                                                                                                                                                                                                                                         |            |\n",
      "|           |            |         |                        |        |                               Quisque id justo sit amet sapien dignissim vestibulum. Vestibulum ante ipsum primis in faucibus orci luctus et ultrices posuere cubilia Curae; Nulla dapibus dolor vel est. Donec odio justo, sollicitudin ut, suscipit a, feugiat et, eros.                              |            |\n",
      "|    537    |     55     |   777   |        7/9/2010        |   0    |                                                                             Curabitur in libero ut massa volutpat convallis. Morbi odio odio, elementum eu, interdum eu, tincidunt in, leo. Maecenas pulvinar lobortis est.                                                                             |  9/6/2013  |\n",
      "|    522    |     66     |   449   |       12/31/2006       |   3    |                                                                    In hac habitasse platea dictumst. Morbi vestibulum, velit id pretium iaculis, diam erat fermentum justo, nec condimentum neque sapien placerat ante. Nulla justo.                                                                    | 11/7/2013  |\n",
      "|    100    |     17     |   895   |       2/11/2011        |   0    |                                                                                                Duis consequat dui nec nisi volutpat eleifend. Donec ut dolor. Morbi vel lectus in quam fringilla rhoncus.                                                                                               |  2/4/2022  |\n",
      "|    968    |     48     |   230   |       10/11/2010       |   0    |                                                                                                          Aenean lectus. Pellentesque eget nunc. Donec quis orci eget orci vehicula condimentum.                                                                                                         | 5/14/2016  |\n",
      "|    446    |     86     |   116   |       1/21/2006        |   3    |                                                                                       Proin leo odio, porttitor id, consequat in, consequat ut, nulla. Sed accumsan felis. Ut at dolor quis odio consequat varius.                                                                                      | 9/11/2020  |\n",
      "|           |            |         |                        |        |                                                                                                                                                                                                                                                                                                         |            |\n",
      "|           |            |         |                        |        |                                                                                                                   Integer ac leo. Pellentesque ultrices mattis odio. Donec vitae nisi.                                                                                                                  |            |\n",
      "|           |            |         |                        |        |                                                                                                                                                                                                                                                                                                         |            |\n",
      "|           |            |         |                        |        |                                                           Nam ultrices, libero non mattis pulvinar, nulla pede ullamcorper augue, a suscipit nulla elit ac nulla. Sed vel enim sit amet nunc viverra dapibus. Nulla suscipit ligula in lacus.                                                           |            |\n",
      "|    205    |     31     |   163   |       8/26/2010        |   2    |                                                                    In hac habitasse platea dictumst. Morbi vestibulum, velit id pretium iaculis, diam erat fermentum justo, nec condimentum neque sapien placerat ante. Nulla justo.                                                                    | 12/23/2012 |\n",
      "|           |            |         |                        |        |                                                                                                                                                                                                                                                                                                         |            |\n",
      "|           |            |         |                        |        |                                                                                            Aliquam quis turpis eget elit sodales scelerisque. Mauris sit amet eros. Suspendisse accumsan tortor quis turpis.                                                                                            |            |\n",
      "|    477    |     33     |   712   |       4/19/2007        |   4    |                               Quisque id justo sit amet sapien dignissim vestibulum. Vestibulum ante ipsum primis in faucibus orci luctus et ultrices posuere cubilia Curae; Nulla dapibus dolor vel est. Donec odio justo, sollicitudin ut, suscipit a, feugiat et, eros.                              | 1/12/2017  |\n",
      "|    525    |     80     |   128   |       4/16/2010        |   5    |                                             Cum sociis natoque penatibus et magnis dis parturient montes, nascetur ridiculus mus. Vivamus vestibulum sagittis sapien. Cum sociis natoque penatibus et magnis dis parturient montes, nascetur ridiculus mus.                                             | 3/11/2014  |\n",
      "|           |            |         |                        |        |                                                                                                                                                                                                                                                                                                         |            |\n",
      "|           |            |         |                        |        |                                                                                                               Etiam vel augue. Vestibulum rutrum rutrum neque. Aenean auctor gravida sem.                                                                                                               |            |\n",
      "|           |            |         |                        |        |                                                                                                                                                                                                                                                                                                         |            |\n",
      "|           |            |         |                        |        |                                                                                                            Praesent id massa id nisl venenatis lacinia. Aenean sit amet justo. Morbi ut odio.                                                                                                           |            |\n",
      "|    882    |     66     |   780   |       4/23/2009        |   0    |                                                                                                           Phasellus sit amet erat. Nulla tempus. Vivamus in felis eu sapien cursus vestibulum.                                                                                                          | 5/18/2020  |\n",
      "|    399    |     91     |   394   |       10/18/2005       |   3    |                                                                                                                    Duis bibendum. Morbi non quam nec dui luctus rutrum. Nulla tellus.                                                                                                                   | 11/30/2017 |\n",
      "|     13    |     84     |   376   |       11/6/2007        |   4    |                                                                                                                           Sed ante. Vivamus tortor. Duis mattis egestas metus.                                                                                                                          | 6/30/2012  |\n",
      "|    891    |     39     |   978   |        1/2/2010        |   3    |                                                                                            Aliquam quis turpis eget elit sodales scelerisque. Mauris sit amet eros. Suspendisse accumsan tortor quis turpis.                                                                                            | 8/22/2020  |\n",
      "|    345    |     90     |   834   |       5/27/2006        |   0    |                                                             Vestibulum ac est lacinia nisi venenatis tristique. Fusce congue, diam id ornare imperdiet, sapien urna pretium nisl, ut volutpat sapien arcu sed augue. Aliquam erat volutpat.                                                             |  9/3/2019  |\n",
      "|           |            |         |                        |        |                                                                                                                                                                                                                                                                                                         |            |\n",
      "|           |            |         |                        |        |                                                                                                                           In congue. Etiam justo. Etiam pretium iaculis justo.                                                                                                                          |            |\n",
      "|    379    |     90     |   858   |       10/25/2007       |   4    |                                                                                                          Aenean lectus. Pellentesque eget nunc. Donec quis orci eget orci vehicula condimentum.                                                                                                         | 7/13/2012  |\n",
      "|    965    |     47     |   956   |        7/2/2008        |   0    |                                                             Vestibulum ac est lacinia nisi venenatis tristique. Fusce congue, diam id ornare imperdiet, sapien urna pretium nisl, ut volutpat sapien arcu sed augue. Aliquam erat volutpat.                                                             | 9/27/2013  |\n",
      "|    461    |     46     |   996   |       4/29/2010        |   0    |                                                                                                     Praesent blandit. Nam nulla. Integer pede justo, lacinia eget, tincidunt eget, tempus vel, pede.                                                                                                    | 4/27/2018  |\n",
      "|           |            |         |                        |        |                                                                                                                                                                                                                                                                                                         |            |\n",
      "|           |            |         |                        |        |                                                                                   Morbi porttitor lorem id ligula. Suspendisse ornare consequat lectus. In est risus, auctor sed, tristique in, tempus sit amet, sem.                                                                                   |            |\n",
      "|    712    |     57     |   738   |       9/13/2006        |   4    |                                                                       Duis bibendum, felis sed interdum venenatis, turpis enim blandit mi, in porttitor pede justo eu massa. Donec dapibus. Duis at velit eu est congue elementum.                                                                      | 12/20/2016 |\n",
      "|     57    |     77     |   923   |       1/15/2006        |   5    |                                               Vestibulum quam sapien, varius ut, blandit non, interdum in, ante. Vestibulum ante ipsum primis in faucibus orci luctus et ultrices posuere cubilia Curae; Duis faucibus accumsan odio. Curabitur convallis.                                              |  7/3/2021  |\n",
      "|           |            |         |                        |        |                                                                                                                                                                                                                                                                                                         |            |\n",
      "|           |            |         |                        |        |                                                                                                Duis consequat dui nec nisi volutpat eleifend. Donec ut dolor. Morbi vel lectus in quam fringilla rhoncus.                                                                                               |            |\n",
      "|           |            |         |                        |        |                                                                                                                                                                                                                                                                                                         |            |\n",
      "|           |            |         |                        |        |                                           Mauris enim leo, rhoncus sed, vestibulum sit amet, cursus id, turpis. Integer aliquet, massa id lobortis convallis, tortor risus dapibus augue, vel accumsan tellus nisi eu orci. Mauris lacinia sapien quis libero.                                          |            |\n",
      "|    104    |     53     |   305   |       2/12/2009        |   4    |                                             Cum sociis natoque penatibus et magnis dis parturient montes, nascetur ridiculus mus. Vivamus vestibulum sagittis sapien. Cum sociis natoque penatibus et magnis dis parturient montes, nascetur ridiculus mus.                                             | 8/27/2019  |\n",
      "|     79    |     99     |   609   |       2/23/2009        |   2    |                                                                                             Integer tincidunt ante vel ipsum. Praesent blandit lacinia erat. Vestibulum sed magna at nunc commodo placerat.                                                                                             |  7/7/2018  |\n",
      "|           |            |         |                        |        |                                                                                                                                                                                                                                                                                                         |            |\n",
      "|           |            |         |                        |        |                                                                                                     Praesent blandit. Nam nulla. Integer pede justo, lacinia eget, tincidunt eget, tempus vel, pede.                                                                                                    |            |\n",
      "|           |            |         |                        |        |                                                                                                                                                                                                                                                                                                         |            |\n",
      "|           |            |         |                        |        |                                                                                   Morbi porttitor lorem id ligula. Suspendisse ornare consequat lectus. In est risus, auctor sed, tristique in, tempus sit amet, sem.                                                                                   |            |\n",
      "|    330    |     64     |   285   |       3/17/2011        |   5    |                                                                                                         Lorem ipsum dolor sit amet, consectetuer adipiscing elit. Proin risus. Praesent lectus.                                                                                                         | 1/16/2017  |\n",
      "|           |            |         |                        |        |                                                                                                                                                                                                                                                                                                         |            |\n",
      "|           |            |         |                        |        |                                               Vestibulum quam sapien, varius ut, blandit non, interdum in, ante. Vestibulum ante ipsum primis in faucibus orci luctus et ultrices posuere cubilia Curae; Duis faucibus accumsan odio. Curabitur convallis.                                              |            |\n",
      "|           |            |         |                        |        |                                                                                                                                                                                                                                                                                                         |            |\n",
      "|           |            |         |                        |        |                                                                                                Duis consequat dui nec nisi volutpat eleifend. Donec ut dolor. Morbi vel lectus in quam fringilla rhoncus.                                                                                               |            |\n",
      "|    159    |     15     |   775   |       11/18/2011       |   5    |                                                                          Curabitur at ipsum ac tellus semper interdum. Mauris ullamcorper purus sit amet nulla. Quisque arcu libero, rutrum ac, lobortis vel, dapibus at, diam.                                                                         | 12/16/2012 |\n",
      "|    628    |     45     |   824   |       5/13/2006        |   4    |                                                                                                     Praesent blandit. Nam nulla. Integer pede justo, lacinia eget, tincidunt eget, tempus vel, pede.                                                                                                    | 10/13/2012 |\n",
      "|           |            |         |                        |        |                                                                                                                                                                                                                                                                                                         |            |\n",
      "|           |            |         |                        |        |                                                                                   Morbi porttitor lorem id ligula. Suspendisse ornare consequat lectus. In est risus, auctor sed, tristique in, tempus sit amet, sem.                                                                                   |            |\n",
      "|    386    |     73     |   363   |       4/12/2009        |   5    | Donec diam neque, vestibulum eget, vulputate ut, ultrices vel, augue. Vestibulum ante ipsum primis in faucibus orci luctus et ultrices posuere cubilia Curae; Donec pharetra, magna vestibulum aliquet ultrices, erat tortor sollicitudin mi, sit amet lobortis sapien sapien non mi. Integer ac neque. | 12/16/2018 |\n",
      "|           |            |         |                        |        |                                                                                                                                                                                                                                                                                                         |            |\n",
      "|           |            |         |                        |        |                                                                                                                    Duis bibendum. Morbi non quam nec dui luctus rutrum. Nulla tellus.                                                                                                                   |            |\n",
      "|           |            |         |                        |        |                                                                                                                                                                                                                                                                                                         |            |\n",
      "|           |            |         |                        |        |                                                                                                In sagittis dui vel nisl. Duis ac nibh. Fusce lacus purus, aliquet at, feugiat non, pretium quis, lectus.                                                                                                |            |\n",
      "|    780    |     39     |   597   |        1/6/2009        |   0    |                                                                         Cras mi pede, malesuada in, imperdiet et, commodo vulputate, justo. In blandit ultrices enim. Lorem ipsum dolor sit amet, consectetuer adipiscing elit.                                                                         |  1/1/2013  |\n",
      "|     5     |     42     |   737   |        9/4/2009        |   2    |                                                           Proin interdum mauris non ligula pellentesque ultrices. Phasellus id sapien in sapien iaculis congue. Vivamus metus arcu, adipiscing molestie, hendrerit at, vulputate vitae, nisl.                                                           | 2/28/2022  |\n",
      "|           |            |         |                        |        |                                                                                                                                                                                                                                                                                                         |            |\n",
      "|           |            |         |                        |        |                                                                                                          Aenean lectus. Pellentesque eget nunc. Donec quis orci eget orci vehicula condimentum.                                                                                                         |            |\n",
      "|           |            |         |                        |        |                                                                                                                                                                                                                                                                                                         |            |\n",
      "|           |            |         |                        |        |                                                                             Curabitur in libero ut massa volutpat convallis. Morbi odio odio, elementum eu, interdum eu, tincidunt in, leo. Maecenas pulvinar lobortis est.                                                                             |            |\n",
      "|     48    |     53     |   498   |       6/18/2006        |   3    |                                                                                                          Nullam porttitor lacus at turpis. Donec posuere metus vitae ipsum. Aliquam non mauris.                                                                                                         | 9/13/2020  |\n",
      "|           |            |         |                        |        |                                                                                                                                                                                                                                                                                                         |            |\n",
      "|           |            |         |                        |        |                                                                                 Morbi non lectus. Aliquam sit amet diam in magna bibendum imperdiet. Nullam orci pede, venenatis non, sodales sed, tincidunt eu, felis.                                                                                 |            |\n",
      "|           |            |         |                        |        |                                                                                                                                                                                                                                                                                                         |            |\n",
      "|           |            |         |                        |        |                                                                                       Fusce posuere felis sed lacus. Morbi sem mauris, laoreet ut, rhoncus aliquet, pulvinar sed, nisl. Nunc rhoncus dui vel sem.                                                                                       |            |\n",
      "|     63    |     22     |   925   |       8/11/2009        |   3    |                                                                                  Maecenas leo odio, condimentum id, luctus nec, molestie sed, justo. Pellentesque viverra pede ac diam. Cras pellentesque volutpat dui.                                                                                 | 9/19/2018  |\n",
      "|           |            |         |                        |        |                                                                                                                                                                                                                                                                                                         |            |\n",
      "|           |            |         |                        |        |                            Maecenas tristique, est et tempus semper, est quam pharetra magna, ac consequat metus sapien ut nunc. Vestibulum ante ipsum primis in faucibus orci luctus et ultrices posuere cubilia Curae; Mauris viverra diam vitae quam. Suspendisse potenti.                           |            |\n",
      "|    973    |     34     |   217   |       9/30/2007        |   5    |                                                                                                                        Phasellus in felis. Donec semper sapien a libero. Nam dui.                                                                                                                       | 2/22/2017  |\n",
      "|           |            |         |                        |        |                                                                                                                                                                                                                                                                                                         |            |\n",
      "|           |            |         |                        |        |                                                                                       Proin leo odio, porttitor id, consequat in, consequat ut, nulla. Sed accumsan felis. Ut at dolor quis odio consequat varius.                                                                                      |            |\n",
      "|           |            |         |                        |        |                                                                                                                                                                                                                                                                                                         |            |\n",
      "|           |            |         |                        |        |                                                                                                                   Integer ac leo. Pellentesque ultrices mattis odio. Donec vitae nisi.                                                                                                                  |            |\n",
      "|    489    |     71     |   192   |       10/16/2009       |   4    |                                                                                                           Pellentesque at nulla. Suspendisse potenti. Cras in purus eu magna vulputate luctus.                                                                                                          | 12/17/2014 |\n",
      "|           |            |         |                        |        |                                                                                                                                                                                                                                                                                                         |            |\n",
      "|           |            |         |                        |        |                                             Cum sociis natoque penatibus et magnis dis parturient montes, nascetur ridiculus mus. Vivamus vestibulum sagittis sapien. Cum sociis natoque penatibus et magnis dis parturient montes, nascetur ridiculus mus.                                             |            |\n",
      "|           |            |         |                        |        |                                                                                                                                                                                                                                                                                                         |            |\n",
      "|           |            |         |                        |        |                                                                                                               Etiam vel augue. Vestibulum rutrum rutrum neque. Aenean auctor gravida sem.                                                                                                               |            |\n",
      "|    375    |     45     |   583   |       7/11/2006        |   2    |                                                                                                                        Phasellus in felis. Donec semper sapien a libero. Nam dui.                                                                                                                       | 11/3/2021  |\n",
      "|           |            |         |                        |        |                                                                                                                                                                                                                                                                                                         |            |\n",
      "|           |            |         |                        |        |                                                                                       Proin leo odio, porttitor id, consequat in, consequat ut, nulla. Sed accumsan felis. Ut at dolor quis odio consequat varius.                                                                                      |            |\n",
      "|    456    |     77     |   500   |        1/9/2011        |   2    |                                                                                                          Aenean lectus. Pellentesque eget nunc. Donec quis orci eget orci vehicula condimentum.                                                                                                         |  8/7/2018  |\n",
      "|           |            |         |                        |        |                                                                                                                                                                                                                                                                                                         |            |\n",
      "|           |            |         |                        |        |                                                                             Curabitur in libero ut massa volutpat convallis. Morbi odio odio, elementum eu, interdum eu, tincidunt in, leo. Maecenas pulvinar lobortis est.                                                                             |            |\n",
      "|    403    |     93     |   815   |       11/24/2006       |   4    |                                                                                                        Nullam sit amet turpis elementum ligula vehicula consequat. Morbi a ipsum. Integer a nibh.                                                                                                       |  6/6/2021  |\n",
      "|           |            |         |                        |        |                                                                                                                                                                                                                                                                                                         |            |\n",
      "|           |            |         |                        |        |                                                                                                       In quis justo. Maecenas rhoncus aliquam lacus. Morbi quis tortor id nulla ultrices aliquet.                                                                                                       |            |\n",
      "|           |            |         |                        |        |                                                                                                                                                                                                                                                                                                         |            |\n",
      "|           |            |         |                        |        |                                                                                  Maecenas leo odio, condimentum id, luctus nec, molestie sed, justo. Pellentesque viverra pede ac diam. Cras pellentesque volutpat dui.                                                                                 |            |\n",
      "|     27    |     27     |   918   |       10/19/2008       |   0    |                                                                                                In sagittis dui vel nisl. Duis ac nibh. Fusce lacus purus, aliquet at, feugiat non, pretium quis, lectus.                                                                                                | 6/15/2017  |\n",
      "|    855    |     18     |   642   |       2/17/2009        |   4    |                                                                                                            Praesent id massa id nisl venenatis lacinia. Aenean sit amet justo. Morbi ut odio.                                                                                                           |  1/2/2013  |\n",
      "|           |            |         |                        |        |                                                                                                                                                                                                                                                                                                         |            |\n",
      "|           |            |         |                        |        |                                                                         Cras mi pede, malesuada in, imperdiet et, commodo vulputate, justo. In blandit ultrices enim. Lorem ipsum dolor sit amet, consectetuer adipiscing elit.                                                                         |            |\n",
      "|    381    |     40     |   949   |       7/20/2008        |   5    |                                                                                                                   Integer ac leo. Pellentesque ultrices mattis odio. Donec vitae nisi.                                                                                                                  | 11/4/2015  |\n",
      "|           |            |         |                        |        |                                                                                                                                                                                                                                                                                                         |            |\n",
      "|           |            |         |                        |        |                                                           Nam ultrices, libero non mattis pulvinar, nulla pede ullamcorper augue, a suscipit nulla elit ac nulla. Sed vel enim sit amet nunc viverra dapibus. Nulla suscipit ligula in lacus.                                                           |            |\n",
      "|           |            |         |                        |        |                                                                                                                                                                                                                                                                                                         |            |\n",
      "|           |            |         |                        |        |                                                                          Curabitur at ipsum ac tellus semper interdum. Mauris ullamcorper purus sit amet nulla. Quisque arcu libero, rutrum ac, lobortis vel, dapibus at, diam.                                                                         |            |\n",
      "|    240    |     67     |   985   |        1/1/2010        |   5    |                                                                                                             Suspendisse potenti. In eleifend quam a odio. In hac habitasse platea dictumst.                                                                                                             | 2/10/2015  |\n",
      "|    624    |     7      |   264   |        4/2/2011        |   5    |                                                                                                Duis consequat dui nec nisi volutpat eleifend. Donec ut dolor. Morbi vel lectus in quam fringilla rhoncus.                                                                                               | 8/30/2017  |\n",
      "|           |            |         |                        |        |                                                                                                                                                                                                                                                                                                         |            |\n",
      "|           |            |         |                        |        |                                           Mauris enim leo, rhoncus sed, vestibulum sit amet, cursus id, turpis. Integer aliquet, massa id lobortis convallis, tortor risus dapibus augue, vel accumsan tellus nisi eu orci. Mauris lacinia sapien quis libero.                                          |            |\n",
      "|           |            |         |                        |        |                                                                                                                                                                                                                                                                                                         |            |\n",
      "|           |            |         |                        |        |                                                                                                        Nullam sit amet turpis elementum ligula vehicula consequat. Morbi a ipsum. Integer a nibh.                                                                                                       |            |\n",
      "|    578    |     15     |   663   |        9/3/2008        |   5    |                                                                                                                        Phasellus in felis. Donec semper sapien a libero. Nam dui.                                                                                                                       |  4/6/2018  |\n",
      "|           |            |         |                        |        |                                                                                                                                                                                                                                                                                                         |            |\n",
      "|           |            |         |                        |        |                                                                                       Proin leo odio, porttitor id, consequat in, consequat ut, nulla. Sed accumsan felis. Ut at dolor quis odio consequat varius.                                                                                      |            |\n",
      "|           |            |         |                        |        |                                                                                                                                                                                                                                                                                                         |            |\n",
      "|           |            |         |                        |        |                                                                                                                   Integer ac leo. Pellentesque ultrices mattis odio. Donec vitae nisi.                                                                                                                  |            |\n",
      "|     91    |     88     |   503   |       10/20/2010       |   2    |                                                                       Duis bibendum, felis sed interdum venenatis, turpis enim blandit mi, in porttitor pede justo eu massa. Donec dapibus. Duis at velit eu est congue elementum.                                                                      | 9/22/2021  |\n",
      "|           |            |         |                        |        |                                                                                                                                                                                                                                                                                                         |            |\n",
      "|           |            |         |                        |        |                                                                    In hac habitasse platea dictumst. Morbi vestibulum, velit id pretium iaculis, diam erat fermentum justo, nec condimentum neque sapien placerat ante. Nulla justo.                                                                    |            |\n",
      "|     12    |     44     |   168   |       6/21/2008        |   3    |                                                                                       Proin leo odio, porttitor id, consequat in, consequat ut, nulla. Sed accumsan felis. Ut at dolor quis odio consequat varius.                                                                                      |  5/7/2016  |\n",
      "|           |            |         |                        |        |                                                                                                                                                                                                                                                                                                         |            |\n",
      "|           |            |         |                        |        |                                                                                                                   Integer ac leo. Pellentesque ultrices mattis odio. Donec vitae nisi.                                                                                                                  |            |\n",
      "|    528    |     93     |   721   |       9/25/2005        |   2    |                                           Mauris enim leo, rhoncus sed, vestibulum sit amet, cursus id, turpis. Integer aliquet, massa id lobortis convallis, tortor risus dapibus augue, vel accumsan tellus nisi eu orci. Mauris lacinia sapien quis libero.                                          | 12/19/2016 |\n",
      "|           |            |         |                        |        |                                                                                                                                                                                                                                                                                                         |            |\n",
      "|           |            |         |                        |        |                                                                                                        Nullam sit amet turpis elementum ligula vehicula consequat. Morbi a ipsum. Integer a nibh.                                                                                                       |            |\n",
      "|           |            |         |                        |        |                                                                                                                                                                                                                                                                                                         |            |\n",
      "|           |            |         |                        |        |                                                                                                       In quis justo. Maecenas rhoncus aliquam lacus. Morbi quis tortor id nulla ultrices aliquet.                                                                                                       |            |\n",
      "|    349    |     32     |   922   |        4/1/2009        |   4    |                                                                                   Morbi porttitor lorem id ligula. Suspendisse ornare consequat lectus. In est risus, auctor sed, tristique in, tempus sit amet, sem.                                                                                   | 7/27/2020  |\n",
      "|           |            |         |                        |        |                                                                                                                                                                                                                                                                                                         |            |\n",
      "|           |            |         |                        |        |                                                                                                                                 Fusce consequat. Nulla nisl. Nunc nisl.                                                                                                                                 |            |\n",
      "|           |            |         |                        |        |                                                                                                                                                                                                                                                                                                         |            |\n",
      "|           |            |         |                        |        |                                                                       Duis bibendum, felis sed interdum venenatis, turpis enim blandit mi, in porttitor pede justo eu massa. Donec dapibus. Duis at velit eu est congue elementum.                                                                      |            |\n",
      "|    887    |     78     |   577   |       12/30/2005       |   3    |                                                                                               Quisque porta volutpat erat. Quisque erat eros, viverra eget, congue eget, semper rutrum, nulla. Nunc purus.                                                                                              | 1/24/2022  |\n",
      "|           |            |         |                        |        |                                                                                                                                                                                                                                                                                                         |            |\n",
      "|           |            |         |                        |        |                                                                                                                        Phasellus in felis. Donec semper sapien a libero. Nam dui.                                                                                                                       |            |\n",
      "|    629    |     85     |   303   |       11/9/2010        |   3    |                                                                                             Integer tincidunt ante vel ipsum. Praesent blandit lacinia erat. Vestibulum sed magna at nunc commodo placerat.                                                                                             | 11/9/2012  |\n",
      "|    150    |     89     |   657   |       8/23/2008        |   0    |                                                                             Curabitur in libero ut massa volutpat convallis. Morbi odio odio, elementum eu, interdum eu, tincidunt in, leo. Maecenas pulvinar lobortis est.                                                                             | 1/26/2013  |\n",
      "|           |            |         |                        |        |                                                                                                                                                                                                                                                                                                         |            |\n",
      "|           |            |         |                        |        |                                                                                                           Phasellus sit amet erat. Nulla tempus. Vivamus in felis eu sapien cursus vestibulum.                                                                                                          |            |\n",
      "|    268    |     65     |   438   |       8/10/2011        |   4    |                                                                                                                                 Fusce consequat. Nulla nisl. Nunc nisl.                                                                                                                                 | 5/18/2014  |\n",
      "|           |            |         |                        |        |                                                                                                                                                                                                                                                                                                         |            |\n",
      "|           |            |         |                        |        |                                                                       Duis bibendum, felis sed interdum venenatis, turpis enim blandit mi, in porttitor pede justo eu massa. Donec dapibus. Duis at velit eu est congue elementum.                                                                      |            |\n",
      "|    363    |     33     |   234   |       3/26/2010        |   2    |                                                                                                                 In hac habitasse platea dictumst. Etiam faucibus cursus urna. Ut tellus.                                                                                                                | 10/3/2021  |\n",
      "|           |            |         |                        |        |                                                                                                                                                                                                                                                                                                         |            |\n",
      "|           |            |         |                        |        |                                                                                                               Nulla ut erat id mauris vulputate elementum. Nullam varius. Nulla facilisi.                                                                                                               |            |\n",
      "|     70    |     75     |    78   |       8/29/2006        |   5    |                                                                                                       Maecenas ut massa quis augue luctus tincidunt. Nulla mollis molestie lorem. Quisque ut erat.                                                                                                      | 2/21/2015  |\n",
      "|           |            |         |                        |        |                                                                                                                                                                                                                                                                                                         |            |\n",
      "|           |            |         |                        |        |                                                                              Curabitur gravida nisi at nibh. In hac habitasse platea dictumst. Aliquam augue quam, sollicitudin vitae, consectetuer eget, rutrum at, lorem.                                                                             |            |\n",
      "|     25    |     48     |   567   |       12/24/2006       |   5    |                                                                             Curabitur in libero ut massa volutpat convallis. Morbi odio odio, elementum eu, interdum eu, tincidunt in, leo. Maecenas pulvinar lobortis est.                                                                             | 7/18/2016  |\n",
      "|    286    |     62     |   697   |       7/31/2010        |   5    |                                                                                                         Duis aliquam convallis nunc. Proin at turpis a pede posuere nonummy. Integer non velit.                                                                                                         | 2/25/2016  |\n",
      "|           |            |         |                        |        |                                                                                                                                                                                                                                                                                                         |            |\n",
      "|           |            |         |                        |        | Donec diam neque, vestibulum eget, vulputate ut, ultrices vel, augue. Vestibulum ante ipsum primis in faucibus orci luctus et ultrices posuere cubilia Curae; Donec pharetra, magna vestibulum aliquet ultrices, erat tortor sollicitudin mi, sit amet lobortis sapien sapien non mi. Integer ac neque. |            |\n",
      "|           |            |         |                        |        |                                                                                                                                                                                                                                                                                                         |            |\n",
      "|           |            |         |                        |        |                                                                                                                    Duis bibendum. Morbi non quam nec dui luctus rutrum. Nulla tellus.                                                                                                                   |            |\n",
      "|    288    |     75     |   637   |       11/10/2006       |   5    |                                                                    In hac habitasse platea dictumst. Morbi vestibulum, velit id pretium iaculis, diam erat fermentum justo, nec condimentum neque sapien placerat ante. Nulla justo.                                                                    | 10/2/2017  |\n",
      "|           |            |         |                        |        |                                                                                                                                                                                                                                                                                                         |            |\n",
      "|           |            |         |                        |        |                                                                                            Aliquam quis turpis eget elit sodales scelerisque. Mauris sit amet eros. Suspendisse accumsan tortor quis turpis.                                                                                            |            |\n",
      "|           |            |         |                        |        |                                                                                                                                                                                                                                                                                                         |            |\n",
      "|           |            |         |                        |        |                                                                                                                           Sed ante. Vivamus tortor. Duis mattis egestas metus.                                                                                                                          |            |\n",
      "|    416    |     37     |   991   |        1/4/2012        |   4    |                                                                                                                           Sed ante. Vivamus tortor. Duis mattis egestas metus.                                                                                                                          | 5/16/2019  |\n",
      "|           |            |         |                        |        |                                                                                                                                                                                                                                                                                                         |            |\n",
      "|           |            |         |                        |        |                                                                                 Aenean fermentum. Donec ut mauris eget massa tempor convallis. Nulla neque libero, convallis eget, eleifend luctus, ultricies eu, nibh.                                                                                 |            |\n",
      "|    609    |     97     |   234   |       12/13/2010       |   3    |                                                                                       Fusce posuere felis sed lacus. Morbi sem mauris, laoreet ut, rhoncus aliquet, pulvinar sed, nisl. Nunc rhoncus dui vel sem.                                                                                       |  7/5/2014  |\n",
      "|           |            |         |                        |        |                                                                                                                                                                                                                                                                                                         |            |\n",
      "|           |            |         |                        |        |                                                                        Sed sagittis. Nam congue, risus semper porta volutpat, quam pede lobortis ligula, sit amet eleifend pede libero quis orci. Nullam molestie nibh in lectus.                                                                       |            |\n",
      "|           |            |         |                        |        |                                                                                                                                                                                                                                                                                                         |            |\n",
      "|           |            |         |                        |        |                                                                                                           Pellentesque at nulla. Suspendisse potenti. Cras in purus eu magna vulputate luctus.                                                                                                          |            |\n",
      "|    975    |     16     |   816   |       9/21/2006        |   0    |                                                                                                               Nulla ut erat id mauris vulputate elementum. Nullam varius. Nulla facilisi.                                                                                                               |  5/9/2016  |\n",
      "|           |            |         |                        |        |                                                                                                                                                                                                                                                                                                         |            |\n",
      "|           |            |         |                        |        |                                                                                    Cras non velit nec nisi vulputate nonummy. Maecenas tincidunt lacus at velit. Vivamus vel nulla eget eros elementum pellentesque.                                                                                    |            |\n",
      "|    338    |     24     |   202   |       11/30/2010       |   0    |                                                                                                               Nulla ut erat id mauris vulputate elementum. Nullam varius. Nulla facilisi.                                                                                                               |  9/9/2013  |\n",
      "|           |            |         |                        |        |                                                                                                                                                                                                                                                                                                         |            |\n",
      "|           |            |         |                        |        |                                                                                    Cras non velit nec nisi vulputate nonummy. Maecenas tincidunt lacus at velit. Vivamus vel nulla eget eros elementum pellentesque.                                                                                    |            |\n",
      "|           |            |         |                        |        |                                                                                                                                                                                                                                                                                                         |            |\n",
      "|           |            |         |                        |        |                                                                                               Quisque porta volutpat erat. Quisque erat eros, viverra eget, congue eget, semper rutrum, nulla. Nunc purus.                                                                                              |            |\n",
      "|     83    |     58     |   439   |        2/5/2012        |   5    |                                                                                                         Lorem ipsum dolor sit amet, consectetuer adipiscing elit. Proin risus. Praesent lectus.                                                                                                         | 1/10/2017  |\n",
      "|           |            |         |                        |        |                                                                                                                                                                                                                                                                                                         |            |\n",
      "|           |            |         |                        |        |                                               Vestibulum quam sapien, varius ut, blandit non, interdum in, ante. Vestibulum ante ipsum primis in faucibus orci luctus et ultrices posuere cubilia Curae; Duis faucibus accumsan odio. Curabitur convallis.                                              |            |\n",
      "|    730    |     1      |   871   |        7/5/2006        |   5    |                                                                                                               Etiam vel augue. Vestibulum rutrum rutrum neque. Aenean auctor gravida sem.                                                                                                               | 8/18/2020  |\n",
      "|           |            |         |                        |        |                                                                                                                                                                                                                                                                                                         |            |\n",
      "|           |            |         |                        |        |                                                                                                            Praesent id massa id nisl venenatis lacinia. Aenean sit amet justo. Morbi ut odio.                                                                                                           |            |\n",
      "|    573    |     61     |   316   |       5/21/2009        |   0    |                                                                                                            Praesent id massa id nisl venenatis lacinia. Aenean sit amet justo. Morbi ut odio.                                                                                                           | 5/18/2017  |\n",
      "|    167    |     38     |   406   |       9/28/2009        |   5    |                                                                                            Aliquam quis turpis eget elit sodales scelerisque. Mauris sit amet eros. Suspendisse accumsan tortor quis turpis.                                                                                            |  3/6/2018  |\n",
      "|           |            |         |                        |        |                                                                                                                                                                                                                                                                                                         |            |\n",
      "|           |            |         |                        |        |                                                                                                                           Sed ante. Vivamus tortor. Duis mattis egestas metus.                                                                                                                          |            |\n",
      "|    880    |     71     |   562   |       11/20/2005       |   5    |                                                                                             Integer tincidunt ante vel ipsum. Praesent blandit lacinia erat. Vestibulum sed magna at nunc commodo placerat.                                                                                             | 5/28/2020  |\n",
      "|    790    |     7      |   179   |       2/11/2010        |   3    |                                                                                                                   Integer ac leo. Pellentesque ultrices mattis odio. Donec vitae nisi.                                                                                                                  | 3/18/2019  |\n",
      "|           |            |         |                        |        |                                                                                                                                                                                                                                                                                                         |            |\n",
      "|           |            |         |                        |        |                                                           Nam ultrices, libero non mattis pulvinar, nulla pede ullamcorper augue, a suscipit nulla elit ac nulla. Sed vel enim sit amet nunc viverra dapibus. Nulla suscipit ligula in lacus.                                                           |            |\n",
      "|     29    |     8      |   691   |       3/26/2006        |   5    |                                                                                                           Phasellus sit amet erat. Nulla tempus. Vivamus in felis eu sapien cursus vestibulum.                                                                                                          | 8/12/2018  |\n",
      "|           |            |         |                        |        |                                                                                                                                                                                                                                                                                                         |            |\n",
      "|           |            |         |                        |        |                                                                                  Proin eu mi. Nulla ac enim. In tempor, turpis nec euismod scelerisque, quam turpis adipiscing lorem, vitae mattis nibh ligula nec sem.                                                                                 |            |\n",
      "|    668    |     41     |    37   |        9/5/2005        |   5    |                                                           Nam ultrices, libero non mattis pulvinar, nulla pede ullamcorper augue, a suscipit nulla elit ac nulla. Sed vel enim sit amet nunc viverra dapibus. Nulla suscipit ligula in lacus.                                                           | 2/21/2015  |\n",
      "|     18    |     58     |   418   |       1/10/2009        |   0    |                                                                        Sed sagittis. Nam congue, risus semper porta volutpat, quam pede lobortis ligula, sit amet eleifend pede libero quis orci. Nullam molestie nibh in lectus.                                                                       | 5/21/2016  |\n",
      "|    675    |     20     |   369   |       1/10/2010        |   2    |                                                                                               Quisque porta volutpat erat. Quisque erat eros, viverra eget, congue eget, semper rutrum, nulla. Nunc purus.                                                                                              |  6/2/2012  |\n",
      "|           |            |         |                        |        |                                                                                                                                                                                                                                                                                                         |            |\n",
      "|           |            |         |                        |        |                                                                                                                        Phasellus in felis. Donec semper sapien a libero. Nam dui.                                                                                                                       |            |\n",
      "|    259    |     79     |   324   |       9/18/2006        |   3    |                                                                                  Maecenas leo odio, condimentum id, luctus nec, molestie sed, justo. Pellentesque viverra pede ac diam. Cras pellentesque volutpat dui.                                                                                 | 10/7/2012  |\n",
      "|           |            |         |                        |        |                                                                                                                                                                                                                                                                                                         |            |\n",
      "|           |            |         |                        |        |                            Maecenas tristique, est et tempus semper, est quam pharetra magna, ac consequat metus sapien ut nunc. Vestibulum ante ipsum primis in faucibus orci luctus et ultrices posuere cubilia Curae; Mauris viverra diam vitae quam. Suspendisse potenti.                           |            |\n",
      "|    853    |     92     |   685   |       3/30/2011        |   4    |                                                                                                            Praesent id massa id nisl venenatis lacinia. Aenean sit amet justo. Morbi ut odio.                                                                                                           | 10/4/2020  |\n",
      "|    401    |     90     |   298   |        7/1/2011        |   2    |                                                                             Curabitur in libero ut massa volutpat convallis. Morbi odio odio, elementum eu, interdum eu, tincidunt in, leo. Maecenas pulvinar lobortis est.                                                                             |  6/7/2018  |\n",
      "|           |            |         |                        |        |                                                                                                                                                                                                                                                                                                         |            |\n",
      "|           |            |         |                        |        |                                                                                                           Phasellus sit amet erat. Nulla tempus. Vivamus in felis eu sapien cursus vestibulum.                                                                                                          |            |\n",
      "|           |            |         |                        |        |                                                                                                                                                                                                                                                                                                         |            |\n",
      "|           |            |         |                        |        |                                                                                  Proin eu mi. Nulla ac enim. In tempor, turpis nec euismod scelerisque, quam turpis adipiscing lorem, vitae mattis nibh ligula nec sem.                                                                                 |            |\n",
      "|    401    |     80     |   240   |        6/4/2007        |   2    |                                                                                                In sagittis dui vel nisl. Duis ac nibh. Fusce lacus purus, aliquet at, feugiat non, pretium quis, lectus.                                                                                                | 12/14/2021 |\n",
      "|           |            |         |                        |        |                                                                                                                                                                                                                                                                                                         |            |\n",
      "|           |            |         |                        |        |                                                                                                             Suspendisse potenti. In eleifend quam a odio. In hac habitasse platea dictumst.                                                                                                             |            |\n",
      "|           |            |         |                        |        |                                                                                                                                                                                                                                                                                                         |            |\n",
      "|           |            |         |                        |        |                                                                                                       Maecenas ut massa quis augue luctus tincidunt. Nulla mollis molestie lorem. Quisque ut erat.                                                                                                      |            |\n",
      "|    752    |     66     |   914   |        9/2/2010        |   5    |                                                                         Cras mi pede, malesuada in, imperdiet et, commodo vulputate, justo. In blandit ultrices enim. Lorem ipsum dolor sit amet, consectetuer adipiscing elit.                                                                         | 11/21/2014 |\n",
      "|    298    |     38     |   607   |        1/2/2010        |   2    |                                                                                                          Aenean lectus. Pellentesque eget nunc. Donec quis orci eget orci vehicula condimentum.                                                                                                         | 1/26/2022  |\n",
      "|    675    |     9      |   417   |       2/19/2007        |   4    |                               Quisque id justo sit amet sapien dignissim vestibulum. Vestibulum ante ipsum primis in faucibus orci luctus et ultrices posuere cubilia Curae; Nulla dapibus dolor vel est. Donec odio justo, sollicitudin ut, suscipit a, feugiat et, eros.                              |  5/4/2014  |\n",
      "|           |            |         |                        |        |                                                                                                                                                                                                                                                                                                         |            |\n",
      "|           |            |         |                        |        |                                                             Vestibulum ac est lacinia nisi venenatis tristique. Fusce congue, diam id ornare imperdiet, sapien urna pretium nisl, ut volutpat sapien arcu sed augue. Aliquam erat volutpat.                                                             |            |\n",
      "|    164    |     26     |   237   |       10/12/2007       |   0    |                                                                                 Morbi non lectus. Aliquam sit amet diam in magna bibendum imperdiet. Nullam orci pede, venenatis non, sodales sed, tincidunt eu, felis.                                                                                 | 5/22/2013  |\n",
      "|           |            |         |                        |        |                                                                                                                                                                                                                                                                                                         |            |\n",
      "|           |            |         |                        |        |                                                                                       Fusce posuere felis sed lacus. Morbi sem mauris, laoreet ut, rhoncus aliquet, pulvinar sed, nisl. Nunc rhoncus dui vel sem.                                                                                       |            |\n",
      "|    427    |     77     |   585   |       5/20/2007        |   5    |                                                                        Sed sagittis. Nam congue, risus semper porta volutpat, quam pede lobortis ligula, sit amet eleifend pede libero quis orci. Nullam molestie nibh in lectus.                                                                       | 3/21/2016  |\n",
      "|           |            |         |                        |        |                                                                                                                                                                                                                                                                                                         |            |\n",
      "|           |            |         |                        |        |                                                                                                           Pellentesque at nulla. Suspendisse potenti. Cras in purus eu magna vulputate luctus.                                                                                                          |            |\n",
      "+-----------+------------+---------+------------------------+--------+---------------------------------------------------------------------------------------------------------------------------------------------------------------------------------------------------------------------------------------------------------------------------------------------------------+------------+\n"
     ]
    }
   ],
   "source": [
    "# Retrieve data from Reviews collection \n",
    "data_from_mongodb = review_collection.find()\n",
    "\n",
    "# Create a PrettyTable instance\n",
    "table = PrettyTable()\n",
    "table.field_names = [\"review_id\", \"product_id\", \"user_id\", \"user_registration_date\", \"rating\", \"review_text\", \"created_at\"]\n",
    "\n",
    "# Populate the table with data from MongoDB\n",
    "for data in data_from_mongodb:\n",
    "    table.add_row([data[\"review_id\"], data[\"product_id\"], data[\"user_id\"],data[\"user_registration_date\"], data[\"rating\"], data[\"review_text\"], data[\"created_at\"]])\n",
    "# Print the table\n",
    "print(table)"
   ]
  },
  {
   "cell_type": "markdown",
   "metadata": {},
   "source": [
    "### Read"
   ]
  },
  {
   "cell_type": "code",
   "execution_count": 97,
   "metadata": {},
   "outputs": [
    {
     "name": "stdout",
     "output_type": "stream",
     "text": [
      "The number of products having the rating as 1: 19\n"
     ]
    }
   ],
   "source": [
    "# Query for product having the ratings 1 \n",
    "query = {\"rating\": 1 }\n",
    "\n",
    "# Fetch data based on the query\n",
    "cursor = list(review_collection.find(query))\n",
    "print(\"The number of products having the rating as 1: \"+ str(len(cursor)))\n",
    "\n",
    "#cursor = review_collection.find(query)\n",
    "# Print the results\n",
    "#for user_data in cursor:\n",
    "#    print(user_data)"
   ]
  },
  {
   "cell_type": "markdown",
   "metadata": {},
   "source": [
    "### Update"
   ]
  },
  {
   "cell_type": "code",
   "execution_count": 160,
   "metadata": {},
   "outputs": [
    {
     "name": "stdout",
     "output_type": "stream",
     "text": [
      "Matched 1 document(s) and modified 1 document(s)\n"
     ]
    }
   ],
   "source": [
    "# Specify the review ID \n",
    "id_to_update = 55\n",
    "\n",
    "# Specifying the rating value\n",
    "new_rating = 2\n",
    "\n",
    "# Update the price for the specified product\n",
    "result = review_collection.update_one({\"review_id\": id_to_update}, {\"$set\": {\"rating\": new_rating }})\n",
    "\n",
    "# Print the update result\n",
    "print(f\"Matched {result.matched_count} document(s) and modified {result.modified_count} document(s)\")"
   ]
  },
  {
   "cell_type": "markdown",
   "metadata": {},
   "source": [
    "### Delete"
   ]
  },
  {
   "cell_type": "code",
   "execution_count": 155,
   "metadata": {},
   "outputs": [
    {
     "name": "stdout",
     "output_type": "stream",
     "text": [
      "Deleted 19 document(s) with the rating: 1\n"
     ]
    }
   ],
   "source": [
    "# Rating value to delete\n",
    "rating_value = 1\n",
    "\n",
    "# Delete the user with the specified payment status\n",
    "result = review_collection.delete_many({\"rating\": rating_value})\n",
    "\n",
    "# Print the deletion result\n",
    "print(f\"Deleted {result.deleted_count} document(s) with the rating: {rating_value}\")"
   ]
  },
  {
   "cell_type": "markdown",
   "metadata": {},
   "source": [
    "### Inventory "
   ]
  },
  {
   "cell_type": "markdown",
   "metadata": {},
   "source": [
    "### Create"
   ]
  },
  {
   "cell_type": "code",
   "execution_count": 99,
   "metadata": {},
   "outputs": [
    {
     "data": {
      "text/plain": [
       "<pymongo.results.DeleteResult at 0x115cfbbe0>"
      ]
     },
     "execution_count": 99,
     "metadata": {},
     "output_type": "execute_result"
    }
   ],
   "source": [
    "#inventory_collection.delete_many({})"
   ]
  },
  {
   "cell_type": "code",
   "execution_count": 100,
   "metadata": {},
   "outputs": [
    {
     "name": "stdout",
     "output_type": "stream",
     "text": [
      "<pymongo.results.InsertManyResult object at 0x115a84580>\n",
      "Data inserted successfully!\n"
     ]
    }
   ],
   "source": [
    "# Insert data into Inventory collection\n",
    "inventory_collection = db[\"Inventory\"]\n",
    "\n",
    "# Load mock data from a JSON file\n",
    "with open('inventory_mock_data.json', 'r') as file:\n",
    "    mock_data = json.load(file)\n",
    "\n",
    "insert_result = inventory_collection.insert_many(mock_data)\n",
    "\n",
    "print(insert_result)\n",
    "print(\"Data inserted successfully!\")"
   ]
  },
  {
   "cell_type": "code",
   "execution_count": 101,
   "metadata": {},
   "outputs": [
    {
     "name": "stdout",
     "output_type": "stream",
     "text": [
      "+------------+--------------+--------------------+----------------+---------------------+\n",
      "| product_id | inventory_id | warehouse_location | stock_quantity |      created_at     |\n",
      "+------------+--------------+--------------------+----------------+---------------------+\n",
      "|    257     |      1       |         MS         |      354       |  1/4/2018 21:31:20  |\n",
      "|    579     |      80      |         MS         |      955       |  6/2/2017 00:08:05  |\n",
      "|     78     |      65      |         FL         |      520       | 10/27/2017 13:06:17 |\n",
      "|    749     |      75      |         AZ         |      721       |  6/20/2018 13:07:23 |\n",
      "|    142     |      66      |         CT         |       18       |  1/30/2019 00:55:57 |\n",
      "|    176     |      73      |         MI         |      494       |  6/5/2006 09:06:51  |\n",
      "|    108     |      8       |         NV         |      609       |  9/11/2007 09:41:58 |\n",
      "|    345     |      17      |         IL         |      254       |  3/20/2013 01:58:29 |\n",
      "|    898     |      47      |         WI         |      333       |  2/25/2017 18:21:41 |\n",
      "|    330     |      48      |         IN         |      350       |  9/26/2017 04:35:24 |\n",
      "|    946     |      77      |         CA         |      572       |  4/18/2011 20:34:13 |\n",
      "|    384     |      52      |         MT         |      502       |  2/7/2017 10:12:42  |\n",
      "|    539     |      69      |         TX         |      918       | 12/17/2020 06:00:51 |\n",
      "|    363     |      36      |         TX         |      176       |  5/22/2005 23:00:07 |\n",
      "|    730     |      63      |         WA         |       96       |  3/6/2013 00:41:12  |\n",
      "|    244     |      29      |         RI         |      652       |  11/1/2011 02:51:49 |\n",
      "|    434     |      67      |         FL         |      493       |  8/24/2012 00:45:04 |\n",
      "|    507     |      20      |         WA         |      497       |  1/26/2014 19:09:34 |\n",
      "|    752     |      6       |         ID         |      135       |  5/4/2009 21:04:56  |\n",
      "|    802     |      30      |         CA         |      952       |  4/22/2017 13:06:15 |\n",
      "|    690     |      78      |         FL         |      976       |  6/30/2010 21:52:27 |\n",
      "|    416     |      67      |         IA         |       32       | 12/29/2015 09:49:41 |\n",
      "|    634     |      75      |         MD         |      707       |  4/28/2013 22:51:04 |\n",
      "|    401     |      4       |         FL         |      919       |  6/20/2011 10:20:53 |\n",
      "|    933     |      2       |         CA         |      426       |  3/27/2012 12:14:04 |\n",
      "|     8      |      45      |         LA         |       2        |  1/20/2019 20:10:25 |\n",
      "|    260     |      63      |         TX         |      833       |  4/10/2007 07:15:27 |\n",
      "|     59     |      47      |         CO         |      890       |  7/16/2012 01:46:55 |\n",
      "|    810     |      31      |         OH         |      220       |  2/20/2009 04:06:54 |\n",
      "|    963     |      32      |         GA         |      723       |  7/27/2006 12:08:00 |\n",
      "|    989     |      70      |         CA         |      461       |  4/5/2013 11:53:01  |\n",
      "|    112     |      27      |         NY         |      690       |  3/10/2013 16:14:16 |\n",
      "|     25     |      17      |         DE         |      780       |  4/15/2021 00:50:18 |\n",
      "|    110     |      53      |         ID         |      997       |  8/28/2009 19:33:43 |\n",
      "|    663     |      71      |         FL         |      421       | 10/26/2014 07:14:52 |\n",
      "|     62     |      48      |         FL         |      363       |  5/8/2005 12:05:30  |\n",
      "|    115     |      15      |         FL         |       21       |  1/24/2021 10:38:51 |\n",
      "|    344     |      30      |         TX         |      834       |  12/2/2013 13:38:16 |\n",
      "|    525     |      8       |         OH         |      805       | 11/18/2011 23:33:38 |\n",
      "|    551     |      25      |         TX         |      743       |  7/13/2020 15:49:57 |\n",
      "|    659     |      62      |         TX         |      717       |  9/13/2012 20:40:23 |\n",
      "|    294     |      49      |         DE         |      261       |  6/8/2007 16:28:34  |\n",
      "|    935     |      71      |         FL         |      485       |  12/2/2021 14:00:23 |\n",
      "|    250     |      74      |         IA         |      829       |  6/27/2016 04:30:48 |\n",
      "|    746     |      31      |         UT         |      639       |  2/15/2016 12:03:48 |\n",
      "|    790     |      8       |         NC         |      985       |  6/26/2020 06:49:38 |\n",
      "|     45     |      69      |         FL         |       26       |  7/19/2008 19:17:48 |\n",
      "|    550     |      56      |         AZ         |      499       | 11/28/2021 01:55:00 |\n",
      "|    879     |      26      |         TX         |      392       |  5/13/2010 09:10:34 |\n",
      "|    809     |      18      |         AL         |      215       |  6/27/2006 11:21:55 |\n",
      "|    407     |      4       |         TX         |      811       |  10/1/2020 21:50:22 |\n",
      "|    693     |      13      |         VA         |      144       |  3/11/2007 00:37:51 |\n",
      "|    916     |      2       |         CO         |       26       |  5/24/2005 10:32:22 |\n",
      "|    340     |      58      |         FL         |      835       |  1/8/2017 15:49:56  |\n",
      "|    199     |      60      |         AZ         |      662       |  1/26/2011 04:33:31 |\n",
      "|     56     |      16      |         DC         |      218       |  6/11/2013 14:40:36 |\n",
      "|    690     |      67      |         PA         |      950       |  5/14/2017 06:10:53 |\n",
      "|    389     |      40      |         AL         |      706       | 10/27/2011 02:09:50 |\n",
      "|    289     |      49      |         VA         |      287       |  2/1/2014 03:14:00  |\n",
      "|    744     |      70      |         NJ         |      215       |  1/9/2009 08:51:27  |\n",
      "|    491     |      31      |         IL         |      856       |  8/21/2014 11:01:29 |\n",
      "|    969     |      52      |         UT         |      741       |  1/30/2010 01:13:31 |\n",
      "|    319     |      79      |         NY         |      846       | 11/16/2012 12:47:14 |\n",
      "|    371     |      34      |         DC         |      723       |  2/14/2011 14:31:53 |\n",
      "|    448     |      71      |         KS         |       86       |  8/25/2009 07:05:16 |\n",
      "|     27     |      42      |         OK         |      585       |  4/27/2020 07:02:41 |\n",
      "|    562     |      32      |         CO         |      981       |  9/16/2015 02:21:33 |\n",
      "|    623     |      35      |         NJ         |      447       |  5/18/2018 19:28:34 |\n",
      "|    931     |      31      |         FL         |      850       |  7/11/2008 12:57:40 |\n",
      "|    349     |      27      |         LA         |      260       |  9/3/2018 04:55:04  |\n",
      "|    948     |      74      |         CA         |      918       |  7/31/2016 02:52:37 |\n",
      "|    786     |      78      |         NY         |      977       |  8/13/2019 15:40:17 |\n",
      "|    780     |      38      |         VT         |      612       |  7/20/2014 04:08:46 |\n",
      "|    609     |      34      |         CA         |      365       |  2/19/2015 18:03:41 |\n",
      "|    670     |      30      |         IA         |      694       |  8/17/2008 03:47:38 |\n",
      "|    468     |      29      |         VA         |      445       | 12/16/2013 01:51:06 |\n",
      "|    409     |      17      |         TX         |      163       |  4/5/2015 09:25:11  |\n",
      "|     30     |      66      |         SC         |      558       |  6/13/2021 12:14:22 |\n",
      "|    728     |      66      |         FL         |      692       |  7/24/2011 10:38:37 |\n",
      "|    133     |      5       |         LA         |      697       |  2/22/2011 20:00:54 |\n",
      "|    772     |      71      |         TX         |      669       |  4/8/2007 10:49:23  |\n",
      "|    159     |      61      |         MA         |      308       |  7/15/2005 12:18:20 |\n",
      "|    523     |      72      |         KY         |      529       |  4/13/2015 23:43:23 |\n",
      "|    872     |      21      |         OH         |       20       |  9/7/2016 22:00:35  |\n",
      "|    987     |      8       |         FL         |      965       |  6/12/2012 17:09:05 |\n",
      "|    845     |      45      |         MN         |      501       |  9/25/2016 09:06:54 |\n",
      "|    181     |      79      |         WV         |      338       |  2/14/2017 02:47:17 |\n",
      "|     82     |      62      |         TX         |      151       | 11/17/2008 12:53:49 |\n",
      "|    205     |      20      |         TX         |      733       |  8/24/2006 19:52:33 |\n",
      "|    781     |      0       |         DC         |      701       | 10/11/2013 14:05:34 |\n",
      "|    347     |      4       |         VA         |      806       |  6/13/2016 18:10:20 |\n",
      "|    741     |      15      |         TX         |      782       |  8/3/2020 19:22:33  |\n",
      "|    317     |      21      |         PA         |      983       |  3/30/2005 20:20:21 |\n",
      "|    945     |      43      |         VA         |      724       | 12/23/2018 07:57:21 |\n",
      "|    100     |      26      |         NV         |      618       |  2/8/2022 18:04:51  |\n",
      "|    245     |      25      |         NV         |      112       | 10/14/2015 23:21:16 |\n",
      "|     22     |      14      |         NY         |      409       | 12/22/2006 07:18:23 |\n",
      "|    240     |      23      |         CA         |      445       | 10/25/2021 09:45:52 |\n",
      "|    377     |      39      |         OK         |      896       |  5/29/2005 04:31:43 |\n",
      "|    275     |      1       |         NJ         |      152       |  4/4/2018 18:00:44  |\n",
      "+------------+--------------+--------------------+----------------+---------------------+\n"
     ]
    }
   ],
   "source": [
    "# Retrieve data from Inventory collection \n",
    "data_from_mongodb = inventory_collection.find()\n",
    "\n",
    "# Create a PrettyTable instance\n",
    "table = PrettyTable()\n",
    "table.field_names = [\"product_id\", \"inventory_id\", \"warehouse_location\", \"stock_quantity\", \"created_at\" ]\n",
    "\n",
    "# Populate the table with data from MongoDB\n",
    "for data in data_from_mongodb:\n",
    "    table.add_row([data[\"product_id\"], data[\"inventory_id\"], data[\"warehouse_location\"],data[\"stock_quantity\"], data[\"created_at\"]])\n",
    "# Print the table\n",
    "print(table)"
   ]
  },
  {
   "cell_type": "markdown",
   "metadata": {},
   "source": [
    "### Read"
   ]
  },
  {
   "cell_type": "code",
   "execution_count": 103,
   "metadata": {},
   "outputs": [
    {
     "name": "stdout",
     "output_type": "stream",
     "text": [
      "The number of products having the rating as 1: 3\n",
      "{'_id': ObjectId('655260597f69c7083d39f7ea'), 'product_id': 749, 'inventory_id': 75, 'warehouse_location': 'AZ', 'stock_quantity': 721, 'created_at': '6/20/2018 13:07:23'}\n",
      "{'_id': ObjectId('655260597f69c7083d39f816'), 'product_id': 550, 'inventory_id': 56, 'warehouse_location': 'AZ', 'stock_quantity': 499, 'created_at': '11/28/2021 01:55:00'}\n",
      "{'_id': ObjectId('655260597f69c7083d39f81d'), 'product_id': 199, 'inventory_id': 60, 'warehouse_location': 'AZ', 'stock_quantity': 662, 'created_at': '1/26/2011 04:33:31'}\n"
     ]
    }
   ],
   "source": [
    "# Query for inventory in AZ \n",
    "query = {\"warehouse_location\": 'AZ' }\n",
    "\n",
    "# Fetch data based on the query\n",
    "cursor = list(inventory_collection.find(query))\n",
    "print(\"The number of products having the rating as 1: \"+ str(len(cursor)))\n",
    "\n",
    "cursor = inventory_collection.find(query)\n",
    "# Print the results\n",
    "for user_data in cursor:\n",
    "    print(user_data)"
   ]
  },
  {
   "cell_type": "markdown",
   "metadata": {},
   "source": [
    "### Update"
   ]
  },
  {
   "cell_type": "code",
   "execution_count": 165,
   "metadata": {},
   "outputs": [
    {
     "name": "stdout",
     "output_type": "stream",
     "text": [
      "Matched 1 document(s) and modified 1 document(s)\n"
     ]
    }
   ],
   "source": [
    "# Specify the inventory ID \n",
    "id_to_update = 65\n",
    "\n",
    "# Specifying the other value\n",
    "new_stock = 635\n",
    "\n",
    "# Update the price for the specified product\n",
    "result = inventory_collection.update_one({\"inventory_id\": id_to_update}, {\"$set\": {\"stock_quantity\": new_stock }})\n",
    "\n",
    "# Print the update result\n",
    "print(f\"Matched {result.matched_count} document(s) and modified {result.modified_count} document(s)\")"
   ]
  },
  {
   "cell_type": "markdown",
   "metadata": {},
   "source": [
    "### Delete"
   ]
  },
  {
   "cell_type": "code",
   "execution_count": 163,
   "metadata": {},
   "outputs": [
    {
     "name": "stdout",
     "output_type": "stream",
     "text": [
      "Deleted 2 document(s) with the warehouse location: AL\n"
     ]
    }
   ],
   "source": [
    "# Warehouse location you want to delete\n",
    "warehouse_update = 'AL'\n",
    "\n",
    "# Delete the user with the specified payment status\n",
    "result = inventory_collection.delete_many({\"warehouse_location\": warehouse_update})\n",
    "\n",
    "# Print the deletion result\n",
    "print(f\"Deleted {result.deleted_count} document(s) with the warehouse location: {warehouse_update}\")"
   ]
  },
  {
   "cell_type": "markdown",
   "metadata": {},
   "source": [
    "### Shipping"
   ]
  },
  {
   "cell_type": "markdown",
   "metadata": {},
   "source": [
    "### Create"
   ]
  },
  {
   "cell_type": "code",
   "execution_count": 108,
   "metadata": {},
   "outputs": [
    {
     "data": {
      "text/plain": [
       "<pymongo.results.DeleteResult at 0x115d0c5b0>"
      ]
     },
     "execution_count": 108,
     "metadata": {},
     "output_type": "execute_result"
    }
   ],
   "source": [
    "#shipping_collection.delete_many({})"
   ]
  },
  {
   "cell_type": "code",
   "execution_count": 109,
   "metadata": {},
   "outputs": [
    {
     "name": "stdout",
     "output_type": "stream",
     "text": [
      "<pymongo.results.InsertManyResult object at 0x115deafe0>\n",
      "Data inserted successfully!\n"
     ]
    }
   ],
   "source": [
    "# Insert data into Shipping collection\n",
    "shipping_collection = db[\"Shipping\"]\n",
    "\n",
    "# Load mock data from a JSON file\n",
    "with open('shipping_mock_data.json', 'r') as file:\n",
    "    mock_data = json.load(file)\n",
    "\n",
    "insert_result = shipping_collection.insert_many(mock_data)\n",
    "\n",
    "print(insert_result)\n",
    "print(\"Data inserted successfully!\")"
   ]
  },
  {
   "cell_type": "code",
   "execution_count": 110,
   "metadata": {},
   "outputs": [
    {
     "name": "stdout",
     "output_type": "stream",
     "text": [
      "+-------------+----------+------------------+------------+------------------------+----------------+\n",
      "| shipping_id | order_id |      status      | ship_date  | estimated_arrival_date | delivered_date |\n",
      "+-------------+----------+------------------+------------+------------------------+----------------+\n",
      "|      1      |    1     |    in_transit    | 9/25/2007  |        1/1/2015        |    7/4/2005    |\n",
      "|      2      |    2     |    in_transit    | 9/26/2018  |       12/6/2007        |   7/29/2010    |\n",
      "|      3      |    3     | awaiting_pickup  | 9/28/2013  |       11/27/2011       |   7/27/2017    |\n",
      "|      4      |    4     |   order_packed   | 1/13/2007  |       11/13/2015       |   5/12/2012    |\n",
      "|      5      |    5     |    in_transit    | 5/28/2007  |       1/28/2010        |   7/10/2019    |\n",
      "|      6      |    6     |   order_packed   | 7/20/2021  |       5/27/2014        |   1/31/2007    |\n",
      "|      7      |    7     |   order_packed   | 7/29/2009  |       12/27/2015       |   3/23/2007    |\n",
      "|      8      |    8     | out_for_delivery | 8/19/2020  |        2/1/2018        |    4/4/2014    |\n",
      "|      9      |    9     | awaiting_pickup  |  6/9/2005  |       12/18/2016       |   11/20/2018   |\n",
      "|      10     |    10    |    delivered     |  9/1/2012  |       3/19/2008        |   5/29/2016    |\n",
      "|      11     |    11    |   order_packed   |  6/6/2020  |        6/4/2018        |    9/3/2016    |\n",
      "|      12     |    12    | awaiting_pickup  | 9/21/2008  |       12/10/2021       |   6/28/2017    |\n",
      "|      13     |    13    |    delivered     |  8/8/2017  |       11/9/2009        |   12/27/2010   |\n",
      "|      14     |    14    | out_for_delivery | 9/25/2009  |        2/7/2006        |    5/5/2006    |\n",
      "|      15     |    15    |   order_packed   |  6/4/2012  |       11/10/2015       |   2/17/2012    |\n",
      "|      16     |    16    | awaiting_pickup  | 6/17/2008  |       1/22/2012        |   3/25/2021    |\n",
      "|      17     |    17    |    in_transit    | 3/31/2012  |       8/23/2013        |   11/8/2012    |\n",
      "|      18     |    18    |    in_transit    | 3/23/2016  |       12/20/2015       |   12/7/2011    |\n",
      "|      19     |    19    |   order_packed   | 10/16/2006 |       5/15/2009        |   8/30/2018    |\n",
      "|      20     |    20    | out_for_delivery | 10/10/2012 |       5/30/2019        |   8/30/2007    |\n",
      "|      21     |    21    | awaiting_pickup  |  4/4/2020  |       1/22/2007        |    1/4/2009    |\n",
      "|      22     |    22    | out_for_delivery | 9/24/2014  |       7/10/2006        |   12/21/2017   |\n",
      "|      23     |    23    | awaiting_pickup  | 1/29/2017  |       9/11/2009        |   8/12/2009    |\n",
      "|      24     |    24    |    in_transit    | 8/14/2011  |       5/24/2020        |   10/13/2011   |\n",
      "|      25     |    25    |    delivered     |  1/2/2020  |        2/4/2008        |   5/15/2020    |\n",
      "|      26     |    26    |   order_packed   | 11/4/2012  |       1/12/2021        |   8/21/2007    |\n",
      "|      27     |    27    | awaiting_pickup  | 6/19/2005  |       12/15/2008       |   9/21/2014    |\n",
      "|      28     |    28    | awaiting_pickup  | 4/18/2013  |        8/6/2009        |   7/23/2017    |\n",
      "|      29     |    29    | out_for_delivery | 12/3/2009  |       11/1/2009        |    7/4/2010    |\n",
      "|      30     |    30    |    delivered     |  5/1/2018  |       7/13/2015        |   4/29/2007    |\n",
      "|      31     |    31    | awaiting_pickup  | 1/26/2014  |       6/22/2013        |   11/23/2008   |\n",
      "|      32     |    32    |    in_transit    | 3/13/2006  |        9/9/2006        |   3/20/2017    |\n",
      "|      33     |    33    | awaiting_pickup  | 6/20/2016  |       8/24/2007        |   3/14/2008    |\n",
      "|      34     |    34    | out_for_delivery |  5/1/2020  |        9/7/2020        |   7/30/2018    |\n",
      "|      35     |    35    |    delivered     |  4/5/2008  |       6/13/2010        |   11/1/2007    |\n",
      "|      36     |    36    |    in_transit    | 9/26/2018  |       5/18/2008        |   6/24/2014    |\n",
      "|      37     |    37    |    delivered     | 2/15/2014  |        8/4/2009        |    2/1/2021    |\n",
      "|      38     |    38    |   order_packed   | 12/14/2016 |       8/28/2008        |   2/14/2015    |\n",
      "|      39     |    39    |   order_packed   |  2/2/2010  |       8/23/2012        |   9/24/2005    |\n",
      "|      40     |    40    |   order_packed   | 10/3/2020  |        6/4/2012        |    2/3/2019    |\n",
      "|      41     |    41    |   order_packed   | 6/18/2020  |       4/12/2006        |   12/24/2008   |\n",
      "|      42     |    42    | awaiting_pickup  | 3/18/2009  |       9/30/2018        |    8/5/2014    |\n",
      "|      43     |    43    | awaiting_pickup  |  9/8/2021  |       9/29/2016        |   3/30/2006    |\n",
      "|      44     |    44    | awaiting_pickup  | 6/15/2018  |        5/8/2020        |   7/16/2015    |\n",
      "|      45     |    45    |    delivered     | 1/25/2006  |       8/14/2011        |    9/4/2005    |\n",
      "|      46     |    46    |    delivered     | 6/27/2012  |       10/15/2017       |   11/22/2017   |\n",
      "|      47     |    47    |    delivered     | 5/27/2017  |        6/7/2005        |   5/20/2014    |\n",
      "|      48     |    48    |    delivered     | 2/26/2019  |        6/8/2007        |   3/21/2018    |\n",
      "|      49     |    49    | out_for_delivery | 3/27/2011  |       5/27/2007        |   1/16/2007    |\n",
      "|      50     |    50    |    in_transit    | 3/25/2015  |        7/7/2012        |   7/22/2005    |\n",
      "|      51     |    51    | awaiting_pickup  |  8/1/2012  |       12/13/2007       |   7/29/2013    |\n",
      "|      52     |    52    | awaiting_pickup  | 11/5/2016  |       11/4/2010        |   10/1/2021    |\n",
      "|      53     |    53    |    delivered     | 12/5/2006  |       9/13/2011        |   4/24/2005    |\n",
      "|      54     |    54    | out_for_delivery | 7/28/2008  |       10/22/2012       |   3/26/2016    |\n",
      "|      55     |    55    | awaiting_pickup  | 11/12/2011 |       12/30/2011       |   1/19/2022    |\n",
      "|      56     |    56    |    in_transit    | 1/30/2021  |       3/15/2020        |   1/25/2009    |\n",
      "|      57     |    57    |    in_transit    | 11/19/2006 |       12/27/2011       |    6/7/2009    |\n",
      "|      58     |    58    |   order_packed   | 5/30/2009  |       3/15/2011        |   4/11/2008    |\n",
      "|      59     |    59    |   order_packed   |  1/4/2016  |       7/27/2021        |   10/3/2006    |\n",
      "|      60     |    60    |    in_transit    |  1/2/2014  |       3/21/2017        |    2/6/2008    |\n",
      "|      61     |    61    |    delivered     | 11/11/2014 |       12/31/2013       |   5/18/2012    |\n",
      "|      62     |    62    | out_for_delivery |  7/1/2006  |       10/24/2006       |   1/16/2009    |\n",
      "|      63     |    63    |   order_packed   | 4/21/2017  |       5/20/2014        |   10/26/2020   |\n",
      "|      64     |    64    | awaiting_pickup  | 12/6/2018  |       7/22/2012        |   10/6/2010    |\n",
      "|      65     |    65    | out_for_delivery | 8/19/2015  |       4/11/2013        |   2/25/2014    |\n",
      "|      66     |    66    |    in_transit    | 5/28/2014  |        8/3/2007        |   11/28/2011   |\n",
      "|      67     |    67    |    in_transit    | 6/29/2019  |        5/8/2013        |   5/17/2005    |\n",
      "|      68     |    68    |    in_transit    | 12/19/2006 |       1/27/2010        |   11/28/2018   |\n",
      "|      69     |    69    | awaiting_pickup  | 8/30/2014  |       10/28/2005       |   5/15/2017    |\n",
      "|      70     |    70    |    in_transit    | 3/28/2007  |       2/27/2020        |   12/1/2010    |\n",
      "|      71     |    71    |   order_packed   | 3/26/2005  |       9/19/2021        |   11/15/2009   |\n",
      "|      72     |    72    | awaiting_pickup  | 10/12/2006 |       8/20/2016        |   3/24/2016    |\n",
      "|      73     |    73    | out_for_delivery |  5/6/2014  |        9/2/2010        |   12/8/2008    |\n",
      "|      74     |    74    | awaiting_pickup  | 1/13/2017  |       1/18/2013        |   9/29/2018    |\n",
      "|      75     |    75    | awaiting_pickup  |  8/1/2014  |       1/26/2007        |   5/29/2010    |\n",
      "|      76     |    76    | out_for_delivery | 12/19/2008 |        2/9/2016        |   7/11/2019    |\n",
      "|      77     |    77    | out_for_delivery | 2/16/2022  |       3/14/2015        |   6/26/2006    |\n",
      "|      78     |    78    | out_for_delivery | 9/10/2020  |       10/30/2005       |   11/24/2011   |\n",
      "|      79     |    79    |    delivered     | 8/12/2012  |       4/25/2008        |   12/8/2017    |\n",
      "|      80     |    80    |    delivered     | 2/12/2015  |       12/31/2005       |   4/29/2014    |\n",
      "|      81     |    81    |    delivered     | 4/24/2015  |       3/21/2017        |   11/5/2013    |\n",
      "|      82     |    82    |    in_transit    | 1/31/2010  |       6/26/2008        |   8/20/2005    |\n",
      "|      83     |    83    |   order_packed   | 1/17/2019  |        3/8/2006        |   11/7/2005    |\n",
      "|      84     |    84    | awaiting_pickup  | 3/11/2016  |        1/2/2018        |   11/14/2020   |\n",
      "|      85     |    85    | awaiting_pickup  |  8/7/2009  |        8/2/2006        |   10/5/2005    |\n",
      "|      86     |    86    |    delivered     | 1/28/2012  |       12/10/2008       |    8/6/2011    |\n",
      "|      87     |    87    |   order_packed   |  8/3/2018  |       10/19/2011       |   5/14/2006    |\n",
      "|      88     |    88    | out_for_delivery | 10/17/2006 |       11/4/2012        |    8/5/2018    |\n",
      "|      89     |    89    |    delivered     | 4/26/2007  |       2/23/2017        |   10/25/2007   |\n",
      "|      90     |    90    | out_for_delivery | 10/6/2020  |       3/31/2005        |   6/30/2017    |\n",
      "|      91     |    91    |    delivered     | 2/21/2014  |       9/20/2020        |   2/25/2011    |\n",
      "|      92     |    92    | out_for_delivery | 10/10/2006 |       7/30/2019        |   11/11/2018   |\n",
      "|      93     |    93    |   order_packed   |  6/5/2014  |       5/20/2005        |   3/20/2014    |\n",
      "|      94     |    94    | out_for_delivery | 8/18/2021  |       1/28/2008        |   1/28/2012    |\n",
      "|      95     |    95    | awaiting_pickup  | 8/10/2017  |        9/6/2010        |    7/1/2011    |\n",
      "|      96     |    96    | out_for_delivery | 3/19/2010  |       6/13/2013        |   11/22/2010   |\n",
      "|      97     |    97    |    delivered     | 12/31/2012 |        3/4/2013        |   7/10/2011    |\n",
      "|      98     |    98    | awaiting_pickup  | 5/31/2018  |       4/30/2007        |    9/8/2020    |\n",
      "|      99     |    99    | awaiting_pickup  |  1/4/2017  |       12/9/2009        |    3/6/2012    |\n",
      "|     100     |   100    |    in_transit    | 10/21/2010 |       11/6/2008        |    1/3/2020    |\n",
      "+-------------+----------+------------------+------------+------------------------+----------------+\n"
     ]
    }
   ],
   "source": [
    "# Retrieve data from Shipping collection \n",
    "data_from_mongodb = shipping_collection.find()\n",
    "\n",
    "# Create a PrettyTable instance\n",
    "table = PrettyTable()\n",
    "table.field_names = [\"shipping_id\", \"order_id\", \"status\", \"ship_date\", \"estimated_arrival_date\", \"delivered_date\" ]\n",
    "\n",
    "# Populate the table with data from MongoDB\n",
    "for data in data_from_mongodb:\n",
    "    table.add_row([data[\"shipping_id\"], data[\"order_id\"], data[\"status\"],data[\"ship_date\"], data[\"estimated_arrival_date\"], data[\"delivered_date\"]])\n",
    "# Print the table\n",
    "print(table)"
   ]
  },
  {
   "cell_type": "markdown",
   "metadata": {},
   "source": [
    "### Read"
   ]
  },
  {
   "cell_type": "code",
   "execution_count": 111,
   "metadata": {},
   "outputs": [
    {
     "name": "stdout",
     "output_type": "stream",
     "text": [
      "The order that has been delivered: 19\n",
      "{'_id': ObjectId('6552616e7f69c7083d39f8b8'), 'shipping_id': 10, 'order_id': 10, 'status': 'delivered', 'ship_date': '9/1/2012', 'estimated_arrival_date': '3/19/2008', 'delivered_date': '5/29/2016'}\n",
      "{'_id': ObjectId('6552616e7f69c7083d39f8bb'), 'shipping_id': 13, 'order_id': 13, 'status': 'delivered', 'ship_date': '8/8/2017', 'estimated_arrival_date': '11/9/2009', 'delivered_date': '12/27/2010'}\n",
      "{'_id': ObjectId('6552616e7f69c7083d39f8c7'), 'shipping_id': 25, 'order_id': 25, 'status': 'delivered', 'ship_date': '1/2/2020', 'estimated_arrival_date': '2/4/2008', 'delivered_date': '5/15/2020'}\n",
      "{'_id': ObjectId('6552616e7f69c7083d39f8cc'), 'shipping_id': 30, 'order_id': 30, 'status': 'delivered', 'ship_date': '5/1/2018', 'estimated_arrival_date': '7/13/2015', 'delivered_date': '4/29/2007'}\n",
      "{'_id': ObjectId('6552616e7f69c7083d39f8d1'), 'shipping_id': 35, 'order_id': 35, 'status': 'delivered', 'ship_date': '4/5/2008', 'estimated_arrival_date': '6/13/2010', 'delivered_date': '11/1/2007'}\n",
      "{'_id': ObjectId('6552616e7f69c7083d39f8d3'), 'shipping_id': 37, 'order_id': 37, 'status': 'delivered', 'ship_date': '2/15/2014', 'estimated_arrival_date': '8/4/2009', 'delivered_date': '2/1/2021'}\n",
      "{'_id': ObjectId('6552616e7f69c7083d39f8db'), 'shipping_id': 45, 'order_id': 45, 'status': 'delivered', 'ship_date': '1/25/2006', 'estimated_arrival_date': '8/14/2011', 'delivered_date': '9/4/2005'}\n",
      "{'_id': ObjectId('6552616e7f69c7083d39f8dc'), 'shipping_id': 46, 'order_id': 46, 'status': 'delivered', 'ship_date': '6/27/2012', 'estimated_arrival_date': '10/15/2017', 'delivered_date': '11/22/2017'}\n",
      "{'_id': ObjectId('6552616e7f69c7083d39f8dd'), 'shipping_id': 47, 'order_id': 47, 'status': 'delivered', 'ship_date': '5/27/2017', 'estimated_arrival_date': '6/7/2005', 'delivered_date': '5/20/2014'}\n",
      "{'_id': ObjectId('6552616e7f69c7083d39f8de'), 'shipping_id': 48, 'order_id': 48, 'status': 'delivered', 'ship_date': '2/26/2019', 'estimated_arrival_date': '6/8/2007', 'delivered_date': '3/21/2018'}\n",
      "{'_id': ObjectId('6552616e7f69c7083d39f8e3'), 'shipping_id': 53, 'order_id': 53, 'status': 'delivered', 'ship_date': '12/5/2006', 'estimated_arrival_date': '9/13/2011', 'delivered_date': '4/24/2005'}\n",
      "{'_id': ObjectId('6552616e7f69c7083d39f8eb'), 'shipping_id': 61, 'order_id': 61, 'status': 'delivered', 'ship_date': '11/11/2014', 'estimated_arrival_date': '12/31/2013', 'delivered_date': '5/18/2012'}\n",
      "{'_id': ObjectId('6552616e7f69c7083d39f8fd'), 'shipping_id': 79, 'order_id': 79, 'status': 'delivered', 'ship_date': '8/12/2012', 'estimated_arrival_date': '4/25/2008', 'delivered_date': '12/8/2017'}\n",
      "{'_id': ObjectId('6552616e7f69c7083d39f8fe'), 'shipping_id': 80, 'order_id': 80, 'status': 'delivered', 'ship_date': '2/12/2015', 'estimated_arrival_date': '12/31/2005', 'delivered_date': '4/29/2014'}\n",
      "{'_id': ObjectId('6552616e7f69c7083d39f8ff'), 'shipping_id': 81, 'order_id': 81, 'status': 'delivered', 'ship_date': '4/24/2015', 'estimated_arrival_date': '3/21/2017', 'delivered_date': '11/5/2013'}\n",
      "{'_id': ObjectId('6552616e7f69c7083d39f904'), 'shipping_id': 86, 'order_id': 86, 'status': 'delivered', 'ship_date': '1/28/2012', 'estimated_arrival_date': '12/10/2008', 'delivered_date': '8/6/2011'}\n",
      "{'_id': ObjectId('6552616e7f69c7083d39f907'), 'shipping_id': 89, 'order_id': 89, 'status': 'delivered', 'ship_date': '4/26/2007', 'estimated_arrival_date': '2/23/2017', 'delivered_date': '10/25/2007'}\n",
      "{'_id': ObjectId('6552616e7f69c7083d39f909'), 'shipping_id': 91, 'order_id': 91, 'status': 'delivered', 'ship_date': '2/21/2014', 'estimated_arrival_date': '9/20/2020', 'delivered_date': '2/25/2011'}\n",
      "{'_id': ObjectId('6552616e7f69c7083d39f90f'), 'shipping_id': 97, 'order_id': 97, 'status': 'delivered', 'ship_date': '12/31/2012', 'estimated_arrival_date': '3/4/2013', 'delivered_date': '7/10/2011'}\n"
     ]
    }
   ],
   "source": [
    "# Query for status being delivered \n",
    "query = {\"status\": 'delivered' }\n",
    "\n",
    "# Fetch data based on the query\n",
    "cursor = list(shipping_collection.find(query))\n",
    "print(\"The order that has been delivered: \"+ str(len(cursor)))\n",
    "\n",
    "cursor = shipping_collection.find(query)\n",
    "# Print the results\n",
    "for user_data in cursor:\n",
    "    print(user_data)"
   ]
  },
  {
   "cell_type": "markdown",
   "metadata": {},
   "source": [
    "### Update"
   ]
  },
  {
   "cell_type": "code",
   "execution_count": 168,
   "metadata": {},
   "outputs": [
    {
     "name": "stdout",
     "output_type": "stream",
     "text": [
      "Matched 26 document(s) and modified 26 document(s)\n"
     ]
    }
   ],
   "source": [
    "# Specify the shipping status to be awaiting_pickup\n",
    "status_to_update = 'awaiting_pickup'\n",
    "\n",
    "# Updating the value to 'in_transit'\n",
    "new_status = 'in_transit'\n",
    "\n",
    "# Update the price for the specified product\n",
    "result = shipping_collection.update_many({\"status\": status_to_update}, {\"$set\": {\"status\": new_status }})\n",
    "\n",
    "# Print the update result\n",
    "print(f\"Matched {result.matched_count} document(s) and modified {result.modified_count} document(s)\")"
   ]
  },
  {
   "cell_type": "markdown",
   "metadata": {},
   "source": [
    "### Delete"
   ]
  },
  {
   "cell_type": "code",
   "execution_count": 166,
   "metadata": {},
   "outputs": [
    {
     "name": "stdout",
     "output_type": "stream",
     "text": [
      "Deleted 19 document(s) with the warehouse location: delivered\n"
     ]
    }
   ],
   "source": [
    "# Status 'delivered' is to be deleted\n",
    "status_to_delete = 'delivered'\n",
    "\n",
    "# Delete the user with the specified payment status\n",
    "result = shipping_collection.delete_many({\"status\": status_to_delete})\n",
    "\n",
    "# Print the deletion result\n",
    "print(f\"Deleted {result.deleted_count} document(s) with the warehouse location: {status_to_delete}\")"
   ]
  }
 ],
 "metadata": {
  "kernelspec": {
   "display_name": "Python 3.11.6 64-bit",
   "language": "python",
   "name": "python3"
  },
  "language_info": {
   "codemirror_mode": {
    "name": "ipython",
    "version": 3
   },
   "file_extension": ".py",
   "mimetype": "text/x-python",
   "name": "python",
   "nbconvert_exporter": "python",
   "pygments_lexer": "ipython3",
   "version": "3.11.6"
  },
  "orig_nbformat": 4,
  "vscode": {
   "interpreter": {
    "hash": "b0fa6594d8f4cbf19f97940f81e996739fb7646882a419484c72d19e05852a7e"
   }
  }
 },
 "nbformat": 4,
 "nbformat_minor": 2
}
